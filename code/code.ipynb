{
 "cells": [
  {
   "cell_type": "code",
   "metadata": {
    "ExecuteTime": {
     "end_time": "2024-11-28T17:42:49.024804Z",
     "start_time": "2024-11-28T17:42:49.016145Z"
    }
   },
   "source": [
    "import warnings\n",
    "\n",
    "warnings.filterwarnings(\"ignore\")\n",
    "\n",
    "import os\n",
    "import sys\n",
    "import time\n",
    "\n",
    "import pandas as pd\n",
    "import numpy as np"
   ],
   "outputs": [],
   "execution_count": 30
  },
  {
   "cell_type": "markdown",
   "metadata": {},
   "source": [
    "## Part a: Extracting Language Features"
   ]
  },
  {
   "cell_type": "code",
   "metadata": {
    "ExecuteTime": {
     "end_time": "2024-11-28T17:42:49.726914Z",
     "start_time": "2024-11-28T17:42:49.666659Z"
    }
   },
   "source": [
    "# the interview data (sheet 1)\n",
    "interview_data = pd.read_excel(\n",
    "    \"../data/DAIC_demographic_data.xlsx\",\n",
    "    sheet_name=\"Interview_Data\",\n",
    "    skiprows=lambda x: x == 1,\n",
    ")\n",
    "# drop the rows where data in column Partic# is NaN\n",
    "interview_data = interview_data.dropna(subset=[\"Partic#\"])\n",
    "print(interview_data.tail())\n",
    "\n",
    "# the phq score data (sheet 2)\n",
    "phq_score = pd.read_excel(\n",
    "    \"../data/DAIC_demographic_data.xlsx\", sheet_name=\"Metadata_mapping\"\n",
    ")\n",
    "\n",
    "print(phq_score.head())"
   ],
   "outputs": [
    {
     "name": "stdout",
     "output_type": "stream",
     "text": [
      "     Partic# Condition  gender  race\n",
      "428    837.0        AI     2.0     3\n",
      "429    838.0        AI     1.0     1\n",
      "430    839.0        AI     1.0     1\n",
      "431    840.0        AI     2.0     3\n",
      "432    841.0        AI     1.0     4\n",
      "   Participant_ID  PHQ_Score\n",
      "0             300          2\n",
      "1             301          3\n",
      "2             302          4\n",
      "3             303          0\n",
      "4             304          6\n"
     ]
    }
   ],
   "execution_count": 31
  },
  {
   "cell_type": "markdown",
   "metadata": {},
   "source": [
    "The following step was a workaround to prevent the end of file error due to unclosed inverted commas. What the code is doing - opening and reading each file, reading each line and checking for lines that start with \" but does not end with \" (i.e., checking for unclosed quotes)."
   ]
  },
  {
   "cell_type": "code",
   "metadata": {
    "ExecuteTime": {
     "end_time": "2024-11-28T17:42:50.585238Z",
     "start_time": "2024-11-28T17:42:50.498474Z"
    }
   },
   "source": [
    "# preprocessing the csv files to remove the unclosed inverted commas\n",
    "def clean_csv(file_path, output_path):\n",
    "    with open(file_path, \"r\") as infile, open(output_path, \"w\") as outfile:\n",
    "        for line in infile:\n",
    "            if line.startswith('\"') and not line.endswith('\"\\n'):\n",
    "                line = line[1:]\n",
    "            outfile.write(line)\n",
    "\n",
    "\n",
    "def process_directory(input_dir, output_dir):\n",
    "    if not os.path.exists(output_dir):\n",
    "        os.makedirs(output_dir)\n",
    "\n",
    "    for filename in os.listdir(input_dir):\n",
    "        if filename.endswith(\".csv\"):\n",
    "            input_path = os.path.join(input_dir, filename)\n",
    "            output_path = os.path.join(output_dir, filename)\n",
    "            clean_csv(input_path, output_path)\n",
    "\n",
    "\n",
    "input_dir = \"../data/E-DAIC_Transcripts\"\n",
    "output_dir = \"../data/E-DAIC_Transcripts_cleaned\"\n",
    "\n",
    "process_directory(input_dir, output_dir)"
   ],
   "outputs": [],
   "execution_count": 32
  },
  {
   "cell_type": "code",
   "metadata": {
    "ExecuteTime": {
     "end_time": "2024-11-28T17:42:51.290958Z",
     "start_time": "2024-11-28T17:42:51.208151Z"
    }
   },
   "source": [
    "cleaned_transcripts_path = \"../data/E-DAIC_Transcripts_cleaned\"\n",
    "\n",
    "transcripts = {}\n",
    "\n",
    "# loop through each file in the folder, load it, and store the content\n",
    "for filename in os.listdir(cleaned_transcripts_path):\n",
    "    if filename.endswith(\"_Transcript.csv\"):\n",
    "        participant_id = filename.split(\"_\")[0]  # extract the participant id\n",
    "        file_path = os.path.join(cleaned_transcripts_path, filename)\n",
    "\n",
    "        df = pd.read_csv(file_path)\n",
    "        transcripts[participant_id] = df\n",
    "\n",
    "# transcripts\n",
    "transcripts[\"386\"]"
   ],
   "outputs": [
    {
     "data": {
      "text/plain": [
       "                                                 Text\n",
       "0                    might have pulled something that\n",
       "1         I'm going to bring the great thanks so much\n",
       "2                                          and please\n",
       "3                          are you okay with this yes\n",
       "4    oh I'm fine I'm a little tired but I found ou...\n",
       "..                                                ...\n",
       "76   yeah well after college people usually many p...\n",
       "77                                  thank you goodbye\n",
       "78                          oh that was that was fast\n",
       "79   but I didn't never said there wasn't any like...\n",
       "80                                 never know I guess\n",
       "\n",
       "[81 rows x 1 columns]"
      ],
      "text/html": [
       "<div>\n",
       "<style scoped>\n",
       "    .dataframe tbody tr th:only-of-type {\n",
       "        vertical-align: middle;\n",
       "    }\n",
       "\n",
       "    .dataframe tbody tr th {\n",
       "        vertical-align: top;\n",
       "    }\n",
       "\n",
       "    .dataframe thead th {\n",
       "        text-align: right;\n",
       "    }\n",
       "</style>\n",
       "<table border=\"1\" class=\"dataframe\">\n",
       "  <thead>\n",
       "    <tr style=\"text-align: right;\">\n",
       "      <th></th>\n",
       "      <th>Text</th>\n",
       "    </tr>\n",
       "  </thead>\n",
       "  <tbody>\n",
       "    <tr>\n",
       "      <th>0</th>\n",
       "      <td>might have pulled something that</td>\n",
       "    </tr>\n",
       "    <tr>\n",
       "      <th>1</th>\n",
       "      <td>I'm going to bring the great thanks so much</td>\n",
       "    </tr>\n",
       "    <tr>\n",
       "      <th>2</th>\n",
       "      <td>and please</td>\n",
       "    </tr>\n",
       "    <tr>\n",
       "      <th>3</th>\n",
       "      <td>are you okay with this yes</td>\n",
       "    </tr>\n",
       "    <tr>\n",
       "      <th>4</th>\n",
       "      <td>oh I'm fine I'm a little tired but I found ou...</td>\n",
       "    </tr>\n",
       "    <tr>\n",
       "      <th>...</th>\n",
       "      <td>...</td>\n",
       "    </tr>\n",
       "    <tr>\n",
       "      <th>76</th>\n",
       "      <td>yeah well after college people usually many p...</td>\n",
       "    </tr>\n",
       "    <tr>\n",
       "      <th>77</th>\n",
       "      <td>thank you goodbye</td>\n",
       "    </tr>\n",
       "    <tr>\n",
       "      <th>78</th>\n",
       "      <td>oh that was that was fast</td>\n",
       "    </tr>\n",
       "    <tr>\n",
       "      <th>79</th>\n",
       "      <td>but I didn't never said there wasn't any like...</td>\n",
       "    </tr>\n",
       "    <tr>\n",
       "      <th>80</th>\n",
       "      <td>never know I guess</td>\n",
       "    </tr>\n",
       "  </tbody>\n",
       "</table>\n",
       "<p>81 rows × 1 columns</p>\n",
       "</div>"
      ]
     },
     "execution_count": 33,
     "metadata": {},
     "output_type": "execute_result"
    }
   ],
   "execution_count": 33
  },
  {
   "cell_type": "code",
   "metadata": {
    "ExecuteTime": {
     "end_time": "2024-11-28T17:42:51.993151Z",
     "start_time": "2024-11-28T17:42:51.955109Z"
    }
   },
   "source": [
    "# combine all the text data for each participant into a single string\n",
    "combined_transcripts = {}\n",
    "\n",
    "for participant_id, transcript in transcripts.items():\n",
    "    combined_transcripts[participant_id] = \" \".join(transcript[\"Text\"].astype(str))\n",
    "\n",
    "# removing extra spaces caused by newlines\n",
    "for participant_id, transcript in combined_transcripts.items():\n",
    "    combined_transcripts[participant_id] = \" \".join(transcript.split())\n",
    "\n",
    "# combined_transcripts[\"386\"]"
   ],
   "outputs": [],
   "execution_count": 34
  },
  {
   "cell_type": "code",
   "metadata": {
    "ExecuteTime": {
     "end_time": "2024-11-28T17:43:02.268734Z",
     "start_time": "2024-11-28T17:42:52.638775Z"
    }
   },
   "source": [
    "# combine the demographic data with the extracted text data\n",
    "\n",
    "from sklearn.feature_extraction.text import CountVectorizer, TfidfVectorizer\n",
    "from vaderSentiment.vaderSentiment import SentimentIntensityAnalyzer\n",
    "\n",
    "# create the feature extractor objects here; using the base settings for now\n",
    "# TODO: make changes to the parameters to preprocess the text data\n",
    "\n",
    "corpus = list(combined_transcripts.values())\n",
    "tfidf_vectorizer = TfidfVectorizer()\n",
    "tfidf_vectorizer.fit(corpus)\n",
    "\n",
    "count_vectorizer = CountVectorizer()\n",
    "count_vectorizer.fit(corpus)\n",
    "\n",
    "sentiment_analyzer = SentimentIntensityAnalyzer()\n",
    "\n",
    "combined_data = []\n",
    "\n",
    "# convert the participant id in demographic data to int for consistency\n",
    "interview_data[\"Partic#\"] = interview_data[\"Partic#\"].astype(int)\n",
    "\n",
    "for _, row in interview_data.iterrows():\n",
    "    participant_id = str(row[\"Partic#\"])  # convert id to match the transcript ids\n",
    "\n",
    "    # find langauge features for this participant\n",
    "    if participant_id in combined_transcripts:\n",
    "        transcript = combined_transcripts[participant_id]\n",
    "\n",
    "        # tfidf features\n",
    "        tfidf_features = (\n",
    "            tfidf_vectorizer.transform([transcript]).toarray().flatten()\n",
    "        )  # has to be 1D array\n",
    "\n",
    "        # count features\n",
    "        count_features = count_vectorizer.transform([transcript]).toarray().flatten()\n",
    "\n",
    "        # sentiment features\n",
    "        sentiment_compound_scores = sentiment_analyzer.polarity_scores(transcript)[\n",
    "            \"compound\"\n",
    "        ]  # only extracting the compound score\n",
    "\n",
    "        # combine all the features\n",
    "        data = {\n",
    "            \"participant_id\": participant_id,\n",
    "            \"condition\": row[\"Condition\"],\n",
    "            \"race\": row[\"race\"],\n",
    "            \"gender\": row[\"gender\"],\n",
    "            \"tfidf_features\": tfidf_features,\n",
    "            \"count_features\": count_features,\n",
    "            \"overall_sentiment\": sentiment_compound_scores,\n",
    "        }\n",
    "\n",
    "        combined_data.append(data)\n",
    "\n",
    "# convert the combined data into a dataframe\n",
    "combined_data_df = pd.DataFrame(combined_data)\n",
    "\n",
    "# print(combined_data_df.head())"
   ],
   "outputs": [],
   "execution_count": 35
  },
  {
   "cell_type": "code",
   "metadata": {
    "ExecuteTime": {
     "end_time": "2024-11-28T17:43:02.303492Z",
     "start_time": "2024-11-28T17:43:02.285073Z"
    }
   },
   "source": [
    "combined_data_df.head()"
   ],
   "outputs": [
    {
     "data": {
      "text/plain": [
       "  participant_id condition  race  gender  \\\n",
       "0            386       WoZ     3     2.0   \n",
       "1            387       WoZ     1     1.0   \n",
       "2            388       WoZ     4     1.0   \n",
       "3            389       WoZ     1     1.0   \n",
       "4            390       WoZ     3     1.0   \n",
       "\n",
       "                                      tfidf_features  \\\n",
       "0  [0.0, 0.0, 0.0, 0.0, 0.0, 0.0, 0.0085443313426...   \n",
       "1  [0.0, 0.0, 0.0, 0.0, 0.0, 0.0, 0.0253774451976...   \n",
       "2  [0.0, 0.0, 0.0, 0.0, 0.0, 0.0, 0.0292778521617...   \n",
       "3  [0.0, 0.0, 0.0, 0.0, 0.0, 0.0, 0.0487055979434...   \n",
       "4  [0.03182282795453763, 0.0, 0.0, 0.0, 0.0, 0.0,...   \n",
       "\n",
       "                                      count_features  overall_sentiment  \n",
       "0  [0, 0, 0, 0, 0, 0, 1, 0, 0, 0, 0, 0, 0, 0, 0, ...             0.9999  \n",
       "1  [0, 0, 0, 0, 0, 0, 1, 0, 0, 0, 0, 0, 0, 0, 0, ...             0.9996  \n",
       "2  [0, 0, 0, 0, 0, 0, 1, 0, 0, 0, 0, 0, 0, 0, 0, ...             0.9953  \n",
       "3  [0, 0, 0, 0, 0, 0, 2, 0, 0, 0, 0, 0, 0, 1, 0, ...             0.9822  \n",
       "4  [1, 0, 0, 0, 0, 0, 0, 0, 0, 0, 0, 0, 0, 0, 0, ...             0.9996  "
      ],
      "text/html": [
       "<div>\n",
       "<style scoped>\n",
       "    .dataframe tbody tr th:only-of-type {\n",
       "        vertical-align: middle;\n",
       "    }\n",
       "\n",
       "    .dataframe tbody tr th {\n",
       "        vertical-align: top;\n",
       "    }\n",
       "\n",
       "    .dataframe thead th {\n",
       "        text-align: right;\n",
       "    }\n",
       "</style>\n",
       "<table border=\"1\" class=\"dataframe\">\n",
       "  <thead>\n",
       "    <tr style=\"text-align: right;\">\n",
       "      <th></th>\n",
       "      <th>participant_id</th>\n",
       "      <th>condition</th>\n",
       "      <th>race</th>\n",
       "      <th>gender</th>\n",
       "      <th>tfidf_features</th>\n",
       "      <th>count_features</th>\n",
       "      <th>overall_sentiment</th>\n",
       "    </tr>\n",
       "  </thead>\n",
       "  <tbody>\n",
       "    <tr>\n",
       "      <th>0</th>\n",
       "      <td>386</td>\n",
       "      <td>WoZ</td>\n",
       "      <td>3</td>\n",
       "      <td>2.0</td>\n",
       "      <td>[0.0, 0.0, 0.0, 0.0, 0.0, 0.0, 0.0085443313426...</td>\n",
       "      <td>[0, 0, 0, 0, 0, 0, 1, 0, 0, 0, 0, 0, 0, 0, 0, ...</td>\n",
       "      <td>0.9999</td>\n",
       "    </tr>\n",
       "    <tr>\n",
       "      <th>1</th>\n",
       "      <td>387</td>\n",
       "      <td>WoZ</td>\n",
       "      <td>1</td>\n",
       "      <td>1.0</td>\n",
       "      <td>[0.0, 0.0, 0.0, 0.0, 0.0, 0.0, 0.0253774451976...</td>\n",
       "      <td>[0, 0, 0, 0, 0, 0, 1, 0, 0, 0, 0, 0, 0, 0, 0, ...</td>\n",
       "      <td>0.9996</td>\n",
       "    </tr>\n",
       "    <tr>\n",
       "      <th>2</th>\n",
       "      <td>388</td>\n",
       "      <td>WoZ</td>\n",
       "      <td>4</td>\n",
       "      <td>1.0</td>\n",
       "      <td>[0.0, 0.0, 0.0, 0.0, 0.0, 0.0, 0.0292778521617...</td>\n",
       "      <td>[0, 0, 0, 0, 0, 0, 1, 0, 0, 0, 0, 0, 0, 0, 0, ...</td>\n",
       "      <td>0.9953</td>\n",
       "    </tr>\n",
       "    <tr>\n",
       "      <th>3</th>\n",
       "      <td>389</td>\n",
       "      <td>WoZ</td>\n",
       "      <td>1</td>\n",
       "      <td>1.0</td>\n",
       "      <td>[0.0, 0.0, 0.0, 0.0, 0.0, 0.0, 0.0487055979434...</td>\n",
       "      <td>[0, 0, 0, 0, 0, 0, 2, 0, 0, 0, 0, 0, 0, 1, 0, ...</td>\n",
       "      <td>0.9822</td>\n",
       "    </tr>\n",
       "    <tr>\n",
       "      <th>4</th>\n",
       "      <td>390</td>\n",
       "      <td>WoZ</td>\n",
       "      <td>3</td>\n",
       "      <td>1.0</td>\n",
       "      <td>[0.03182282795453763, 0.0, 0.0, 0.0, 0.0, 0.0,...</td>\n",
       "      <td>[1, 0, 0, 0, 0, 0, 0, 0, 0, 0, 0, 0, 0, 0, 0, ...</td>\n",
       "      <td>0.9996</td>\n",
       "    </tr>\n",
       "  </tbody>\n",
       "</table>\n",
       "</div>"
      ]
     },
     "execution_count": 36,
     "metadata": {},
     "output_type": "execute_result"
    }
   ],
   "execution_count": 36
  },
  {
   "cell_type": "markdown",
   "metadata": {},
   "source": [
    "Some useful information about the resulting dataframe - \n",
    "\n",
    "- Each term in the `TF-IDF` vector is considered a feature. The values represent the `TF-IDF` score for that term. A higher score could mean that the term is important to the transcript but no common in the entire list of transcripts. This is helpful in identifying the transcript's topic/sentiment.\n",
    "- Count features are straightforward. The value of a feature is the raw count of how many times the term appears in the transcript.\n",
    "- The compound score is the overall sentiment of the transcript. Its value ranges from $-1$ to $1$ where positive sentiments have a compound score of $\\geq 0.05$, neutral sentiment have a score between $-0.05$ and $0.05$, and negative sentiments have a compound score of $\\leq -0.05$."
   ]
  },
  {
   "cell_type": "markdown",
   "metadata": {},
   "source": [
    "## Part b: Classifying for gender"
   ]
  },
  {
   "cell_type": "code",
   "metadata": {
    "ExecuteTime": {
     "end_time": "2024-11-28T17:12:20.341041Z",
     "start_time": "2024-11-28T17:12:20.330573Z"
    }
   },
   "source": [
    "# drop race, condition, and participant_id\n",
    "genderDF = combined_data_df.drop([\"race\", \"condition\", \"participant_id\"], axis=1)\n",
    "\n",
    "# drop any row with NaN\n",
    "genderDF = genderDF.dropna()\n",
    "\n",
    "# map gender from [1,2] -> [0,1] (XGBoost needs the labels to be 0 or 1)\n",
    "genderDF[\"gender\"] = genderDF[\"gender\"].map({1: 0, 2: 1})\n",
    "\n",
    "# extract the target values (gender)\n",
    "y = genderDF.pop(\"gender\")"
   ],
   "outputs": [],
   "execution_count": 11
  },
  {
   "cell_type": "code",
   "metadata": {
    "ExecuteTime": {
     "end_time": "2024-11-28T17:12:21.944427Z",
     "start_time": "2024-11-28T17:12:21.301582Z"
    }
   },
   "source": [
    "# XGBoost cannot accept multi-dimensional features so each list element must live in its own column\n",
    "\n",
    "# Expand lists into separate columns\n",
    "tfidf_features = pd.DataFrame(genderDF['tfidf_features'].tolist(), index=genderDF.index)\n",
    "tfidf_features.columns = [f'tfidf_features{i}' for i in range(tfidf_features.shape[1])]\n",
    "\n",
    "# Expand lists into separate columns\n",
    "count_features = pd.DataFrame(genderDF['count_features'].tolist(), index=genderDF.index)\n",
    "count_features.columns = [f'count_features{i}' for i in range(count_features.shape[1])]\n",
    "\n",
    "# recreate gender dataframe\n",
    "genderDF = pd.concat([tfidf_features, count_features], axis=1)\n",
    "\n",
    "genderDF.shape"
   ],
   "outputs": [
    {
     "data": {
      "text/plain": [
       "(188, 17404)"
      ]
     },
     "execution_count": 12,
     "metadata": {},
     "output_type": "execute_result"
    }
   ],
   "execution_count": 12
  },
  {
   "cell_type": "code",
   "metadata": {
    "ExecuteTime": {
     "end_time": "2024-11-28T17:12:23.969642Z",
     "start_time": "2024-11-28T17:12:23.211035Z"
    }
   },
   "source": [
    "# due to the flattening of the arrays, we not how 17404 features which is too much\n",
    "# therefore, we are going to use PCA to reduce our input dimensionality\n",
    "\n",
    "from sklearn.decomposition import PCA\n",
    "from sklearn.preprocessing import StandardScaler\n",
    "\n",
    "# Scale data before applying PCA\n",
    "scaling=StandardScaler()\n",
    " \n",
    "# Use fit and transform method \n",
    "scaling.fit(genderDF)\n",
    "Scaled_data=scaling.transform(genderDF)"
   ],
   "outputs": [],
   "execution_count": 13
  },
  {
   "cell_type": "code",
   "metadata": {
    "ExecuteTime": {
     "end_time": "2024-11-28T17:12:28.926527Z",
     "start_time": "2024-11-28T17:12:28.920583Z"
    }
   },
   "source": [
    "# helper function to calcualte accuracy and balanced accuracy\n",
    "def getAccAndBAcc(yPred, yTrue):\n",
    "\n",
    "    truePos = 0\n",
    "    trueNeg = 0\n",
    "    falsePos = 0\n",
    "    falseNeg = 0\n",
    "\n",
    "    for idx in range(len(yPred)):\n",
    "        \n",
    "        if yPred[idx] == 1:\n",
    "\n",
    "            if yTrue[idx] == 1:\n",
    "\n",
    "                truePos += 1\n",
    "\n",
    "            else:\n",
    "\n",
    "                falseNeg += 1\n",
    "\n",
    "        else:\n",
    "\n",
    "            if yTrue[idx] == 1:\n",
    "\n",
    "                falsePos += 1\n",
    "\n",
    "            else:\n",
    "\n",
    "                trueNeg += 1\n",
    "\n",
    "    if (trueNeg+falsePos) == 0 and (truePos+falseNeg) != 0:\n",
    "        balancedAccuracy = 0.5*truePos/(truePos+falseNeg)\n",
    "    elif (trueNeg+falsePos) != 0 and (truePos+falseNeg) == 0:\n",
    "        balancedAccuracy = 0.5*trueNeg/(trueNeg+falsePos)\n",
    "    else:\n",
    "        balancedAccuracy = 0.5*trueNeg/(trueNeg+falsePos) + 0.5*truePos/(truePos+falseNeg)\n",
    "    \n",
    "    accuracy = (truePos + trueNeg) / (truePos + trueNeg + falsePos + falseNeg)\n",
    "\n",
    "    return accuracy, balancedAccuracy"
   ],
   "outputs": [],
   "execution_count": 14
  },
  {
   "cell_type": "code",
   "metadata": {
    "ExecuteTime": {
     "end_time": "2024-11-28T17:12:43.487138Z",
     "start_time": "2024-11-28T17:12:30.768072Z"
    }
   },
   "source": [
    "# create deep learning model\n",
    "import tensorflow as tf\n",
    "from tensorflow.keras.models import Sequential\n",
    "from tensorflow.keras.layers import Dense\n",
    "\n",
    "def getDLModel(inputShape):\n",
    "\n",
    "    model = Sequential([\n",
    "        Dense(128, activation='relu', input_shape=(inputShape,)),\n",
    "        Dense(64, activation='relu'),\n",
    "        Dense(32, activation='relu'),\n",
    "        Dense(16, activation='relu'),\n",
    "        Dense(8, activation='relu'),\n",
    "        Dense(1, activation=\"sigmoid\")\n",
    "    ])\n",
    "\n",
    "    model.compile(\n",
    "        optimizer='adam',\n",
    "        loss = 'binary_crossentropy',\n",
    "        metrics = [\"accuracy\"]\n",
    "    )\n",
    "\n",
    "    return model"
   ],
   "outputs": [
    {
     "ename": "ModuleNotFoundError",
     "evalue": "No module named 'tensorflow.keras'",
     "output_type": "error",
     "traceback": [
      "\u001B[0;31m---------------------------------------------------------------------------\u001B[0m",
      "\u001B[0;31mModuleNotFoundError\u001B[0m                       Traceback (most recent call last)",
      "Cell \u001B[0;32mIn[15], line 3\u001B[0m\n\u001B[1;32m      1\u001B[0m \u001B[38;5;66;03m# create deep learning model\u001B[39;00m\n\u001B[1;32m      2\u001B[0m \u001B[38;5;28;01mimport\u001B[39;00m \u001B[38;5;21;01mtensorflow\u001B[39;00m \u001B[38;5;28;01mas\u001B[39;00m \u001B[38;5;21;01mtf\u001B[39;00m\n\u001B[0;32m----> 3\u001B[0m \u001B[38;5;28;01mfrom\u001B[39;00m \u001B[38;5;21;01mtensorflow\u001B[39;00m\u001B[38;5;21;01m.\u001B[39;00m\u001B[38;5;21;01mkeras\u001B[39;00m\u001B[38;5;21;01m.\u001B[39;00m\u001B[38;5;21;01mmodels\u001B[39;00m \u001B[38;5;28;01mimport\u001B[39;00m Sequential\n\u001B[1;32m      4\u001B[0m \u001B[38;5;28;01mfrom\u001B[39;00m \u001B[38;5;21;01mtensorflow\u001B[39;00m\u001B[38;5;21;01m.\u001B[39;00m\u001B[38;5;21;01mkeras\u001B[39;00m\u001B[38;5;21;01m.\u001B[39;00m\u001B[38;5;21;01mlayers\u001B[39;00m \u001B[38;5;28;01mimport\u001B[39;00m Dense\n\u001B[1;32m      6\u001B[0m \u001B[38;5;28;01mdef\u001B[39;00m \u001B[38;5;21mgetDLModel\u001B[39m(inputShape):\n",
      "\u001B[0;31mModuleNotFoundError\u001B[0m: No module named 'tensorflow.keras'"
     ]
    }
   ],
   "execution_count": 15
  },
  {
   "cell_type": "code",
   "execution_count": 224,
   "metadata": {},
   "outputs": [
    {
     "name": "stdout",
     "output_type": "stream",
     "text": [
      "2/2 [==============================] - 0s 14ms/step\n",
      "2/2 [==============================] - 0s 0s/step\n",
      "2/2 [==============================] - 0s 0s/step\n",
      "2/2 [==============================] - 0s 0s/step\n",
      "2/2 [==============================] - 0s 0s/step\n",
      "2/2 [==============================] - 0s 0s/step\n",
      "2/2 [==============================] - 0s 16ms/step\n",
      "2/2 [==============================] - 0s 0s/step\n",
      "2/2 [==============================] - 0s 0s/step\n",
      "\n",
      "\n",
      "#######################################\n",
      "Values for Cov. Floor: 0.1, Components: 8:\n",
      "Tree accuracy: 0.631578947368421\n",
      "Tree balanced accuracy: 0.606060606060606\n",
      "DL accuracy: 0.631578947368421\n",
      "DL balanced accuracy: 0.8108108108108107\n",
      "#######################################\n",
      "Values for Cov. Floor: 0.2, Components: 18:\n",
      "Tree accuracy: 0.6578947368421053\n",
      "Tree balanced accuracy: 0.6378205128205128\n",
      "DL accuracy: 0.7105263157894737\n",
      "DL balanced accuracy: 0.7604166666666667\n",
      "#######################################\n",
      "Values for Cov. Floor: 0.3, Components: 30:\n",
      "Tree accuracy: 0.7105263157894737\n",
      "Tree balanced accuracy: 0.7071428571428571\n",
      "DL accuracy: 0.631578947368421\n",
      "DL balanced accuracy: 0.6476190476190475\n",
      "#######################################\n",
      "Values for Cov. Floor: 0.4, Components: 43:\n",
      "Tree accuracy: 0.7105263157894737\n",
      "Tree balanced accuracy: 0.7071428571428571\n",
      "DL accuracy: 0.6052631578947368\n",
      "DL balanced accuracy: 0.3026315789473684\n",
      "#######################################\n",
      "Values for Cov. Floor: 0.5, Components: 59:\n",
      "Tree accuracy: 0.7105263157894737\n",
      "Tree balanced accuracy: 0.7604166666666667\n",
      "DL accuracy: 0.6842105263157895\n",
      "DL balanced accuracy: 0.7333333333333334\n",
      "#######################################\n",
      "Values for Cov. Floor: 0.6, Components: 76:\n",
      "Tree accuracy: 0.6842105263157895\n",
      "Tree balanced accuracy: 0.695852534562212\n",
      "DL accuracy: 0.6052631578947368\n",
      "DL balanced accuracy: 0.5588235294117647\n",
      "#######################################\n",
      "Values for Cov. Floor: 0.7, Components: 95:\n",
      "Tree accuracy: 0.631578947368421\n",
      "Tree balanced accuracy: 0.6053639846743295\n",
      "DL accuracy: 0.6052631578947368\n",
      "DL balanced accuracy: 0.3026315789473684\n",
      "#######################################\n",
      "Values for Cov. Floor: 0.8, Components: 118:\n",
      "Tree accuracy: 0.6052631578947368\n",
      "Tree balanced accuracy: 0.5714285714285714\n",
      "DL accuracy: 0.631578947368421\n",
      "DL balanced accuracy: 0.6476190476190475\n",
      "#######################################\n",
      "Values for Cov. Floor: 0.9, Components: 146:\n",
      "Tree accuracy: 0.6578947368421053\n",
      "Tree balanced accuracy: 0.6614583333333333\n",
      "DL accuracy: 0.6052631578947368\n",
      "DL balanced accuracy: 0.3026315789473684\n",
      "\n",
      "\n",
      "#######################################\n",
      "Max Tree Covariance Floor: 0.5, with balanced accuracy of 76.04166666666667%\n",
      "Max DL Covariance Floor: 0.1, with balanced accuracy of 81.08108108108108%\n",
      "#######################################\n"
     ]
    }
   ],
   "source": [
    "from sklearn.model_selection import train_test_split\n",
    "#!pip install xgboost\n",
    "import xgboost as xgb\n",
    "\n",
    "# minimum covariance for feature to be included\n",
    "pcaCovarianceFloor = [0.1, 0.2, 0.3, 0.4, 0.5, 0.6, 0.7, 0.8, 0.9]\n",
    "\n",
    "bAccTree = []\n",
    "accTree  = []\n",
    "\n",
    "bAccDL = []\n",
    "accDL  = []\n",
    "\n",
    "numberOfComponents = []\n",
    "\n",
    "for pcaFloor in pcaCovarianceFloor:\n",
    "\n",
    "    # run PCA with given number of components\n",
    "    principal=PCA(n_components=pcaFloor)\n",
    "    principal.fit(Scaled_data)\n",
    "    x=principal.transform(Scaled_data)\n",
    "\n",
    "    # get the reduced dataset\n",
    "    reducedGenderData = principal.transform(Scaled_data)\n",
    "    numberOfComponents.append(reducedGenderData.shape[1])\n",
    "    reducedGenderDF = pd.DataFrame(reducedGenderData, columns=[f\"PC{i}\" for i in range(1, numberOfComponents[-1] + 1)])\n",
    "\n",
    "    # split the dataset into testing and training splits\n",
    "    # since the dataset is so small, we want to make sure \n",
    "    # there is at least 10 of each class in test split\n",
    "    xTrain, xTest, yTrain, yTest = train_test_split(reducedGenderDF, y, test_size=0.2, random_state=76)\n",
    "\n",
    "    # train XGBoost model\n",
    "    xgb_classifier = xgb.XGBClassifier()\n",
    "    xgb_classifier.fit(xTrain, yTrain)\n",
    "\n",
    "    # get test accuracy and balanced accuracy\n",
    "    acc, bAcc = getAccAndBAcc(xgb_classifier.predict(xTest), yTest.to_numpy())\n",
    "\n",
    "    # store accuracies\n",
    "    accTree.append(acc)\n",
    "    bAccTree.append(bAcc)\n",
    "\n",
    "    # train DL model\n",
    "    FNN = getDLModel(numberOfComponents[-1])\n",
    "    FNN.fit(xTrain, yTrain, epochs=100, verbose=0)\n",
    "\n",
    "    # get test accuracy and balanced accuracy\n",
    "    acc, bAcc = getAccAndBAcc(FNN.predict(xTest), yTest.to_numpy())\n",
    "\n",
    "    # store accuracies\n",
    "    accDL.append(acc)\n",
    "    bAccDL.append(bAcc)\n",
    "\n",
    "print(\"\\n\")\n",
    "for idx in range(len(pcaCovarianceFloor)):\n",
    "\n",
    "    print(\"#######################################\")\n",
    "    print(f\"Values for Cov. Floor: {pcaCovarianceFloor[idx]}, Components: {numberOfComponents[idx]}:\")\n",
    "    print(f\"Tree accuracy: {accTree[idx]}\")\n",
    "    print(f\"Tree balanced accuracy: {bAccTree[idx]}\")\n",
    "    print(f\"DL accuracy: {accDL[idx]}\")\n",
    "    print(f\"DL balanced accuracy: {bAccDL[idx]}\")\n",
    "\n",
    "\n",
    "maxTreeBAccPCACovFloor = pcaCovarianceFloor[np.argmax(bAccTree)]\n",
    "maxDLBAccPCACovFloor = pcaCovarianceFloor[np.argmax(bAccDL)]\n",
    "\n",
    "print(\"\\n\")\n",
    "print(\"#######################################\")\n",
    "print(f\"Max Tree Covariance Floor: {maxTreeBAccPCACovFloor}, with balanced accuracy of {np.max(bAccTree) * 100}%\")\n",
    "print(f\"Max DL Covariance Floor: {maxDLBAccPCACovFloor}, with balanced accuracy of {np.max(bAccDL) * 100}%\")\n",
    "print(\"#######################################\")"
   ]
  },
  {
   "metadata": {},
   "cell_type": "markdown",
   "source": "# part c"
  },
  {
   "metadata": {
    "ExecuteTime": {
     "end_time": "2024-11-28T18:30:48.541188Z",
     "start_time": "2024-11-28T18:30:47.988573Z"
    }
   },
   "cell_type": "code",
   "source": [
    "# imports\n",
    "from keras.models import Sequential, Model\n",
    "from keras.layers import Dense, Dropout, BatchNormalization, Attention, Flatten, Input\n",
    "from keras.optimizers import SGD\n",
    "from keras.regularizers import l2\n",
    "from sklearn.model_selection import train_test_split\n",
    "import xgboost as xgb"
   ],
   "outputs": [],
   "execution_count": 76
  },
  {
   "metadata": {
    "ExecuteTime": {
     "end_time": "2024-11-28T17:43:13.714608Z",
     "start_time": "2024-11-28T17:43:13.706322Z"
    }
   },
   "cell_type": "code",
   "source": [
    "def create_df(input_df, col_to_drop, y_col):\n",
    "    new_df = input_df.drop(col_to_drop, axis=1)\n",
    "    new_df = new_df.dropna()\n",
    "    y_new = new_df.pop(y_col)\n",
    "    tfidf_features = pd.DataFrame(new_df['tfidf_features'].tolist(), index=new_df.index)\n",
    "    tfidf_features.columns = [f'tfidf_features{i}' for i in range(tfidf_features.shape[1])]\n",
    "\n",
    "    count_features = pd.DataFrame(new_df['count_features'].tolist(), index=new_df.index)\n",
    "    count_features.columns = [f'count_features{i}' for i in range(count_features.shape[1])]\n",
    "    \n",
    "    new_df = pd.concat([tfidf_features, count_features], axis=1)\n",
    "    return new_df, y_new"
   ],
   "outputs": [],
   "execution_count": 37
  },
  {
   "metadata": {
    "ExecuteTime": {
     "end_time": "2024-11-28T17:50:08.139930Z",
     "start_time": "2024-11-28T17:50:07.498883Z"
    }
   },
   "cell_type": "code",
   "source": [
    "race_df, y_race = create_df(combined_data_df, [\"gender\", \"condition\", \"participant_id\"], \"race\")\n",
    "race_df.shape, y_race.shape"
   ],
   "outputs": [
    {
     "data": {
      "text/plain": [
       "((190, 17404), (190,))"
      ]
     },
     "execution_count": 45,
     "metadata": {},
     "output_type": "execute_result"
    }
   ],
   "execution_count": 45
  },
  {
   "metadata": {},
   "cell_type": "markdown",
   "source": ""
  },
  {
   "metadata": {
    "ExecuteTime": {
     "end_time": "2024-11-28T18:36:55.424774Z",
     "start_time": "2024-11-28T18:36:55.404106Z"
    }
   },
   "cell_type": "code",
   "source": [
    "# xgboost needs the range to start at 0\n",
    "y_race = y_race - 1\n",
    "y_race"
   ],
   "outputs": [
    {
     "data": {
      "text/plain": [
       "0      2\n",
       "1      0\n",
       "2      3\n",
       "3      0\n",
       "4      2\n",
       "      ..\n",
       "185    2\n",
       "186    0\n",
       "187    3\n",
       "188    0\n",
       "189    0\n",
       "Name: race, Length: 190, dtype: int64"
      ]
     },
     "execution_count": 83,
     "metadata": {},
     "output_type": "execute_result"
    }
   ],
   "execution_count": 83
  },
  {
   "metadata": {
    "ExecuteTime": {
     "end_time": "2024-11-28T17:49:04.061900Z",
     "start_time": "2024-11-28T17:49:04.044871Z"
    }
   },
   "cell_type": "code",
   "source": [
    "def scale_data(input_df):\n",
    "    scaling=StandardScaler()\n",
    "    scaling.fit(input_df)\n",
    "    Scaled_data=scaling.transform(input_df)\n",
    "    return Scaled_data"
   ],
   "outputs": [],
   "execution_count": 44
  },
  {
   "metadata": {
    "ExecuteTime": {
     "end_time": "2024-11-28T18:22:41.261261Z",
     "start_time": "2024-11-28T18:22:41.250044Z"
    }
   },
   "cell_type": "code",
   "source": [
    "def get_dense_model(input_shape):\n",
    "    \n",
    "    model = Sequential([\n",
    "        Dense(128, activation='relu', input_shape=(input_shape,)),\n",
    "        BatchNormalization(),\n",
    "        Dropout(0.3),\n",
    "    \n",
    "        Dense(64, activation='relu'),\n",
    "        BatchNormalization(),\n",
    "        Dropout(0.3),\n",
    "    \n",
    "        Dense(32, activation='relu'),\n",
    "        BatchNormalization(),\n",
    "        Dropout(0.3),\n",
    "    \n",
    "        Dense(16, activation='relu'),\n",
    "        BatchNormalization(),\n",
    "        Dropout(0.3),\n",
    "    \n",
    "        Dense(8, activation='relu'),\n",
    "        BatchNormalization(),\n",
    "        Dropout(0.3),\n",
    "    \n",
    "        Dense(1, activation=\"sigmoid\")\n",
    "    ])\n",
    "    \n",
    "    model.compile(optimizer='adam', loss='binary_crossentropy', metrics=['accuracy'])\n",
    "    return model"
   ],
   "outputs": [],
   "execution_count": 70
  },
  {
   "metadata": {
    "ExecuteTime": {
     "end_time": "2024-11-28T18:37:29.368230Z",
     "start_time": "2024-11-28T18:37:04.294557Z"
    }
   },
   "cell_type": "code",
   "source": [
    "scaled_data = scale_data(race_df)\n",
    "\n",
    "pcaCovarianceFloor = [0.1, 0.2, 0.3, 0.4, 0.5, 0.6, 0.7, 0.8, 0.9]\n",
    "# [0.1, 0.2, 0.3, 0.4, 0.5, 0.6, 0.7, 0.8, 0.9]\n",
    "\n",
    "bA_dense, ba_xgb = [], []\n",
    "a_dense, a_xgb = [], []\n",
    "\n",
    "num_comp = []\n",
    "\n",
    "for pcaFloor in pcaCovarianceFloor:\n",
    "    \n",
    "    principal=PCA(n_components=pcaFloor)\n",
    "    principal.fit(scaled_data)\n",
    "    x=principal.transform(scaled_data)\n",
    "    \n",
    "    reduced_race_df = principal.transform(scaled_data)\n",
    "    num_comp.append(reduced_race_df.shape[1])\n",
    "    reduced_race_df = pd.DataFrame(reduced_race_df, columns=[f\"PC{i}\" for i in range(1, num_comp[-1] + 1)])\n",
    "    \n",
    "    x_train, x_test, y_train, y_test = train_test_split(reduced_race_df, y_race, test_size=0.2, random_state=76)\n",
    "\n",
    "    attention_model = get_dense_model(num_comp[-1])\n",
    "    attention_model.fit(x_train, y_train, epochs=100, verbose=0)\n",
    "\n",
    "    acc, bAcc = getAccAndBAcc(attention_model.predict(x_test), y_test.to_numpy())\n",
    "\n",
    "    a_dense.append(acc)\n",
    "    bA_dense.append(bAcc)\n",
    "    \n",
    "    xgb_classifier = xgb.XGBClassifier()\n",
    "    xgb_classifier.fit(x_train, y_train)\n",
    "\n",
    "    acc, bAcc = getAccAndBAcc(xgb_classifier.predict(x_test), y_test.to_numpy())\n",
    "    \n",
    "    a_xgb.append(acc)\n",
    "    ba_xgb.append(bAcc)\n",
    "    "
   ],
   "outputs": [
    {
     "name": "stdout",
     "output_type": "stream",
     "text": [
      "\u001B[1m2/2\u001B[0m \u001B[32m━━━━━━━━━━━━━━━━━━━━\u001B[0m\u001B[37m\u001B[0m \u001B[1m0s\u001B[0m 38ms/step\n",
      "\u001B[1m2/2\u001B[0m \u001B[32m━━━━━━━━━━━━━━━━━━━━\u001B[0m\u001B[37m\u001B[0m \u001B[1m0s\u001B[0m 38ms/step\n",
      "\u001B[1m2/2\u001B[0m \u001B[32m━━━━━━━━━━━━━━━━━━━━\u001B[0m\u001B[37m\u001B[0m \u001B[1m0s\u001B[0m 40ms/step\n",
      "\u001B[1m2/2\u001B[0m \u001B[32m━━━━━━━━━━━━━━━━━━━━\u001B[0m\u001B[37m\u001B[0m \u001B[1m0s\u001B[0m 38ms/step\n",
      "\u001B[1m2/2\u001B[0m \u001B[32m━━━━━━━━━━━━━━━━━━━━\u001B[0m\u001B[37m\u001B[0m \u001B[1m0s\u001B[0m 39ms/step\n",
      "\u001B[1m2/2\u001B[0m \u001B[32m━━━━━━━━━━━━━━━━━━━━\u001B[0m\u001B[37m\u001B[0m \u001B[1m0s\u001B[0m 42ms/step\n",
      "\u001B[1m2/2\u001B[0m \u001B[32m━━━━━━━━━━━━━━━━━━━━\u001B[0m\u001B[37m\u001B[0m \u001B[1m0s\u001B[0m 39ms/step\n",
      "\u001B[1m2/2\u001B[0m \u001B[32m━━━━━━━━━━━━━━━━━━━━\u001B[0m\u001B[37m\u001B[0m \u001B[1m0s\u001B[0m 39ms/step\n",
      "\u001B[1m2/2\u001B[0m \u001B[32m━━━━━━━━━━━━━━━━━━━━\u001B[0m\u001B[37m\u001B[0m \u001B[1m0s\u001B[0m 40ms/step\n"
     ]
    }
   ],
   "execution_count": 84
  },
  {
   "metadata": {
    "ExecuteTime": {
     "end_time": "2024-11-28T18:43:44.315866Z",
     "start_time": "2024-11-28T18:43:44.284826Z"
    }
   },
   "cell_type": "code",
   "source": [
    "print(\"\\n\")\n",
    "for idx in range(len(pcaCovarianceFloor)):\n",
    "\n",
    "    print(\"#######################################\")\n",
    "    print(f\"Values for Cov. Floor: {pcaCovarianceFloor[idx]}, Components: {num_comp[idx]}:\")\n",
    "    print(f\"Tree accuracy: {a_xgb[idx]}\")\n",
    "    print(f\"Tree balanced accuracy: {ba_xgb[idx]}\")\n",
    "    print(f\"DL accuracy: {a_dense[idx]}\")\n",
    "    print(f\"DL balanced accuracy: {bA_dense[idx]}\")\n",
    "\n",
    "\n",
    "maxTreeBAccPCACovFloor = pcaCovarianceFloor[np.argmax(ba_xgb)]\n",
    "maxDLBAccPCACovFloor = pcaCovarianceFloor[np.argmax(bA_dense)]\n",
    "\n",
    "print(\"\\n\")\n",
    "print(\"#######################################\")\n",
    "print(f\"Max Tree Covariance Floor: {maxTreeBAccPCACovFloor}, with balanced accuracy of {np.max(ba_xgb) * 100}%\")\n",
    "print(f\"Max DL Covariance Floor: {maxDLBAccPCACovFloor}, with balanced accuracy of {np.max(bA_dense) * 100}%\")\n",
    "print(\"#######################################\")"
   ],
   "outputs": [
    {
     "name": "stdout",
     "output_type": "stream",
     "text": [
      "\n",
      "\n",
      "#######################################\n",
      "Values for Cov. Floor: 0.1, Components: 8:\n",
      "Tree accuracy: 0.8947368421052632\n",
      "Tree balanced accuracy: 0.4594594594594595\n",
      "DL accuracy: 0.9210526315789473\n",
      "DL balanced accuracy: 0.4605263157894737\n",
      "#######################################\n",
      "Values for Cov. Floor: 0.2, Components: 18:\n",
      "Tree accuracy: 0.9210526315789473\n",
      "Tree balanced accuracy: 0.4605263157894737\n",
      "DL accuracy: 0.9210526315789473\n",
      "DL balanced accuracy: 0.4605263157894737\n",
      "#######################################\n",
      "Values for Cov. Floor: 0.3, Components: 30:\n",
      "Tree accuracy: 0.9210526315789473\n",
      "Tree balanced accuracy: 0.4605263157894737\n",
      "DL accuracy: 0.8947368421052632\n",
      "DL balanced accuracy: 0.4594594594594595\n",
      "#######################################\n",
      "Values for Cov. Floor: 0.4, Components: 44:\n",
      "Tree accuracy: 0.9210526315789473\n",
      "Tree balanced accuracy: 0.4605263157894737\n",
      "DL accuracy: 0.9210526315789473\n",
      "DL balanced accuracy: 0.4605263157894737\n",
      "#######################################\n",
      "Values for Cov. Floor: 0.5, Components: 59:\n",
      "Tree accuracy: 0.9210526315789473\n",
      "Tree balanced accuracy: 0.4605263157894737\n",
      "DL accuracy: 0.9210526315789473\n",
      "DL balanced accuracy: 0.4605263157894737\n",
      "#######################################\n",
      "Values for Cov. Floor: 0.6, Components: 76:\n",
      "Tree accuracy: 0.9210526315789473\n",
      "Tree balanced accuracy: 0.4605263157894737\n",
      "DL accuracy: 0.9210526315789473\n",
      "DL balanced accuracy: 0.4605263157894737\n",
      "#######################################\n",
      "Values for Cov. Floor: 0.7, Components: 97:\n",
      "Tree accuracy: 0.9210526315789473\n",
      "Tree balanced accuracy: 0.4605263157894737\n",
      "DL accuracy: 0.8157894736842105\n",
      "DL balanced accuracy: 0.45588235294117646\n",
      "#######################################\n",
      "Values for Cov. Floor: 0.8, Components: 120:\n",
      "Tree accuracy: 0.9210526315789473\n",
      "Tree balanced accuracy: 0.4605263157894737\n",
      "DL accuracy: 0.9210526315789473\n",
      "DL balanced accuracy: 0.4605263157894737\n",
      "#######################################\n",
      "Values for Cov. Floor: 0.9, Components: 148:\n",
      "Tree accuracy: 0.9210526315789473\n",
      "Tree balanced accuracy: 0.4605263157894737\n",
      "DL accuracy: 0.8947368421052632\n",
      "DL balanced accuracy: 0.4594594594594595\n",
      "\n",
      "\n",
      "#######################################\n",
      "Max Tree Covariance Floor: 0.2, with balanced accuracy of 46.05263157894737%\n",
      "Max DL Covariance Floor: 0.1, with balanced accuracy of 46.05263157894737%\n",
      "#######################################\n"
     ]
    }
   ],
   "execution_count": 85
  },
  {
   "metadata": {},
   "cell_type": "code",
   "outputs": [],
   "execution_count": null,
   "source": ""
  }
 ],
 "metadata": {
  "kernelspec": {
   "display_name": "new",
   "language": "python",
   "name": "python3"
  },
  "language_info": {
   "codemirror_mode": {
    "name": "ipython",
    "version": 3
   },
   "file_extension": ".py",
   "mimetype": "text/x-python",
   "name": "python",
   "nbconvert_exporter": "python",
   "pygments_lexer": "ipython3",
   "version": "3.10.15"
  }
 },
 "nbformat": 4,
 "nbformat_minor": 2
}
