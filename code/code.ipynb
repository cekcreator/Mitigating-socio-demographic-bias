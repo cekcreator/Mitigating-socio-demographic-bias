{
 "cells": [
  {
   "cell_type": "code",
   "execution_count": 45,
   "metadata": {},
   "outputs": [],
   "source": [
    "import warnings\n",
    "\n",
    "warnings.filterwarnings(\"ignore\")\n",
    "\n",
    "import os\n",
    "import sys\n",
    "import time\n",
    "\n",
    "import pandas as pd\n",
    "import numpy as np\n",
    "import matplotlib.pyplot as plt\n",
    "\n",
    "import tensorflow as tf"
   ]
  },
  {
   "cell_type": "code",
   "execution_count": 46,
   "metadata": {},
   "outputs": [],
   "source": [
    "interview_data = pd.read_excel(\n",
    "    \"../data/DAIC_demographic_data.xlsx\",\n",
    "    sheet_name=\"Interview_Data\",\n",
    "    skiprows=lambda x: x == 1,\n",
    ")\n",
    "# interview_data.head()\n",
    "\n",
    "phq_score = pd.read_excel(\n",
    "    \"../data/DAIC_demographic_data.xlsx\", sheet_name=\"Metadata_mapping\"\n",
    ")\n",
    "\n",
    "# phq_score.head()"
   ]
  },
  {
   "cell_type": "markdown",
   "metadata": {},
   "source": [
    "The following step was a workaround to prevent the end of file error due to unclosed inverted commas. What the code is doing - opening and reading each file, reading each line and checking for lines that start with \" but does not end with \" (i.e., checking for unclosed quotes)."
   ]
  },
  {
   "cell_type": "code",
   "execution_count": 47,
   "metadata": {},
   "outputs": [],
   "source": [
    "# preprocessing the csv files to remove the unclosed inverted commas\n",
    "def clean_csv(file_path, output_path):\n",
    "    with open(file_path, \"r\") as infile, open(output_path, \"w\") as outfile:\n",
    "        for line in infile:\n",
    "            if line.startswith('\"') and not line.endswith('\"\\n'):\n",
    "                line = line[1:]\n",
    "            outfile.write(line)\n",
    "\n",
    "\n",
    "def process_directory(input_dir, output_dir):\n",
    "    if not os.path.exists(output_dir):\n",
    "        os.makedirs(output_dir)\n",
    "\n",
    "    for filename in os.listdir(input_dir):\n",
    "        if filename.endswith(\".csv\"):\n",
    "            input_path = os.path.join(input_dir, filename)\n",
    "            output_path = os.path.join(output_dir, filename)\n",
    "            clean_csv(input_path, output_path)\n",
    "\n",
    "\n",
    "input_dir = \"../data/E-DAIC_Transcripts\"\n",
    "output_dir = \"../data/E-DAIC_Transcripts_cleaned\"\n",
    "\n",
    "process_directory(input_dir, output_dir)"
   ]
  },
  {
   "cell_type": "code",
   "execution_count": 48,
   "metadata": {},
   "outputs": [
    {
     "data": {
      "text/html": [
       "<div>\n",
       "<style scoped>\n",
       "    .dataframe tbody tr th:only-of-type {\n",
       "        vertical-align: middle;\n",
       "    }\n",
       "\n",
       "    .dataframe tbody tr th {\n",
       "        vertical-align: top;\n",
       "    }\n",
       "\n",
       "    .dataframe thead th {\n",
       "        text-align: right;\n",
       "    }\n",
       "</style>\n",
       "<table border=\"1\" class=\"dataframe\">\n",
       "  <thead>\n",
       "    <tr style=\"text-align: right;\">\n",
       "      <th></th>\n",
       "      <th>Text</th>\n",
       "    </tr>\n",
       "  </thead>\n",
       "  <tbody>\n",
       "    <tr>\n",
       "      <th>0</th>\n",
       "      <td>might have pulled something that</td>\n",
       "    </tr>\n",
       "    <tr>\n",
       "      <th>1</th>\n",
       "      <td>I'm going to bring the great thanks so much</td>\n",
       "    </tr>\n",
       "    <tr>\n",
       "      <th>2</th>\n",
       "      <td>and please</td>\n",
       "    </tr>\n",
       "    <tr>\n",
       "      <th>3</th>\n",
       "      <td>are you okay with this yes</td>\n",
       "    </tr>\n",
       "    <tr>\n",
       "      <th>4</th>\n",
       "      <td>oh I'm fine I'm a little tired but I found ou...</td>\n",
       "    </tr>\n",
       "    <tr>\n",
       "      <th>...</th>\n",
       "      <td>...</td>\n",
       "    </tr>\n",
       "    <tr>\n",
       "      <th>76</th>\n",
       "      <td>yeah well after college people usually many p...</td>\n",
       "    </tr>\n",
       "    <tr>\n",
       "      <th>77</th>\n",
       "      <td>thank you goodbye</td>\n",
       "    </tr>\n",
       "    <tr>\n",
       "      <th>78</th>\n",
       "      <td>oh that was that was fast</td>\n",
       "    </tr>\n",
       "    <tr>\n",
       "      <th>79</th>\n",
       "      <td>but I didn't never said there wasn't any like...</td>\n",
       "    </tr>\n",
       "    <tr>\n",
       "      <th>80</th>\n",
       "      <td>never know I guess</td>\n",
       "    </tr>\n",
       "  </tbody>\n",
       "</table>\n",
       "<p>81 rows × 1 columns</p>\n",
       "</div>"
      ],
      "text/plain": [
       "                                                 Text\n",
       "0                    might have pulled something that\n",
       "1         I'm going to bring the great thanks so much\n",
       "2                                          and please\n",
       "3                          are you okay with this yes\n",
       "4    oh I'm fine I'm a little tired but I found ou...\n",
       "..                                                ...\n",
       "76   yeah well after college people usually many p...\n",
       "77                                  thank you goodbye\n",
       "78                          oh that was that was fast\n",
       "79   but I didn't never said there wasn't any like...\n",
       "80                                 never know I guess\n",
       "\n",
       "[81 rows x 1 columns]"
      ]
     },
     "execution_count": 48,
     "metadata": {},
     "output_type": "execute_result"
    }
   ],
   "source": [
    "cleaned_transcripts_path = \"../data/E-DAIC_Transcripts_cleaned\"\n",
    "\n",
    "transcripts = {}\n",
    "\n",
    "# loop through each file in the folder, load it, and store the content\n",
    "for filename in os.listdir(cleaned_transcripts_path):\n",
    "    if filename.endswith(\"_Transcript.csv\"):\n",
    "        participant_id = filename.split(\"_\")[0]  # extract the participant id\n",
    "        file_path = os.path.join(cleaned_transcripts_path, filename)\n",
    "\n",
    "        df = pd.read_csv(file_path)\n",
    "        transcripts[participant_id] = df\n",
    "\n",
    "# transcripts\n",
    "transcripts[\"386\"]"
   ]
  },
  {
   "cell_type": "code",
   "execution_count": 49,
   "metadata": {},
   "outputs": [],
   "source": [
    "# combine all the text data for each participant into a single string\n",
    "combined_transcripts = {}\n",
    "\n",
    "for participant_id, transcript in transcripts.items():\n",
    "    combined_transcripts[participant_id] = \" \".join(transcript[\"Text\"].astype(str))\n",
    "\n",
    "# removing extra spaces caused by newlines\n",
    "for participant_id, transcript in combined_transcripts.items():\n",
    "    combined_transcripts[participant_id] = \" \".join(transcript.split())\n",
    "\n",
    "# combined_transcripts[\"386\"]"
   ]
  },
  {
   "cell_type": "code",
   "execution_count": 50,
   "metadata": {},
   "outputs": [
    {
     "name": "stdout",
     "output_type": "stream",
     "text": [
      "Fold 1 contains 38 transcripts\n",
      "Fold 2 contains 38 transcripts\n",
      "Fold 3 contains 38 transcripts\n",
      "Fold 4 contains 38 transcripts\n",
      "Fold 5 contains 38 transcripts\n"
     ]
    }
   ],
   "source": [
    "# randomly split the transcripts into 5 folds\n",
    "import random\n",
    "import math\n",
    "\n",
    "all_keys = list(combined_transcripts.keys())\n",
    "random.seed(42)\n",
    "random.shuffle(all_keys)\n",
    "\n",
    "num_folds = 5\n",
    "fold_size = math.ceil(len(all_keys) / num_folds)\n",
    "folds = []\n",
    "\n",
    "for i in range(num_folds):\n",
    "    start = i * fold_size\n",
    "    end = start + fold_size\n",
    "    fold_keys = all_keys[start:end]\n",
    "    fold = {key: combined_transcripts[key] for key in fold_keys}\n",
    "    folds.append(fold)\n",
    "\n",
    "\n",
    "for i, fold in enumerate(folds):\n",
    "    print(f\"Fold {i+1} contains {len(fold)} transcripts\")"
   ]
  },
  {
   "cell_type": "markdown",
   "metadata": {},
   "source": [
    "## Extracting Language Features\n",
    "### _CountVectorizer_"
   ]
  },
  {
   "cell_type": "code",
   "execution_count": 63,
   "metadata": {},
   "outputs": [
    {
     "name": "stdout",
     "output_type": "stream",
     "text": [
      "Processing fold 1\n",
      "Fold 1 Count Features Shape: (38, 3783)\n",
      "First 10 words: 00, 10, 10th, 11, 12, 13, 14, 15, 15th, 16...\n",
      "\n",
      "Processing fold 2\n",
      "Fold 2 Count Features Shape: (38, 3517)\n",
      "First 10 words: 00, 07, 08, 09, 10, 100, 101, 11, 12, 13...\n",
      "\n",
      "Processing fold 3\n",
      "Fold 3 Count Features Shape: (38, 3731)\n",
      "First 10 words: 00, 04, 08, 10, 100, 101, 11, 11th, 12, 14...\n",
      "\n",
      "Processing fold 4\n",
      "Fold 4 Count Features Shape: (38, 3992)\n",
      "First 10 words: 00, 02, 10, 100, 1000000, 101, 11, 12, 13, 14...\n",
      "\n",
      "Processing fold 5\n",
      "Fold 5 Count Features Shape: (38, 3712)\n",
      "First 10 words: 00, 10, 11th, 12, 12th, 13, 14, 15, 16, 17...\n",
      "\n"
     ]
    }
   ],
   "source": [
    "from sklearn.feature_extraction.text import CountVectorizer\n",
    "\n",
    "fold_features_count = {}\n",
    "\n",
    "for i, fold in enumerate(folds):\n",
    "    print(f\"Processing fold {i+1}\")\n",
    "\n",
    "    fold_transcripts = list(fold.values())\n",
    "    fold_ids = list(fold.keys())\n",
    "\n",
    "    count_vectorizer = CountVectorizer()\n",
    "    count_features = count_vectorizer.fit_transform(fold_transcripts)\n",
    "    fold_features_count[f\"Fold_{i+1}\"] = {\n",
    "        \"features\": count_features,\n",
    "        \"vocabulary\": count_vectorizer.get_feature_names_out(),\n",
    "    }\n",
    "    print(f\"Fold {i+1} Count Features Shape: {count_features.shape}\")\n",
    "    print(f\"First 10 words: {', '.join(count_vectorizer.get_feature_names_out()[:10])}...\\n\")\n",
    "\n",
    "    # TODO: might have to do some preprocessing to remove the stop words, numbers and more"
   ]
  },
  {
   "cell_type": "markdown",
   "metadata": {},
   "source": [
    "### _TF-IDF Vectorizer_"
   ]
  },
  {
   "cell_type": "code",
   "execution_count": null,
   "metadata": {},
   "outputs": [
    {
     "name": "stdout",
     "output_type": "stream",
     "text": [
      "Processing fold 1\n",
      "Fold 1 TF-IDF Features Shape: (38, 3783)\n",
      "Fold 1 TF-IDF Vocabulary: 00, 10, 10th, 11, 12, 13, 14, 15, 15th, 16...\n",
      "\n",
      "Processing fold 2\n",
      "Fold 2 TF-IDF Features Shape: (38, 3517)\n",
      "Fold 2 TF-IDF Vocabulary: 00, 07, 08, 09, 10, 100, 101, 11, 12, 13...\n",
      "\n",
      "Processing fold 3\n",
      "Fold 3 TF-IDF Features Shape: (38, 3731)\n",
      "Fold 3 TF-IDF Vocabulary: 00, 04, 08, 10, 100, 101, 11, 11th, 12, 14...\n",
      "\n",
      "Processing fold 4\n",
      "Fold 4 TF-IDF Features Shape: (38, 3992)\n",
      "Fold 4 TF-IDF Vocabulary: 00, 02, 10, 100, 1000000, 101, 11, 12, 13, 14...\n",
      "\n",
      "Processing fold 5\n",
      "Fold 5 TF-IDF Features Shape: (38, 3712)\n",
      "Fold 5 TF-IDF Vocabulary: 00, 10, 11th, 12, 12th, 13, 14, 15, 16, 17...\n",
      "\n"
     ]
    }
   ],
   "source": [
    "from sklearn.feature_extraction.text import TfidfVectorizer\n",
    "\n",
    "fold_features_tfidf = {}\n",
    "\n",
    "for i, fold in enumerate(folds):\n",
    "    print(f\"Processing fold {i+1}\")\n",
    "\n",
    "    fold_transcripts = list(fold.values())\n",
    "    fold_ids = list(fold.keys())\n",
    "\n",
    "    # TF-IDF Vectorizer\n",
    "    tfidf_vectorizer = TfidfVectorizer()\n",
    "    tfidf_features = tfidf_vectorizer.fit_transform(fold_transcripts)\n",
    "    fold_features_tfidf[f\"Fold_{i+1}\"] = {\n",
    "        \"features\": tfidf_features,\n",
    "        \"vocabulary\": tfidf_vectorizer.get_feature_names_out(),\n",
    "    }\n",
    "    print(f\"Fold {i+1} TF-IDF Features Shape: {tfidf_features.shape}\")\n",
    "    print(\n",
    "        f\"Fold {i+1} TF-IDF Vocabulary: {', '.join(tfidf_vectorizer.get_feature_names_out()[:10])}...\\n\"\n",
    "    )\n",
    "\n",
    "    # TODO: maybe can also see the top N terms in each document"
   ]
  },
  {
   "cell_type": "markdown",
   "metadata": {},
   "source": [
    "### Semantic Features using _VADER_"
   ]
  },
  {
   "cell_type": "markdown",
   "metadata": {},
   "source": [
    "The `compound` score is the overall sentiment score, which is normalized score ranging from $-1$ (most extreme negative) to $+1$ (most extreme positive). The valence in the name _VADER_ is essentially this compound score, which represents the overall sentiment of the text."
   ]
  },
  {
   "cell_type": "code",
   "execution_count": 66,
   "metadata": {},
   "outputs": [],
   "source": [
    "# !pip install vaderSentiment\n",
    "from vaderSentiment.vaderSentiment import SentimentIntensityAnalyzer\n",
    "\n",
    "fold_features_sentiment = {}\n",
    "sentiment_analyzer = SentimentIntensityAnalyzer()\n",
    "\n",
    "for i, fold in enumerate(folds):\n",
    "    fold_sentiment_scores = {}\n",
    "    for participant_id, transcript in fold.items():\n",
    "        sentiment = sentiment_analyzer.polarity_scores(transcript)\n",
    "        fold_sentiment_scores[participant_id] = sentiment\n",
    "\n",
    "    # Print sentiment scores for each participant\n",
    "    # for participant_id, scores in fold_sentiment_scores.items():\n",
    "    #     print(f\"Participant ID: {participant_id}\")\n",
    "    #     print(f\"Sentiment Scores: {scores}\")\n",
    "\n",
    "    # Save sentiment scores to a dictionary or file\n",
    "    fold_features_sentiment[f\"Fold_{i+1}\"] = fold_sentiment_scores"
   ]
  },
  {
   "cell_type": "code",
   "execution_count": null,
   "metadata": {},
   "outputs": [],
   "source": []
  }
 ],
 "metadata": {
  "kernelspec": {
   "display_name": "jupyter_notebook",
   "language": "python",
   "name": "python3"
  },
  "language_info": {
   "codemirror_mode": {
    "name": "ipython",
    "version": 3
   },
   "file_extension": ".py",
   "mimetype": "text/x-python",
   "name": "python",
   "nbconvert_exporter": "python",
   "pygments_lexer": "ipython3",
   "version": "3.12.6"
  }
 },
 "nbformat": 4,
 "nbformat_minor": 2
}
