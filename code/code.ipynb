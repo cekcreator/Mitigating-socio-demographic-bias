{
 "cells": [
  {
   "cell_type": "code",
   "metadata": {
    "ExecuteTime": {
     "end_time": "2024-12-12T16:50:09.912508Z",
     "start_time": "2024-12-12T16:50:09.004577Z"
    }
   },
   "source": [
    "import warnings\n",
    "\n",
    "warnings.filterwarnings(\"ignore\")\n",
    "\n",
    "import os\n",
    "import sys\n",
    "import time\n",
    "\n",
    "import pandas as pd\n",
    "import numpy as np"
   ],
   "outputs": [],
   "execution_count": 1
  },
  {
   "cell_type": "markdown",
   "metadata": {},
   "source": [
    "## Part a: Extracting Language Features"
   ]
  },
  {
   "cell_type": "code",
   "metadata": {
    "ExecuteTime": {
     "end_time": "2024-12-12T16:50:19.548247Z",
     "start_time": "2024-12-12T16:50:19.429227Z"
    }
   },
   "source": [
    "# the interview data (sheet 1)\n",
    "interview_data = pd.read_excel(\n",
    "    \"../data/DAIC_demographic_data.xlsx\",\n",
    "    sheet_name=\"Interview_Data\",\n",
    "    skiprows=lambda x: x == 1,\n",
    ")\n",
    "# drop the rows where data in column Partic# is NaN\n",
    "interview_data = interview_data.dropna(subset=[\"Partic#\"])\n",
    "print(interview_data.tail())\n",
    "\n",
    "# the phq score data (sheet 2)\n",
    "phq_scores_data = pd.read_excel(\n",
    "    \"../data/DAIC_demographic_data.xlsx\", sheet_name=\"Metadata_mapping\"\n",
    ")\n",
    "\n",
    "#Convert Participant_ID column to string\n",
    "phq_scores_data['Participant_ID'] = phq_scores_data['Participant_ID'].astype(str)\n",
    "\n",
    "#Convert PHQ_Score to int\n",
    "phq_scores_data['PHQ_Score'] = phq_scores_data['PHQ_Score'].astype(int)\n",
    "\n",
    "print(phq_scores_data.head())"
   ],
   "outputs": [
    {
     "name": "stdout",
     "output_type": "stream",
     "text": [
      "     Partic# Condition  gender  race\n",
      "428    837.0        AI     2.0     3\n",
      "429    838.0        AI     1.0     1\n",
      "430    839.0        AI     1.0     1\n",
      "431    840.0        AI     2.0     3\n",
      "432    841.0        AI     1.0     4\n",
      "  Participant_ID  PHQ_Score\n",
      "0            300          2\n",
      "1            301          3\n",
      "2            302          4\n",
      "3            303          0\n",
      "4            304          6\n"
     ]
    }
   ],
   "execution_count": 2
  },
  {
   "cell_type": "markdown",
   "metadata": {},
   "source": [
    "The following step was a workaround to prevent the end of file error due to unclosed inverted commas. What the code is doing - opening and reading each file, reading each line and checking for lines that start with \" but does not end with \" (i.e., checking for unclosed quotes)."
   ]
  },
  {
   "cell_type": "code",
   "metadata": {
    "ExecuteTime": {
     "end_time": "2024-12-12T16:50:21.348957Z",
     "start_time": "2024-12-12T16:50:21.307518Z"
    }
   },
   "source": [
    "# preprocessing the csv files to remove the unclosed inverted commas\n",
    "def clean_csv(file_path, output_path):\n",
    "    with open(file_path, \"r\") as infile, open(output_path, \"w\") as outfile:\n",
    "        for line in infile:\n",
    "            if line.startswith('\"') and not line.endswith('\"\\n'):\n",
    "                line = line[1:]\n",
    "            outfile.write(line)\n",
    "\n",
    "\n",
    "def process_directory(input_dir, output_dir):\n",
    "    if not os.path.exists(output_dir):\n",
    "        os.makedirs(output_dir)\n",
    "\n",
    "    for filename in os.listdir(input_dir):\n",
    "        if filename.endswith(\".csv\"):\n",
    "            input_path = os.path.join(input_dir, filename)\n",
    "            output_path = os.path.join(output_dir, filename)\n",
    "            clean_csv(input_path, output_path)\n",
    "\n",
    "\n",
    "input_dir = \"../data/E-DAIC_Transcripts\"\n",
    "output_dir = \"../data/E-DAIC_Transcripts_cleaned\"\n",
    "\n",
    "process_directory(input_dir, output_dir)"
   ],
   "outputs": [],
   "execution_count": 3
  },
  {
   "cell_type": "code",
   "metadata": {
    "ExecuteTime": {
     "end_time": "2024-12-12T16:50:22.556867Z",
     "start_time": "2024-12-12T16:50:22.489355Z"
    }
   },
   "source": [
    "cleaned_transcripts_path = \"../data/E-DAIC_Transcripts_cleaned\"\n",
    "\n",
    "transcripts = {}\n",
    "\n",
    "# loop through each file in the folder, load it, and store the content\n",
    "for filename in os.listdir(cleaned_transcripts_path):\n",
    "    if filename.endswith(\"_Transcript.csv\"):\n",
    "        participant_id = filename.split(\"_\")[0]  # extract the participant id\n",
    "        file_path = os.path.join(cleaned_transcripts_path, filename)\n",
    "\n",
    "        df = pd.read_csv(file_path)\n",
    "        transcripts[participant_id] = df\n",
    "\n",
    "# transcripts\n",
    "transcripts[\"386\"]"
   ],
   "outputs": [
    {
     "data": {
      "text/plain": [
       "                                                 Text\n",
       "0                    might have pulled something that\n",
       "1         I'm going to bring the great thanks so much\n",
       "2                                          and please\n",
       "3                          are you okay with this yes\n",
       "4    oh I'm fine I'm a little tired but I found ou...\n",
       "..                                                ...\n",
       "76   yeah well after college people usually many p...\n",
       "77                                  thank you goodbye\n",
       "78                          oh that was that was fast\n",
       "79   but I didn't never said there wasn't any like...\n",
       "80                                 never know I guess\n",
       "\n",
       "[81 rows x 1 columns]"
      ],
      "text/html": [
       "<div>\n",
       "<style scoped>\n",
       "    .dataframe tbody tr th:only-of-type {\n",
       "        vertical-align: middle;\n",
       "    }\n",
       "\n",
       "    .dataframe tbody tr th {\n",
       "        vertical-align: top;\n",
       "    }\n",
       "\n",
       "    .dataframe thead th {\n",
       "        text-align: right;\n",
       "    }\n",
       "</style>\n",
       "<table border=\"1\" class=\"dataframe\">\n",
       "  <thead>\n",
       "    <tr style=\"text-align: right;\">\n",
       "      <th></th>\n",
       "      <th>Text</th>\n",
       "    </tr>\n",
       "  </thead>\n",
       "  <tbody>\n",
       "    <tr>\n",
       "      <th>0</th>\n",
       "      <td>might have pulled something that</td>\n",
       "    </tr>\n",
       "    <tr>\n",
       "      <th>1</th>\n",
       "      <td>I'm going to bring the great thanks so much</td>\n",
       "    </tr>\n",
       "    <tr>\n",
       "      <th>2</th>\n",
       "      <td>and please</td>\n",
       "    </tr>\n",
       "    <tr>\n",
       "      <th>3</th>\n",
       "      <td>are you okay with this yes</td>\n",
       "    </tr>\n",
       "    <tr>\n",
       "      <th>4</th>\n",
       "      <td>oh I'm fine I'm a little tired but I found ou...</td>\n",
       "    </tr>\n",
       "    <tr>\n",
       "      <th>...</th>\n",
       "      <td>...</td>\n",
       "    </tr>\n",
       "    <tr>\n",
       "      <th>76</th>\n",
       "      <td>yeah well after college people usually many p...</td>\n",
       "    </tr>\n",
       "    <tr>\n",
       "      <th>77</th>\n",
       "      <td>thank you goodbye</td>\n",
       "    </tr>\n",
       "    <tr>\n",
       "      <th>78</th>\n",
       "      <td>oh that was that was fast</td>\n",
       "    </tr>\n",
       "    <tr>\n",
       "      <th>79</th>\n",
       "      <td>but I didn't never said there wasn't any like...</td>\n",
       "    </tr>\n",
       "    <tr>\n",
       "      <th>80</th>\n",
       "      <td>never know I guess</td>\n",
       "    </tr>\n",
       "  </tbody>\n",
       "</table>\n",
       "<p>81 rows × 1 columns</p>\n",
       "</div>"
      ]
     },
     "execution_count": 4,
     "metadata": {},
     "output_type": "execute_result"
    }
   ],
   "execution_count": 4
  },
  {
   "cell_type": "code",
   "metadata": {
    "ExecuteTime": {
     "end_time": "2024-12-12T16:50:23.462765Z",
     "start_time": "2024-12-12T16:50:23.438553Z"
    }
   },
   "source": [
    "# combine all the text data for each participant into a single string\n",
    "combined_transcripts = {}\n",
    "\n",
    "for participant_id, transcript in transcripts.items():\n",
    "    combined_transcripts[participant_id] = \" \".join(transcript[\"Text\"].astype(str))\n",
    "\n",
    "# removing extra spaces caused by newlines\n",
    "for participant_id, transcript in combined_transcripts.items():\n",
    "    combined_transcripts[participant_id] = \" \".join(transcript.split())\n",
    "\n",
    "# combined_transcripts[\"386\"]"
   ],
   "outputs": [],
   "execution_count": 5
  },
  {
   "cell_type": "code",
   "metadata": {
    "ExecuteTime": {
     "end_time": "2024-12-12T16:50:31.178841Z",
     "start_time": "2024-12-12T16:50:24.277718Z"
    }
   },
   "source": [
    "# combine the demographic data with the extracted text data\n",
    "\n",
    "from sklearn.feature_extraction.text import CountVectorizer, TfidfVectorizer\n",
    "from vaderSentiment.vaderSentiment import SentimentIntensityAnalyzer\n",
    "\n",
    "# create the feature extractor objects here; using the base settings for now\n",
    "# TODO: make changes to the parameters to preprocess the text data\n",
    "\n",
    "corpus = list(combined_transcripts.values())\n",
    "tfidf_vectorizer = TfidfVectorizer()\n",
    "tfidf_vectorizer.fit(corpus)\n",
    "\n",
    "count_vectorizer = CountVectorizer()\n",
    "count_vectorizer.fit(corpus)\n",
    "\n",
    "sentiment_analyzer = SentimentIntensityAnalyzer()\n",
    "\n",
    "combined_data = []\n",
    "\n",
    "# convert the participant id in demographic data to int for consistency\n",
    "interview_data[\"Partic#\"] = interview_data[\"Partic#\"].astype(int)\n",
    "\n",
    "for _, row in interview_data.iterrows():\n",
    "    participant_id = str(row[\"Partic#\"])  # convert id to match the transcript ids\n",
    "\n",
    "    # find langauge features for this participant\n",
    "    if participant_id in combined_transcripts:\n",
    "        transcript = combined_transcripts[participant_id]\n",
    "\n",
    "        # tfidf features\n",
    "        tfidf_features = (\n",
    "            tfidf_vectorizer.transform([transcript]).toarray().flatten()\n",
    "        )  # has to be 1D array\n",
    "\n",
    "        # count features\n",
    "        count_features = count_vectorizer.transform([transcript]).toarray().flatten()\n",
    "\n",
    "        # sentiment features\n",
    "        sentiment_compound_scores = sentiment_analyzer.polarity_scores(transcript)[\n",
    "            \"compound\"\n",
    "        ]  # only extracting the compound score\n",
    "\n",
    "        # Extracting the PHQ score\n",
    "        phq_score_row = phq_scores_data[phq_scores_data[\"Participant_ID\"] == participant_id]\n",
    "        if not phq_score_row.empty:\n",
    "            phq_score = phq_score_row[\"PHQ_Score\"].values[0]\n",
    "        else:\n",
    "            phq_score = -1\n",
    "            continue  # skip this participant if PHQ score is not found\n",
    "\n",
    "        # combine all the features\n",
    "        data = {\n",
    "            \"participant_id\": participant_id,\n",
    "            \"condition\": row[\"Condition\"],\n",
    "            \"race\": row[\"race\"],\n",
    "            \"PHQ_score\": phq_score,\n",
    "            \"gender\": row[\"gender\"],\n",
    "            \"tfidf_features\": tfidf_features,\n",
    "            \"count_features\": count_features,\n",
    "            \"overall_sentiment\": sentiment_compound_scores\n",
    "        }\n",
    "\n",
    "        combined_data.append(data)\n",
    "\n",
    "# convert the combined data into a dataframe\n",
    "combined_data_df = pd.DataFrame(combined_data)\n",
    "\n",
    "# print(combined_data_df.head())"
   ],
   "outputs": [],
   "execution_count": 6
  },
  {
   "cell_type": "code",
   "metadata": {
    "ExecuteTime": {
     "end_time": "2024-12-12T16:50:31.191647Z",
     "start_time": "2024-12-12T16:50:31.184532Z"
    }
   },
   "source": [
    "combined_data_df.head()"
   ],
   "outputs": [
    {
     "data": {
      "text/plain": [
       "  participant_id condition  race  PHQ_score  gender  \\\n",
       "0            386       WoZ     3         11     2.0   \n",
       "1            387       WoZ     1          2     1.0   \n",
       "2            388       WoZ     4         17     1.0   \n",
       "3            389       WoZ     1         14     1.0   \n",
       "4            390       WoZ     3          9     1.0   \n",
       "\n",
       "                                      tfidf_features  \\\n",
       "0  [0.0, 0.0, 0.0, 0.0, 0.0, 0.0, 0.0085443313426...   \n",
       "1  [0.0, 0.0, 0.0, 0.0, 0.0, 0.0, 0.0253774451976...   \n",
       "2  [0.0, 0.0, 0.0, 0.0, 0.0, 0.0, 0.0292778521617...   \n",
       "3  [0.0, 0.0, 0.0, 0.0, 0.0, 0.0, 0.0487055979434...   \n",
       "4  [0.03182282795453763, 0.0, 0.0, 0.0, 0.0, 0.0,...   \n",
       "\n",
       "                                      count_features  overall_sentiment  \n",
       "0  [0, 0, 0, 0, 0, 0, 1, 0, 0, 0, 0, 0, 0, 0, 0, ...             0.9999  \n",
       "1  [0, 0, 0, 0, 0, 0, 1, 0, 0, 0, 0, 0, 0, 0, 0, ...             0.9996  \n",
       "2  [0, 0, 0, 0, 0, 0, 1, 0, 0, 0, 0, 0, 0, 0, 0, ...             0.9953  \n",
       "3  [0, 0, 0, 0, 0, 0, 2, 0, 0, 0, 0, 0, 0, 1, 0, ...             0.9822  \n",
       "4  [1, 0, 0, 0, 0, 0, 0, 0, 0, 0, 0, 0, 0, 0, 0, ...             0.9996  "
      ],
      "text/html": [
       "<div>\n",
       "<style scoped>\n",
       "    .dataframe tbody tr th:only-of-type {\n",
       "        vertical-align: middle;\n",
       "    }\n",
       "\n",
       "    .dataframe tbody tr th {\n",
       "        vertical-align: top;\n",
       "    }\n",
       "\n",
       "    .dataframe thead th {\n",
       "        text-align: right;\n",
       "    }\n",
       "</style>\n",
       "<table border=\"1\" class=\"dataframe\">\n",
       "  <thead>\n",
       "    <tr style=\"text-align: right;\">\n",
       "      <th></th>\n",
       "      <th>participant_id</th>\n",
       "      <th>condition</th>\n",
       "      <th>race</th>\n",
       "      <th>PHQ_score</th>\n",
       "      <th>gender</th>\n",
       "      <th>tfidf_features</th>\n",
       "      <th>count_features</th>\n",
       "      <th>overall_sentiment</th>\n",
       "    </tr>\n",
       "  </thead>\n",
       "  <tbody>\n",
       "    <tr>\n",
       "      <th>0</th>\n",
       "      <td>386</td>\n",
       "      <td>WoZ</td>\n",
       "      <td>3</td>\n",
       "      <td>11</td>\n",
       "      <td>2.0</td>\n",
       "      <td>[0.0, 0.0, 0.0, 0.0, 0.0, 0.0, 0.0085443313426...</td>\n",
       "      <td>[0, 0, 0, 0, 0, 0, 1, 0, 0, 0, 0, 0, 0, 0, 0, ...</td>\n",
       "      <td>0.9999</td>\n",
       "    </tr>\n",
       "    <tr>\n",
       "      <th>1</th>\n",
       "      <td>387</td>\n",
       "      <td>WoZ</td>\n",
       "      <td>1</td>\n",
       "      <td>2</td>\n",
       "      <td>1.0</td>\n",
       "      <td>[0.0, 0.0, 0.0, 0.0, 0.0, 0.0, 0.0253774451976...</td>\n",
       "      <td>[0, 0, 0, 0, 0, 0, 1, 0, 0, 0, 0, 0, 0, 0, 0, ...</td>\n",
       "      <td>0.9996</td>\n",
       "    </tr>\n",
       "    <tr>\n",
       "      <th>2</th>\n",
       "      <td>388</td>\n",
       "      <td>WoZ</td>\n",
       "      <td>4</td>\n",
       "      <td>17</td>\n",
       "      <td>1.0</td>\n",
       "      <td>[0.0, 0.0, 0.0, 0.0, 0.0, 0.0, 0.0292778521617...</td>\n",
       "      <td>[0, 0, 0, 0, 0, 0, 1, 0, 0, 0, 0, 0, 0, 0, 0, ...</td>\n",
       "      <td>0.9953</td>\n",
       "    </tr>\n",
       "    <tr>\n",
       "      <th>3</th>\n",
       "      <td>389</td>\n",
       "      <td>WoZ</td>\n",
       "      <td>1</td>\n",
       "      <td>14</td>\n",
       "      <td>1.0</td>\n",
       "      <td>[0.0, 0.0, 0.0, 0.0, 0.0, 0.0, 0.0487055979434...</td>\n",
       "      <td>[0, 0, 0, 0, 0, 0, 2, 0, 0, 0, 0, 0, 0, 1, 0, ...</td>\n",
       "      <td>0.9822</td>\n",
       "    </tr>\n",
       "    <tr>\n",
       "      <th>4</th>\n",
       "      <td>390</td>\n",
       "      <td>WoZ</td>\n",
       "      <td>3</td>\n",
       "      <td>9</td>\n",
       "      <td>1.0</td>\n",
       "      <td>[0.03182282795453763, 0.0, 0.0, 0.0, 0.0, 0.0,...</td>\n",
       "      <td>[1, 0, 0, 0, 0, 0, 0, 0, 0, 0, 0, 0, 0, 0, 0, ...</td>\n",
       "      <td>0.9996</td>\n",
       "    </tr>\n",
       "  </tbody>\n",
       "</table>\n",
       "</div>"
      ]
     },
     "execution_count": 7,
     "metadata": {},
     "output_type": "execute_result"
    }
   ],
   "execution_count": 7
  },
  {
   "cell_type": "markdown",
   "metadata": {},
   "source": [
    "Some useful information about the resulting dataframe - \n",
    "\n",
    "- Each term in the `TF-IDF` vector is considered a feature. The values represent the `TF-IDF` score for that term. A higher score could mean that the term is important to the transcript but no common in the entire list of transcripts. This is helpful in identifying the transcript's topic/sentiment.\n",
    "- Count features are straightforward. The value of a feature is the raw count of how many times the term appears in the transcript.\n",
    "- The compound score is the overall sentiment of the transcript. Its value ranges from $-1$ to $1$ where positive sentiments have a compound score of $\\geq 0.05$, neutral sentiment have a score between $-0.05$ and $0.05$, and negative sentiments have a compound score of $\\leq -0.05$."
   ]
  },
  {
   "cell_type": "markdown",
   "metadata": {},
   "source": [
    "## Part b: Classifying for gender"
   ]
  },
  {
   "cell_type": "code",
   "metadata": {
    "ExecuteTime": {
     "end_time": "2024-12-12T16:50:31.206905Z",
     "start_time": "2024-12-12T16:50:31.204022Z"
    }
   },
   "source": [
    "# drop race, condition, phq_score, and participant_id\n",
    "genderDF = combined_data_df.drop([\"race\", \"condition\", \"participant_id\", \"PHQ_score\"], axis=1)\n",
    "\n",
    "# drop any row with NaN\n",
    "genderDF = genderDF.dropna()\n",
    "\n",
    "# map gender from [1,2] -> [0,1] (XGBoost needs the labels to be 0 or 1)\n",
    "genderDF[\"gender\"] = genderDF[\"gender\"].map({1: 0, 2: 1})\n",
    "\n",
    "# extract the target values (gender)\n",
    "y = genderDF.pop(\"gender\")"
   ],
   "outputs": [],
   "execution_count": 8
  },
  {
   "cell_type": "code",
   "metadata": {
    "ExecuteTime": {
     "end_time": "2024-12-12T16:51:39.825045Z",
     "start_time": "2024-12-12T16:51:39.054823Z"
    }
   },
   "source": [
    "# XGBoost cannot accept multi-dimensional features so each list element must live in its own column\n",
    "\n",
    "# Expand lists into separate columns\n",
    "tfidf_features = pd.DataFrame(genderDF['tfidf_features'].tolist(), index=genderDF.index)\n",
    "tfidf_features.columns = [f'tfidf_features{i}' for i in range(tfidf_features.shape[1])]\n",
    "\n",
    "# Expand lists into separate columns\n",
    "count_features = pd.DataFrame(genderDF['count_features'].tolist(), index=genderDF.index)\n",
    "count_features.columns = [f'count_features{i}' for i in range(count_features.shape[1])]\n",
    "\n",
    "# recreate gender dataframe\n",
    "genderDF = pd.concat([tfidf_features, count_features], axis=1)\n",
    "\n",
    "genderDF.shape"
   ],
   "outputs": [
    {
     "data": {
      "text/plain": [
       "(132, 17404)"
      ]
     },
     "execution_count": 9,
     "metadata": {},
     "output_type": "execute_result"
    }
   ],
   "execution_count": 9
  },
  {
   "cell_type": "code",
   "execution_count": 76,
   "metadata": {
    "ExecuteTime": {
     "end_time": "2024-11-28T17:12:23.969642Z",
     "start_time": "2024-11-28T17:12:23.211035Z"
    }
   },
   "outputs": [],
   "source": [
    "# due to the flattening of the arrays, we not how 17404 features which is too much\n",
    "# therefore, we are going to use PCA to reduce our input dimensionality\n",
    "\n",
    "from sklearn.decomposition import PCA\n",
    "from sklearn.preprocessing import StandardScaler\n",
    "\n",
    "# Scale data before applying PCA\n",
    "scaling=StandardScaler()\n",
    " \n",
    "# Use fit and transform method \n",
    "scaling.fit(genderDF)\n",
    "Scaled_data=scaling.transform(genderDF)"
   ]
  },
  {
   "cell_type": "code",
   "execution_count": 77,
   "metadata": {
    "ExecuteTime": {
     "end_time": "2024-11-28T17:12:28.926527Z",
     "start_time": "2024-11-28T17:12:28.920583Z"
    }
   },
   "outputs": [],
   "source": [
    "# helper function to calculate accuracy and balanced accuracy\n",
    "def getAccAndBAcc(yPred, yTrue):\n",
    "\n",
    "    truePos = 0\n",
    "    trueNeg = 0\n",
    "    falsePos = 0\n",
    "    falseNeg = 0\n",
    "\n",
    "    for idx in range(len(yPred)):\n",
    "        \n",
    "        if yPred[idx] == 1:\n",
    "\n",
    "            if yTrue[idx] == 1:\n",
    "\n",
    "                truePos += 1\n",
    "\n",
    "            else:\n",
    "\n",
    "                falseNeg += 1\n",
    "\n",
    "        else:\n",
    "\n",
    "            if yTrue[idx] == 1:\n",
    "\n",
    "                falsePos += 1\n",
    "\n",
    "            else:\n",
    "\n",
    "                trueNeg += 1\n",
    "\n",
    "    if (trueNeg+falsePos) == 0 and (truePos+falseNeg) != 0:\n",
    "        balancedAccuracy = 0.5*truePos/(truePos+falseNeg)\n",
    "    elif (trueNeg+falsePos) != 0 and (truePos+falseNeg) == 0:\n",
    "        balancedAccuracy = 0.5*trueNeg/(trueNeg+falsePos)\n",
    "    else:\n",
    "        balancedAccuracy = 0.5*trueNeg/(trueNeg+falsePos) + 0.5*truePos/(truePos+falseNeg)\n",
    "    \n",
    "    accuracy = (truePos + trueNeg) / (truePos + trueNeg + falsePos + falseNeg)\n",
    "\n",
    "    return accuracy, balancedAccuracy"
   ]
  },
  {
   "cell_type": "code",
   "execution_count": 78,
   "metadata": {
    "ExecuteTime": {
     "end_time": "2024-11-28T17:12:43.487138Z",
     "start_time": "2024-11-28T17:12:30.768072Z"
    }
   },
   "outputs": [],
   "source": [
    "# create deep learning model\n",
    "import tensorflow as tf\n",
    "from tensorflow.keras.models import Sequential\n",
    "from tensorflow.keras.layers import Dense\n",
    "\n",
    "def getDLModel(inputShape):\n",
    "\n",
    "    model = Sequential([\n",
    "        Dense(128, activation='relu', input_shape=(inputShape,)),\n",
    "        Dense(64, activation='relu'),\n",
    "        Dense(32, activation='relu'),\n",
    "        Dense(16, activation='relu'),\n",
    "        Dense(8, activation='relu'),\n",
    "        Dense(1, activation=\"sigmoid\")\n",
    "    ])\n",
    "\n",
    "    model.compile(\n",
    "        optimizer='adam',\n",
    "        loss = 'binary_crossentropy',\n",
    "        metrics = [\"accuracy\"]\n",
    "    )\n",
    "\n",
    "    return model"
   ]
  },
  {
   "cell_type": "code",
   "execution_count": 79,
   "metadata": {},
   "outputs": [
    {
     "name": "stdout",
     "output_type": "stream",
     "text": [
      "\u001B[1m1/1\u001B[0m \u001B[32m━━━━━━━━━━━━━━━━━━━━\u001B[0m\u001B[37m\u001B[0m \u001B[1m0s\u001B[0m 83ms/step\n",
      "\u001B[1m1/1\u001B[0m \u001B[32m━━━━━━━━━━━━━━━━━━━━\u001B[0m\u001B[37m\u001B[0m \u001B[1m0s\u001B[0m 73ms/step\n",
      "\u001B[1m1/1\u001B[0m \u001B[32m━━━━━━━━━━━━━━━━━━━━\u001B[0m\u001B[37m\u001B[0m \u001B[1m0s\u001B[0m 76ms/step\n",
      "\u001B[1m1/1\u001B[0m \u001B[32m━━━━━━━━━━━━━━━━━━━━\u001B[0m\u001B[37m\u001B[0m \u001B[1m0s\u001B[0m 85ms/step\n",
      "\u001B[1m1/1\u001B[0m \u001B[32m━━━━━━━━━━━━━━━━━━━━\u001B[0m\u001B[37m\u001B[0m \u001B[1m0s\u001B[0m 74ms/step\n",
      "\u001B[1m1/1\u001B[0m \u001B[32m━━━━━━━━━━━━━━━━━━━━\u001B[0m\u001B[37m\u001B[0m \u001B[1m0s\u001B[0m 70ms/step\n",
      "\u001B[1m1/1\u001B[0m \u001B[32m━━━━━━━━━━━━━━━━━━━━\u001B[0m\u001B[37m\u001B[0m \u001B[1m0s\u001B[0m 84ms/step\n",
      "\u001B[1m1/1\u001B[0m \u001B[32m━━━━━━━━━━━━━━━━━━━━\u001B[0m\u001B[37m\u001B[0m \u001B[1m0s\u001B[0m 65ms/step\n",
      "\u001B[1m1/1\u001B[0m \u001B[32m━━━━━━━━━━━━━━━━━━━━\u001B[0m\u001B[37m\u001B[0m \u001B[1m0s\u001B[0m 54ms/step\n",
      "\n",
      "\n",
      "#######################################\n",
      "Values for Cov. Floor: 0.1, Components: 6:\n",
      "Tree accuracy: 0.5555555555555556\n",
      "Tree balanced accuracy: 0.5521978021978022\n",
      "DL accuracy: 0.6666666666666666\n",
      "DL balanced accuracy: 0.7010869565217391\n",
      "#######################################\n",
      "Values for Cov. Floor: 0.2, Components: 13:\n",
      "Tree accuracy: 0.6296296296296297\n",
      "Tree balanced accuracy: 0.6263736263736264\n",
      "DL accuracy: 0.6666666666666666\n",
      "DL balanced accuracy: 0.8200000000000001\n",
      "#######################################\n",
      "Values for Cov. Floor: 0.3, Components: 22:\n",
      "Tree accuracy: 0.5925925925925926\n",
      "Tree balanced accuracy: 0.5961538461538461\n",
      "DL accuracy: 0.5925925925925926\n",
      "DL balanced accuracy: 0.5543478260869565\n",
      "#######################################\n",
      "Values for Cov. Floor: 0.4, Components: 32:\n",
      "Tree accuracy: 0.5925925925925926\n",
      "Tree balanced accuracy: 0.5833333333333333\n",
      "DL accuracy: 0.6666666666666666\n",
      "DL balanced accuracy: 0.8200000000000001\n",
      "#######################################\n",
      "Values for Cov. Floor: 0.5, Components: 43:\n",
      "Tree accuracy: 0.5925925925925926\n",
      "Tree balanced accuracy: 0.5961538461538461\n",
      "DL accuracy: 0.6296296296296297\n",
      "DL balanced accuracy: 0.6458333333333333\n",
      "#######################################\n",
      "Values for Cov. Floor: 0.6, Components: 55:\n",
      "Tree accuracy: 0.6296296296296297\n",
      "Tree balanced accuracy: 0.6164772727272727\n",
      "DL accuracy: 0.5185185185185185\n",
      "DL balanced accuracy: 0.45238095238095233\n",
      "#######################################\n",
      "Values for Cov. Floor: 0.7, Components: 69:\n",
      "Tree accuracy: 0.5555555555555556\n",
      "Tree balanced accuracy: 0.5397727272727273\n",
      "DL accuracy: 0.5555555555555556\n",
      "DL balanced accuracy: 0.28846153846153844\n",
      "#######################################\n",
      "Values for Cov. Floor: 0.8, Components: 85:\n",
      "Tree accuracy: 0.5555555555555556\n",
      "Tree balanced accuracy: 0.5521978021978022\n",
      "DL accuracy: 0.5925925925925926\n",
      "DL balanced accuracy: 0.2962962962962963\n",
      "#######################################\n",
      "Values for Cov. Floor: 0.9, Components: 104:\n",
      "Tree accuracy: 0.4444444444444444\n",
      "Tree balanced accuracy: 0.44780219780219777\n",
      "DL accuracy: 0.5925925925925926\n",
      "DL balanced accuracy: 0.2962962962962963\n",
      "\n",
      "\n",
      "#######################################\n",
      "Max Tree Covariance Floor: 0.2, with balanced accuracy of 62.637362637362635%\n",
      "Max DL Covariance Floor: 0.2, with balanced accuracy of 82.0%\n",
      "#######################################\n"
     ]
    }
   ],
   "source": [
    "from sklearn.model_selection import train_test_split\n",
    "#!pip install xgboost\n",
    "import xgboost as xgb\n",
    "\n",
    "# minimum covariance for feature to be included\n",
    "pcaCovarianceFloor = [0.1, 0.2, 0.3, 0.4, 0.5, 0.6, 0.7, 0.8, 0.9]\n",
    "\n",
    "bAccTree = []\n",
    "accTree  = []\n",
    "\n",
    "bAccDL = []\n",
    "accDL  = []\n",
    "\n",
    "numberOfComponents = []\n",
    "\n",
    "for pcaFloor in pcaCovarianceFloor:\n",
    "\n",
    "    # run PCA with given number of components\n",
    "    principal=PCA(n_components=pcaFloor)\n",
    "    principal.fit(Scaled_data)\n",
    "    x=principal.transform(Scaled_data)\n",
    "\n",
    "    # get the reduced dataset\n",
    "    reducedGenderData = principal.transform(Scaled_data)\n",
    "    numberOfComponents.append(reducedGenderData.shape[1])\n",
    "    reducedGenderDF = pd.DataFrame(reducedGenderData, columns=[f\"PC{i}\" for i in range(1, numberOfComponents[-1] + 1)])\n",
    "\n",
    "    # split the dataset into testing and training splits\n",
    "    # since the dataset is so small, we want to make sure \n",
    "    # there is at least 10 of each class in test split\n",
    "    xTrain, xTest, yTrain, yTest = train_test_split(reducedGenderDF, y, test_size=0.2, random_state=76)\n",
    "\n",
    "    # train XGBoost model\n",
    "    xgb_classifier = xgb.XGBClassifier()\n",
    "    xgb_classifier.fit(xTrain, yTrain)\n",
    "\n",
    "    # get test accuracy and balanced accuracy\n",
    "    acc, bAcc = getAccAndBAcc(xgb_classifier.predict(xTest), yTest.to_numpy())\n",
    "\n",
    "    # store accuracies\n",
    "    accTree.append(acc)\n",
    "    bAccTree.append(bAcc)\n",
    "\n",
    "    # train DL model\n",
    "    FNN = getDLModel(numberOfComponents[-1])\n",
    "    FNN.fit(xTrain, yTrain, epochs=100, verbose=0)\n",
    "\n",
    "    # get test accuracy and balanced accuracy\n",
    "    acc, bAcc = getAccAndBAcc(FNN.predict(xTest), yTest.to_numpy())\n",
    "\n",
    "    # store accuracies\n",
    "    accDL.append(acc)\n",
    "    bAccDL.append(bAcc)\n",
    "\n",
    "print(\"\\n\")\n",
    "for idx in range(len(pcaCovarianceFloor)):\n",
    "\n",
    "    print(\"#######################################\")\n",
    "    print(f\"Values for Cov. Floor: {pcaCovarianceFloor[idx]}, Components: {numberOfComponents[idx]}:\")\n",
    "    print(f\"Tree accuracy: {accTree[idx]}\")\n",
    "    print(f\"Tree balanced accuracy: {bAccTree[idx]}\")\n",
    "    print(f\"DL accuracy: {accDL[idx]}\")\n",
    "    print(f\"DL balanced accuracy: {bAccDL[idx]}\")\n",
    "\n",
    "\n",
    "maxTreeBAccPCACovFloor = pcaCovarianceFloor[np.argmax(bAccTree)]\n",
    "maxDLBAccPCACovFloor = pcaCovarianceFloor[np.argmax(bAccDL)]\n",
    "\n",
    "print(\"\\n\")\n",
    "print(\"#######################################\")\n",
    "print(f\"Max Tree Covariance Floor: {maxTreeBAccPCACovFloor}, with balanced accuracy of {np.max(bAccTree) * 100}%\")\n",
    "print(f\"Max DL Covariance Floor: {maxDLBAccPCACovFloor}, with balanced accuracy of {np.max(bAccDL) * 100}%\")\n",
    "print(\"#######################################\")"
   ]
  },
  {
   "cell_type": "markdown",
   "metadata": {},
   "source": [
    "# part c"
   ]
  },
  {
   "cell_type": "code",
   "execution_count": 80,
   "metadata": {
    "ExecuteTime": {
     "end_time": "2024-11-28T18:30:48.541188Z",
     "start_time": "2024-11-28T18:30:47.988573Z"
    }
   },
   "outputs": [],
   "source": [
    "# imports\n",
    "from keras.models import Sequential, Model\n",
    "from keras.layers import Dense, Dropout, BatchNormalization, Attention, Flatten, Input\n",
    "from keras.optimizers import SGD\n",
    "from keras.regularizers import l2\n",
    "from sklearn.model_selection import train_test_split\n",
    "import xgboost as xgb"
   ]
  },
  {
   "cell_type": "code",
   "execution_count": 81,
   "metadata": {
    "ExecuteTime": {
     "end_time": "2024-11-28T17:43:13.714608Z",
     "start_time": "2024-11-28T17:43:13.706322Z"
    }
   },
   "outputs": [],
   "source": [
    "def create_df(input_df, col_to_drop, y_col):\n",
    "    new_df = input_df.drop(col_to_drop, axis=1)\n",
    "    new_df = new_df.dropna()\n",
    "    y_new = new_df.pop(y_col)\n",
    "    tfidf_features = pd.DataFrame(new_df['tfidf_features'].tolist(), index=new_df.index)\n",
    "    tfidf_features.columns = [f'tfidf_features{i}' for i in range(tfidf_features.shape[1])]\n",
    "\n",
    "    count_features = pd.DataFrame(new_df['count_features'].tolist(), index=new_df.index)\n",
    "    count_features.columns = [f'count_features{i}' for i in range(count_features.shape[1])]\n",
    "    \n",
    "    new_df = pd.concat([tfidf_features, count_features], axis=1)\n",
    "    return new_df, y_new"
   ]
  },
  {
   "cell_type": "code",
   "execution_count": null,
   "metadata": {
    "ExecuteTime": {
     "end_time": "2024-11-28T17:50:08.139930Z",
     "start_time": "2024-11-28T17:50:07.498883Z"
    }
   },
   "outputs": [
    {
     "data": {
      "text/plain": [
       "((134, 17404), (134,))"
      ]
     },
     "execution_count": 82,
     "metadata": {},
     "output_type": "execute_result"
    }
   ],
   "source": [
    "race_df, y_race = create_df(combined_data_df, [\"gender\", \"condition\", \"participant_id\", \"PHQ_score\"], \"race\")\n",
    "race_df.shape, y_race.shape"
   ]
  },
  {
   "cell_type": "code",
   "execution_count": 83,
   "metadata": {
    "ExecuteTime": {
     "end_time": "2024-11-28T18:36:55.424774Z",
     "start_time": "2024-11-28T18:36:55.404106Z"
    }
   },
   "outputs": [
    {
     "data": {
      "text/plain": [
       "0      2\n",
       "1      0\n",
       "2      3\n",
       "3      0\n",
       "4      2\n",
       "      ..\n",
       "129    4\n",
       "130    2\n",
       "131    0\n",
       "132    2\n",
       "133    2\n",
       "Name: race, Length: 134, dtype: int64"
      ]
     },
     "execution_count": 83,
     "metadata": {},
     "output_type": "execute_result"
    }
   ],
   "source": [
    "# xgboost needs the range to start at 0\n",
    "y_race = y_race - 1\n",
    "y_race"
   ]
  },
  {
   "cell_type": "code",
   "execution_count": 84,
   "metadata": {
    "ExecuteTime": {
     "end_time": "2024-11-28T17:49:04.061900Z",
     "start_time": "2024-11-28T17:49:04.044871Z"
    }
   },
   "outputs": [],
   "source": [
    "def scale_data(input_df):\n",
    "    scaling=StandardScaler()\n",
    "    scaling.fit(input_df)\n",
    "    Scaled_data=scaling.transform(input_df)\n",
    "    return Scaled_data"
   ]
  },
  {
   "cell_type": "code",
   "execution_count": 85,
   "metadata": {
    "ExecuteTime": {
     "end_time": "2024-11-28T18:22:41.261261Z",
     "start_time": "2024-11-28T18:22:41.250044Z"
    }
   },
   "outputs": [],
   "source": [
    "def get_dense_model(input_shape):\n",
    "    \n",
    "    model = Sequential([\n",
    "        Dense(128, activation='relu', input_shape=(input_shape,)),\n",
    "        BatchNormalization(),\n",
    "        Dropout(0.3),\n",
    "    \n",
    "        Dense(64, activation='relu'),\n",
    "        BatchNormalization(),\n",
    "        Dropout(0.3),\n",
    "    \n",
    "        Dense(32, activation='relu'),\n",
    "        BatchNormalization(),\n",
    "        Dropout(0.3),\n",
    "    \n",
    "        Dense(16, activation='relu'),\n",
    "        BatchNormalization(),\n",
    "        Dropout(0.3),\n",
    "    \n",
    "        Dense(8, activation='relu'),\n",
    "        BatchNormalization(),\n",
    "        Dropout(0.3),\n",
    "    \n",
    "        Dense(1, activation=\"sigmoid\")\n",
    "    ])\n",
    "    \n",
    "    model.compile(optimizer='adam', loss='binary_crossentropy', metrics=['accuracy'])\n",
    "    return model"
   ]
  },
  {
   "cell_type": "code",
   "execution_count": null,
   "metadata": {
    "ExecuteTime": {
     "end_time": "2024-11-28T18:37:29.368230Z",
     "start_time": "2024-11-28T18:37:04.294557Z"
    }
   },
   "outputs": [
    {
     "name": "stdout",
     "output_type": "stream",
     "text": [
      "\u001B[1m1/1\u001B[0m \u001B[32m━━━━━━━━━━━━━━━━━━━━\u001B[0m\u001B[37m\u001B[0m \u001B[1m0s\u001B[0m 202ms/step\n",
      "\u001B[1m1/1\u001B[0m \u001B[32m━━━━━━━━━━━━━━━━━━━━\u001B[0m\u001B[37m\u001B[0m \u001B[1m0s\u001B[0m 23ms/step\n",
      "[2 2 3 2 2 0 2 6 0 6 0 2 0 2 0 2 2 2 2 2 3 2 0 2 2 3 2]\n",
      "[0.58213997 0.9465875  0.9135452  0.9200443  0.97254556 0.88910455\n",
      " 0.93198967 0.98857963 0.9179726  0.9168656  0.95342916 0.89318293\n",
      " 0.02660007 0.91617525 0.95555437 0.97454137 0.5222763  0.9778992\n",
      " 0.983741   0.9231853  0.96315026 0.9467469  0.8984548  0.88574713\n",
      " 0.9868848  0.97462684 0.30373526]\n",
      "[0 2 2 0 0 2 2 0 0 0 0 3 1 2 3 2 0 2 3 3 2 2 2 1 0 1 0]\n"
     ]
    }
   ],
   "source": [
    "scaled_data = scale_data(race_df)\n",
    "\n",
    "pcaCovarianceFloor = [0.1, 0.2, 0.3, 0.4, 0.5, 0.6, 0.7, 0.8, 0.9]\n",
    "# [0.1, 0.2, 0.3, 0.4, 0.5, 0.6, 0.7, 0.8, 0.9]\n",
    "\n",
    "bA_dense, ba_xgb = [], []\n",
    "a_dense, a_xgb = [], []\n",
    "\n",
    "num_comp = []\n",
    "\n",
    "for pcaFloor in pcaCovarianceFloor:\n",
    "    \n",
    "    principal=PCA(n_components=pcaFloor)\n",
    "    principal.fit(scaled_data)\n",
    "    x=principal.transform(scaled_data)\n",
    "    \n",
    "    reduced_race_df = principal.transform(scaled_data)\n",
    "    num_comp.append(reduced_race_df.shape[1])\n",
    "    reduced_race_df = pd.DataFrame(reduced_race_df, columns=[f\"PC{i}\" for i in range(1, num_comp[-1] + 1)])\n",
    "    \n",
    "    x_train, x_test, y_train, y_test = train_test_split(reduced_race_df, y_race, test_size=0.2, random_state=76)\n",
    "\n",
    "    attention_model = get_dense_model(num_comp[-1])\n",
    "    attention_model.fit(x_train, y_train, epochs=100, verbose=0)\n",
    "\n",
    "    acc, bAcc = getAccAndBAcc(attention_model.predict(x_test), y_test.to_numpy())\n",
    "\n",
    "    a_dense.append(acc)\n",
    "    bA_dense.append(bAcc)\n",
    "    \n",
    "    xgb_classifier = xgb.XGBClassifier()\n",
    "    xgb_classifier.fit(x_train, y_train)\n",
    "\n",
    "    acc, bAcc = getAccAndBAcc(xgb_classifier.predict(x_test), y_test.to_numpy())\n",
    "\n",
    "    \n",
    "    a_xgb.append(acc)\n",
    "    ba_xgb.append(bAcc)\n",
    "    "
   ]
  },
  {
   "cell_type": "code",
   "execution_count": 90,
   "metadata": {
    "ExecuteTime": {
     "end_time": "2024-11-28T18:43:44.315866Z",
     "start_time": "2024-11-28T18:43:44.284826Z"
    }
   },
   "outputs": [
    {
     "name": "stdout",
     "output_type": "stream",
     "text": [
      "\n",
      "\n",
      "#######################################\n",
      "Values for Cov. Floor: 0.1, Components: 6:\n",
      "Tree accuracy: 0.8888888888888888\n",
      "Tree balanced accuracy: 0.4444444444444444\n",
      "DL accuracy: 0.8888888888888888\n",
      "DL balanced accuracy: 0.4444444444444444\n",
      "#######################################\n",
      "Values for Cov. Floor: 0.2, Components: 13:\n",
      "Tree accuracy: 0.8888888888888888\n",
      "Tree balanced accuracy: 0.4444444444444444\n",
      "DL accuracy: 0.8888888888888888\n",
      "DL balanced accuracy: 0.4444444444444444\n",
      "#######################################\n",
      "Values for Cov. Floor: 0.3, Components: 22:\n",
      "Tree accuracy: 0.8888888888888888\n",
      "Tree balanced accuracy: 0.4444444444444444\n",
      "DL accuracy: 0.8888888888888888\n",
      "DL balanced accuracy: 0.4444444444444444\n",
      "#######################################\n",
      "Values for Cov. Floor: 0.4, Components: 32:\n",
      "Tree accuracy: 0.8888888888888888\n",
      "Tree balanced accuracy: 0.4444444444444444\n",
      "DL accuracy: 0.8888888888888888\n",
      "DL balanced accuracy: 0.4444444444444444\n",
      "#######################################\n",
      "Values for Cov. Floor: 0.5, Components: 44:\n",
      "Tree accuracy: 0.8888888888888888\n",
      "Tree balanced accuracy: 0.4444444444444444\n",
      "DL accuracy: 0.8888888888888888\n",
      "DL balanced accuracy: 0.4444444444444444\n",
      "#######################################\n",
      "Values for Cov. Floor: 0.6, Components: 56:\n",
      "Tree accuracy: 0.8888888888888888\n",
      "Tree balanced accuracy: 0.4444444444444444\n",
      "DL accuracy: 0.8888888888888888\n",
      "DL balanced accuracy: 0.4444444444444444\n",
      "#######################################\n",
      "Values for Cov. Floor: 0.7, Components: 70:\n",
      "Tree accuracy: 0.8888888888888888\n",
      "Tree balanced accuracy: 0.4444444444444444\n",
      "DL accuracy: 0.8888888888888888\n",
      "DL balanced accuracy: 0.4444444444444444\n",
      "#######################################\n",
      "Values for Cov. Floor: 0.8, Components: 87:\n",
      "Tree accuracy: 0.8888888888888888\n",
      "Tree balanced accuracy: 0.4444444444444444\n",
      "DL accuracy: 0.8888888888888888\n",
      "DL balanced accuracy: 0.4444444444444444\n",
      "#######################################\n",
      "Values for Cov. Floor: 0.9, Components: 106:\n",
      "Tree accuracy: 0.8888888888888888\n",
      "Tree balanced accuracy: 0.4444444444444444\n",
      "DL accuracy: 0.8888888888888888\n",
      "DL balanced accuracy: 0.4444444444444444\n",
      "\n",
      "\n",
      "#######################################\n",
      "Max Tree Covariance Floor: 0.1, with balanced accuracy of 44.44444444444444%\n",
      "Max DL Covariance Floor: 0.1, with balanced accuracy of 44.44444444444444%\n",
      "#######################################\n"
     ]
    }
   ],
   "source": [
    "print(\"\\n\")\n",
    "for idx in range(len(pcaCovarianceFloor)):\n",
    "\n",
    "    print(\"#######################################\")\n",
    "    print(f\"Values for Cov. Floor: {pcaCovarianceFloor[idx]}, Components: {num_comp[idx]}:\")\n",
    "    print(f\"Tree accuracy: {a_xgb[idx]}\")\n",
    "    print(f\"Tree balanced accuracy: {ba_xgb[idx]}\")\n",
    "    print(f\"DL accuracy: {a_dense[idx]}\")\n",
    "    print(f\"DL balanced accuracy: {bA_dense[idx]}\")\n",
    "\n",
    "\n",
    "maxTreeBAccPCACovFloor = pcaCovarianceFloor[np.argmax(ba_xgb)]\n",
    "maxDLBAccPCACovFloor = pcaCovarianceFloor[np.argmax(bA_dense)]\n",
    "\n",
    "print(\"\\n\")\n",
    "print(\"#######################################\")\n",
    "print(f\"Max Tree Covariance Floor: {maxTreeBAccPCACovFloor}, with balanced accuracy of {np.max(ba_xgb) * 100}%\")\n",
    "print(f\"Max DL Covariance Floor: {maxDLBAccPCACovFloor}, with balanced accuracy of {np.max(bA_dense) * 100}%\")\n",
    "print(\"#######################################\")"
   ]
  },
  {
   "cell_type": "markdown",
   "metadata": {},
   "source": [
    "# part d"
   ]
  },
  {
   "cell_type": "code",
   "execution_count": 111,
   "metadata": {},
   "outputs": [],
   "source": [
    "def absRelErr(yPred, yTrue):\n",
    "    return np.mean(np.abs(yPred - yTrue) / np.max(yTrue))\n",
    "\n",
    "\n",
    "\n",
    "def pearsonCorr(yPred, yTrue):\n",
    "    return np.corrcoef(yPred, yTrue)[0, 1]\n"
   ]
  },
  {
   "cell_type": "code",
   "execution_count": 114,
   "metadata": {},
   "outputs": [],
   "source": [
    "\n",
    "\n",
    "def getDLModelPHQ(inputShape):\n",
    "\n",
    "    model = Sequential([\n",
    "        Dense(128, activation='relu', input_shape=(inputShape,)),\n",
    "        Dense(64, activation='relu'),\n",
    "        Dense(32, activation='relu'),\n",
    "        Dense(16, activation='relu'),\n",
    "        Dense(8, activation='relu'),\n",
    "        Dense(1, activation=\"linear\")\n",
    "    ])\n",
    "\n",
    "    model.compile(\n",
    "        optimizer='adam',\n",
    "        loss = 'binary_crossentropy',\n",
    "        metrics = [\"accuracy\"]\n",
    "    )\n",
    "\n",
    "    return model"
   ]
  },
  {
   "cell_type": "code",
   "execution_count": null,
   "metadata": {},
   "outputs": [
    {
     "name": "stdout",
     "output_type": "stream",
     "text": [
      "\u001B[1m1/1\u001B[0m \u001B[32m━━━━━━━━━━━━━━━━━━━━\u001B[0m\u001B[37m\u001B[0m \u001B[1m0s\u001B[0m 77ms/step\n",
      "\u001B[1m1/1\u001B[0m \u001B[32m━━━━━━━━━━━━━━━━━━━━\u001B[0m\u001B[37m\u001B[0m \u001B[1m0s\u001B[0m 23ms/step\n",
      "DL: [13.337463   2.258594   4.4206686  4.718963  12.492231   5.1419744\n",
      " 12.062782  12.091892   3.3506124  5.1999702  3.191227   5.011941\n",
      " 13.5868845  4.8835373  9.297262  12.555527  15.228771   4.727675\n",
      " 13.370886   2.4170954  2.0760539  3.0328467  4.8470025  3.6417987\n",
      "  4.6540422  6.291273  16.052652 ]\n",
      "XGB: [ 5.090878   4.273607   4.4827123  4.713615  12.078203  12.830768\n",
      "  5.066999  12.960701   6.7639174  4.727186   7.1131506  7.7622232\n",
      "  7.646736   6.0238395  9.4570875  7.1776958  4.96517    6.283907\n",
      "  5.917521   4.4232993  1.436622   6.660711   3.411708   6.949372\n",
      "  9.9961195  4.734971   4.9377565]\n",
      "True: [ 1 10  0  1  6  1  1  8  2  2  0  9  0  0  3 15  2  1  9 16  4  0  4  0\n",
      "  3  1  2]\n",
      "\u001B[1m1/1\u001B[0m \u001B[32m━━━━━━━━━━━━━━━━━━━━\u001B[0m\u001B[37m\u001B[0m \u001B[1m0s\u001B[0m 24ms/step\n"
     ]
    }
   ],
   "source": [
    "phq_df, y_phq = create_df(combined_data_df, [\"gender\", \"condition\", \"participant_id\", \"race\"], \"PHQ_score\")\n",
    "\n",
    "scaled_data = scale_data(phq_df)\n",
    "\n",
    "pcaCovarianceFloor = [0.1, 0.2, 0.3, 0.4, 0.5, 0.6, 0.7, 0.8, 0.9]\n",
    "pcaCovarianceFloor = [0.5]\n",
    "\n",
    "re_dense, re_xgb = [], []\n",
    "r_dense, r_xgb = [], []\n",
    "\n",
    "num_comp = []\n",
    "\n",
    "for pcaFloor in pcaCovarianceFloor:\n",
    "\n",
    "    principal=PCA(n_components=pcaFloor)\n",
    "    principal.fit(scaled_data)\n",
    "    x=principal.transform(scaled_data)\n",
    "    \n",
    "    reduced_phq_df = principal.transform(scaled_data)\n",
    "    num_comp.append(reduced_phq_df.shape[1])\n",
    "    reduced_phq_df = pd.DataFrame(reduced_phq_df, columns=[f\"PC{i}\" for i in range(1, num_comp[-1] + 1)])\n",
    "    \n",
    "    x_train, x_test, y_train, y_test = train_test_split(reduced_phq_df, y_phq, test_size=0.2, random_state=76)\n",
    "\n",
    "    attention_model = getDLModelPHQ(num_comp[-1])\n",
    "    attention_model.fit(x_train, y_train, epochs=100, verbose=0)\n",
    "\n",
    "    relErr = absRelErr(attention_model.predict(x_test), y_test.to_numpy())\n",
    "    re_dense.append(relErr)\n",
    "    \n",
    "    xgb_regressor = xgb.XGBRegressor()\n",
    "    xgb_regressor.fit(x_train, y_train)\n",
    "\n",
    "    relErr = absRelErr(xgb_regressor.predict(x_test), y_test.to_numpy())\n",
    "    re_xgb.append(relErr)\n",
    "\n",
    "    pearson = pearsonCorr(xgb_regressor.predict(x_test), y_test.to_numpy())\n",
    "    r_xgb.append(pearson)\n",
    "\n",
    "    pearson = pearsonCorr(attention_model.predict(x_test).flatten(), y_test.to_numpy())\n",
    "    r_dense.append(pearson)\n",
    "\n",
    "    \n",
    "\n",
    "    "
   ]
  },
  {
   "cell_type": "code",
   "execution_count": 118,
   "metadata": {},
   "outputs": [
    {
     "name": "stdout",
     "output_type": "stream",
     "text": [
      "\n",
      "\n",
      "#######################################\n",
      "Values for Cov. Floor: 0.1, Components: 6:\n",
      "Tree Abs. Rel. Err.: 0.33117100072127803\n",
      "Tree Pearson Corr.: -0.10339518775899634\n",
      "DL Abs. Rel. Err.: 0.25367001057774935\n",
      "DL Pearson Corr.: 0.183301031282902\n",
      "#######################################\n",
      "Values for Cov. Floor: 0.2, Components: 13:\n",
      "Tree Abs. Rel. Err.: 0.2908648470485652\n",
      "Tree Pearson Corr.: 0.02956304302284035\n",
      "DL Abs. Rel. Err.: 0.9675216216527549\n",
      "DL Pearson Corr.: -0.005082451557327767\n",
      "#######################################\n",
      "Values for Cov. Floor: 0.3, Components: 22:\n",
      "Tree Abs. Rel. Err.: 0.30529405176639557\n",
      "Tree Pearson Corr.: -0.15847892585774917\n",
      "DL Abs. Rel. Err.: 0.6489768052276924\n",
      "DL Pearson Corr.: -0.0467748554974345\n",
      "#######################################\n",
      "Values for Cov. Floor: 0.4, Components: 32:\n",
      "Tree Abs. Rel. Err.: 0.29765791901283795\n",
      "Tree Pearson Corr.: 0.13526043382162525\n",
      "DL Abs. Rel. Err.: 0.5747569360769007\n",
      "DL Pearson Corr.: -0.023756786148974054\n",
      "#######################################\n",
      "Values for Cov. Floor: 0.5, Components: 44:\n",
      "Tree Abs. Rel. Err.: 0.32889149006870055\n",
      "Tree Pearson Corr.: 0.043021939419424324\n",
      "DL Abs. Rel. Err.: 0.3926525116171202\n",
      "DL Pearson Corr.: 0.0761741702886662\n",
      "#######################################\n",
      "Values for Cov. Floor: 0.6, Components: 56:\n",
      "Tree Abs. Rel. Err.: 0.2679312902468222\n",
      "Tree Pearson Corr.: 0.015462457034222167\n",
      "DL Abs. Rel. Err.: 0.498197925730579\n",
      "DL Pearson Corr.: -0.08427439304412608\n",
      "#######################################\n",
      "Values for Cov. Floor: 0.7, Components: 70:\n",
      "Tree Abs. Rel. Err.: 0.287816298228723\n",
      "Tree Pearson Corr.: 0.06686048754079627\n",
      "DL Abs. Rel. Err.: 0.3836785224464368\n",
      "DL Pearson Corr.: 0.04322482483673493\n",
      "#######################################\n",
      "Values for Cov. Floor: 0.8, Components: 87:\n",
      "Tree Abs. Rel. Err.: 0.31551165050930446\n",
      "Tree Pearson Corr.: -0.1080726387771086\n",
      "DL Abs. Rel. Err.: 0.5990634436408678\n",
      "DL Pearson Corr.: -0.13369280514618373\n",
      "#######################################\n",
      "Values for Cov. Floor: 0.9, Components: 106:\n",
      "Tree Abs. Rel. Err.: 0.3336053788661957\n",
      "Tree Pearson Corr.: -0.15991408637519422\n",
      "DL Abs. Rel. Err.: 0.3967190569545179\n",
      "DL Pearson Corr.: 0.13456342889487025\n",
      "\n",
      "\n",
      "#######################################\n",
      "Min Tree Covariance Floor: 0.6, with absolute relative error of 0.2679312902468222\n",
      "Min DL Covariance Floor: 0.1, with absolute relative error of 0.25367001057774935\n",
      "#######################################\n"
     ]
    }
   ],
   "source": [
    "print(\"\\n\")\n",
    "\n",
    "for idx in range(len(pcaCovarianceFloor)):\n",
    "    print(\"#######################################\")\n",
    "    print(f\"Values for Cov. Floor: {pcaCovarianceFloor[idx]}, Components: {num_comp[idx]}:\")\n",
    "    print(f\"Tree Abs. Rel. Err.: {re_xgb[idx]}\")\n",
    "    print(f\"Tree Pearson Corr.: {r_xgb[idx]}\")\n",
    "    print(f\"DL Abs. Rel. Err.: {re_dense[idx]}\")\n",
    "    print(f\"DL Pearson Corr.: {r_dense[idx]}\")\n",
    "\n",
    "maxTreeREPCACovFloor = pcaCovarianceFloor[np.argmin(re_xgb)]\n",
    "maxDLREPCACovFloor = pcaCovarianceFloor[np.argmin(re_dense)]\n",
    "\n",
    "print(\"\\n\")\n",
    "print(\"#######################################\")\n",
    "print(f\"Min Tree Covariance Floor: {maxTreeREPCACovFloor}, with absolute relative error of {np.min(re_xgb)}\")\n",
    "print(f\"Min DL Covariance Floor: {maxDLREPCACovFloor}, with absolute relative error of {np.min(re_dense)}\")\n",
    "print(\"#######################################\")"
   ]
  },
  {
   "metadata": {},
   "cell_type": "markdown",
   "source": "## Part f using transformers\n"
  },
  {
   "metadata": {
    "ExecuteTime": {
     "end_time": "2024-12-12T16:52:20.441511Z",
     "start_time": "2024-12-12T16:52:20.407563Z"
    }
   },
   "cell_type": "code",
   "source": [
    "from sklearn.model_selection import train_test_split\n",
    "phq_scores_data.columns"
   ],
   "outputs": [
    {
     "data": {
      "text/plain": [
       "Index(['Participant_ID', 'PHQ_Score'], dtype='object')"
      ]
     },
     "execution_count": 17,
     "metadata": {},
     "output_type": "execute_result"
    }
   ],
   "execution_count": 17
  },
  {
   "metadata": {
    "ExecuteTime": {
     "end_time": "2024-12-12T16:51:47.043043Z",
     "start_time": "2024-12-12T16:51:47.015668Z"
    }
   },
   "cell_type": "code",
   "source": [
    "transcripts_df = pd.DataFrame(columns=[\"Participant_ID\", \"transcript\"])\n",
    "for id, transcript in combined_transcripts.items():\n",
    "    temp = pd.DataFrame({\"Participant_ID\": [id], \"transcript\": transcript})\n",
    "    transcripts_df = pd.concat([transcripts_df, temp], ignore_index=True)"
   ],
   "outputs": [],
   "execution_count": 11
  },
  {
   "metadata": {
    "ExecuteTime": {
     "end_time": "2024-12-12T16:51:47.851244Z",
     "start_time": "2024-12-12T16:51:47.845232Z"
    }
   },
   "cell_type": "code",
   "source": [
    "transcripts_df = pd.merge(transcripts_df, phq_scores_data, on=\"Participant_ID\", how=\"inner\")\n",
    "transcripts_df"
   ],
   "outputs": [
    {
     "data": {
      "text/plain": [
       "    Participant_ID                                         transcript  \\\n",
       "0              423  okay and please yes feeling well where are you...   \n",
       "1              436  that was big yes I'm doing fine Mexico when I ...   \n",
       "2              447  yeah that's perfectly fine I'm feeling great i...   \n",
       "3              452  official say bye and then you're going to pres...   \n",
       "4              396  okay thank you thanks for coming in today crea...   \n",
       "..             ...                                                ...   \n",
       "129            466  I was that man when do I talk okay okay okay y...   \n",
       "130            633  and she's a speech recognition so like recogni...   \n",
       "131            484  okay yes I'm doing well I was born in Oakland ...   \n",
       "132            491  do I still have to put my cat okay yes how ove...   \n",
       "133            657  go ahead and start a camcorder recording and t...   \n",
       "\n",
       "     PHQ_Score  \n",
       "0            0  \n",
       "1            0  \n",
       "2            1  \n",
       "3            1  \n",
       "4            5  \n",
       "..         ...  \n",
       "129          9  \n",
       "130         10  \n",
       "131          9  \n",
       "132          8  \n",
       "133          0  \n",
       "\n",
       "[134 rows x 3 columns]"
      ],
      "text/html": [
       "<div>\n",
       "<style scoped>\n",
       "    .dataframe tbody tr th:only-of-type {\n",
       "        vertical-align: middle;\n",
       "    }\n",
       "\n",
       "    .dataframe tbody tr th {\n",
       "        vertical-align: top;\n",
       "    }\n",
       "\n",
       "    .dataframe thead th {\n",
       "        text-align: right;\n",
       "    }\n",
       "</style>\n",
       "<table border=\"1\" class=\"dataframe\">\n",
       "  <thead>\n",
       "    <tr style=\"text-align: right;\">\n",
       "      <th></th>\n",
       "      <th>Participant_ID</th>\n",
       "      <th>transcript</th>\n",
       "      <th>PHQ_Score</th>\n",
       "    </tr>\n",
       "  </thead>\n",
       "  <tbody>\n",
       "    <tr>\n",
       "      <th>0</th>\n",
       "      <td>423</td>\n",
       "      <td>okay and please yes feeling well where are you...</td>\n",
       "      <td>0</td>\n",
       "    </tr>\n",
       "    <tr>\n",
       "      <th>1</th>\n",
       "      <td>436</td>\n",
       "      <td>that was big yes I'm doing fine Mexico when I ...</td>\n",
       "      <td>0</td>\n",
       "    </tr>\n",
       "    <tr>\n",
       "      <th>2</th>\n",
       "      <td>447</td>\n",
       "      <td>yeah that's perfectly fine I'm feeling great i...</td>\n",
       "      <td>1</td>\n",
       "    </tr>\n",
       "    <tr>\n",
       "      <th>3</th>\n",
       "      <td>452</td>\n",
       "      <td>official say bye and then you're going to pres...</td>\n",
       "      <td>1</td>\n",
       "    </tr>\n",
       "    <tr>\n",
       "      <th>4</th>\n",
       "      <td>396</td>\n",
       "      <td>okay thank you thanks for coming in today crea...</td>\n",
       "      <td>5</td>\n",
       "    </tr>\n",
       "    <tr>\n",
       "      <th>...</th>\n",
       "      <td>...</td>\n",
       "      <td>...</td>\n",
       "      <td>...</td>\n",
       "    </tr>\n",
       "    <tr>\n",
       "      <th>129</th>\n",
       "      <td>466</td>\n",
       "      <td>I was that man when do I talk okay okay okay y...</td>\n",
       "      <td>9</td>\n",
       "    </tr>\n",
       "    <tr>\n",
       "      <th>130</th>\n",
       "      <td>633</td>\n",
       "      <td>and she's a speech recognition so like recogni...</td>\n",
       "      <td>10</td>\n",
       "    </tr>\n",
       "    <tr>\n",
       "      <th>131</th>\n",
       "      <td>484</td>\n",
       "      <td>okay yes I'm doing well I was born in Oakland ...</td>\n",
       "      <td>9</td>\n",
       "    </tr>\n",
       "    <tr>\n",
       "      <th>132</th>\n",
       "      <td>491</td>\n",
       "      <td>do I still have to put my cat okay yes how ove...</td>\n",
       "      <td>8</td>\n",
       "    </tr>\n",
       "    <tr>\n",
       "      <th>133</th>\n",
       "      <td>657</td>\n",
       "      <td>go ahead and start a camcorder recording and t...</td>\n",
       "      <td>0</td>\n",
       "    </tr>\n",
       "  </tbody>\n",
       "</table>\n",
       "<p>134 rows × 3 columns</p>\n",
       "</div>"
      ]
     },
     "execution_count": 12,
     "metadata": {},
     "output_type": "execute_result"
    }
   ],
   "execution_count": 12
  },
  {
   "metadata": {
    "ExecuteTime": {
     "end_time": "2024-12-12T16:51:49.132802Z",
     "start_time": "2024-12-12T16:51:49.129656Z"
    }
   },
   "cell_type": "code",
   "source": "transcripts_df.columns",
   "outputs": [
    {
     "data": {
      "text/plain": [
       "Index(['Participant_ID', 'transcript', 'PHQ_Score'], dtype='object')"
      ]
     },
     "execution_count": 13,
     "metadata": {},
     "output_type": "execute_result"
    }
   ],
   "execution_count": 13
  },
  {
   "metadata": {
    "ExecuteTime": {
     "end_time": "2024-12-12T16:51:50.008640Z",
     "start_time": "2024-12-12T16:51:50.005716Z"
    }
   },
   "cell_type": "code",
   "source": [
    "prompt = f\"\"\"\n",
    "    Transcript= {transcripts_df[\"transcript\"][0]} : Depression Severity=0\n",
    "\n",
    "    Transcript= {transcripts_df[\"transcript\"][1]} : Depression Severity=0\n",
    "\n",
    "    Transcript= {transcripts_df[\"transcript\"][10]} : Depression Severity=19\n",
    "\n",
    "    Transcript= {transcripts_df[\"transcript\"][14]} : Depression Severity=7\n",
    "\n",
    "    Give one score for all transcripts, only respond with the score.\n",
    "\"\"\""
   ],
   "outputs": [],
   "execution_count": 14
  },
  {
   "metadata": {
    "ExecuteTime": {
     "end_time": "2024-12-12T16:51:50.798490Z",
     "start_time": "2024-12-12T16:51:50.795249Z"
    }
   },
   "cell_type": "code",
   "source": "prompt",
   "outputs": [
    {
     "data": {
      "text/plain": [
       "\"\\n    Transcript= okay and please yes feeling well where are you from originally Los Angeles the Greater Los Angeles area people diversity and various entertainment and activities fickle weather traffic and litter do you travel I have travel domestically not internationally seeing other places and how people live in the culture I want to hear about one of your trips the last trip that I went to a San Diego butt out from childhood or as an adult family vacations to Baja in Rosarito Beach can you tell me yeah the reason why that memory comes to mind because this weekend is Easter and we usually will go down to East Easter spring break to Rosarito Baja am I have a Bachelors in communication studies because of the open field just doesn't deal with them communication interactively but Performing Arts telecommunications business entrepreneurship so no I'm not at Maxey unemployed what's your dream job I think 200 my business that's my dream my dream job to have my own company I would like to open something like the Telecommunications area as a business something do online online services I like to make things with my hands so my next venture with would be to create all-natural soy candles something in that area a mixture mixture of shy and outgoing because I have to observe people in crowds and that's how I usually make a determination if I remain reserved remain open I listen to like a meditation tape or I take a walk or go get a massage Fair oh man I probably yesterday or this morning usually the argument is about me making myself clear Army repeating myself twice no usually gets the other person in trouble tell me about a situation that you wish you would have I redeemed a service from a mechanic who fix my transmission and I had a warranty and I wrote to the Department of Consumer Affairs and the guy offered me a portion of the settlement agreement and I decided to take him to small claims court to get a bigger amount and I wish I would have have taking the offer that he gave me at the midst of dealing with a third party which was the Department of Consumer Affairs and because of that I took him to small claims court and I end up losing the whole settlement and only been offered a very small portion so I wish I would have taken the higher road to taking a lower Road I don't tend to feel guilty about too many things tell me about the hardest decision you've ever had to make hardest decision I don't know financially emotionally emotionally letting go of past relationship the hardest thing to say the hardest thing but it was a difficult thing can you tell me about yes it was a relationship of 7 years but that person is already moved on so they want me to be in their life and hopes that if something goes wrong with my current relationship will always have something to fall back on that sounds really hard oh yeah it is hard tell me about your bag or something that you wish you could erase from your in advance so that I can trace for my memory I don't know there's a lot of events that I just automatically erased from my memory but whatever comes to mind right probably the death of a relative I'm alone and misinformed because I didn't know that they were that sick and I didn't know that they were their days were numbered and I could have had more opportunity to spend time with them and make better a better connection in the last days I'm sorry to hear that tell me about your relationship with you is Fair to Midland are you into your family my immediate I'm very close but distant not very close okay my mother tell me about and yes I she's encouraged me to continue my education to always fall back on my hobbies hopes golden dreams she always encourages me to always stay loose and out there looking for a better opportunity and she encourages me to not be afraid to explore other Ventures how easy is it for you to get a good night sleep easy I've been feeling well yes a little stressed but I'm trying to manage that I leave the stressful environment in the past about 3 years ago because I was having issues in my learning environment and I was feeling emotionally attached yeah I was having an issue with a professor who was just very I know you have a very different personality he almost ran me down the crosswalk at school how do you feel I felt I felt like I was in a dishonest environment I felt like I wanted to get you know switch his class and get into another class but I had no choice but to stay in there and deal with his meanness for the whole semester have you been diagnosed with depression I think through finding PTSD they were trying to link depression you still go to therapy now no financially I'm not capable and I haven't found a counselor who's willing and committed to working with me and helping me with my issues I find a lot of counselors they listen to me and then they laugh at me and then they tell me the opposite of what's what I'm telling them last time I felt really happy I really don't know that's a good question something you did recently that you really enjoy just just do what I want I just relaxed I just relaxed and you know I don't know I don't have any best friends my best qualities that I'm hard-working I'm reliable I'm an excellent friend I'm energetic and I'm going to go get her things that I wish I could change about myself probably be less sensitive don't take things so personally and learn how to help myself before helping others no I don't have any regrets in my life if I could do things differently 10 years ago I probably would have focus and study more and less being out of the house and hanging with friends what are you most proud of in your life baguette have a college education and I'm self-sufficient and I can pay my bills by myself and I'm alive goodbye hi so then where you at that was exactly : Depression Severity=0\\n\\n    Transcript= that was big yes I'm doing fine Mexico when I was young seven years song I've been there like that three or four times for vacation well it's a less stressful I don't know if it's because I'm on vacation but I feel more at peace over there than here well my family moved down here for a better life that was my parents just the weather and different things that you could do you could be at the beach or you could go to the mountains different variety of things to do the traffic and some basically the traffic and that's one of the main things nothing much I've been to New York and Mexico only I just seen you places and finding new locations you know something new like for a trip over I've been to Mexico I've been to the pyramids of I forgot to call in Mexico City and I like to know about finding a lot of my Asian culture since I'm Mexican from Mayan Aztecs I like to see different things like that well that's cool why did drop out but I came back and I'm trying to get back into it right now trying to learn graphic designs well I started liking you know to take pictures doing different things and I like you know going into business I like what the titles about I want to have my own business either making web pages just be able to be free and don't be in relying on someone else just be able to have freedom for myself how's it going Spectre you know be around people like to get to know people and depending on the person how I feel around them I'd like to hear music or you know it was a different thing that case boards or two different things just to unwind well I'm getting better at it you know Hyatt connect I was like 2 days ago I was something about that I needed to pay bills on something that I did not have taken care of but the person he's like more picky about it and I was more know how gross are you know that they want everything right there and then I have a handle you know I have everything there and they just bugging sometimes they don't give you the space that you need to erase all something I felt like I was overwhelmed already had it resolved I just was waiting for a check you know it's not on my control but I already had made the paper proper arrangements and she's bugging me about it it's like you're making an argument and storm in the glass of water the different need thirst couple of them but not so recently because I've been more trying to get my life together but since I made before in the past I dropping out of school and do another different thanks guilting not that much because not really not that I can think right up top of my head the hardest decision I was just on top of my head right now the band the only things that I remember is when I black out or different things like that that I remember nothing like a particular only with my brothers died and different things like that how my brother was in gangs and different things and he was getting more to trouble and it's just not a pleasant memory for me to talk about that much get into it don't understand it. You know I like to be with my family and you know I like to go over there to Mexico to I have a half-sister and my grandpa died he was older Mexico so I do I like to have a good relationship with my family my mom and dad they always work hard they always done what they have to do to pay the bills that's why sometimes I be like you no running around trying to get everything done but done correctly not trying to take the easy way out it's a little hard because they're especially here in Los Angeles there's a lot of different things that you can get into that's not that positive and it's hard to stay focused on you know the correct stuff Well normally I just knock out it's not that hard it's like to take me like half an hour or 15 minutes but sometimes I can even wake up even with the alarm they have to wake me up in know my grass wake me up in with the alarm going on it's like so hard Cena I just knock out I do get a little either I'm angry or I don't feel good and then I'll feel bad energy but I still have to know I know I have to do something so I still go through with it I've been swept in the feeling good do you know then that little restless but not that much I have to do stuff so I guess you know for myself to do it no matter how I feel nothing out of the ordinary no the last time iPhone happy that was following the weekend that I would see not going out with a cloud have some fun and they know I was drinking and just relaxing I want winding down ideal weekend is usually with my girl either out or at home just relax when nothing else you know just be able to relax and unwind with her you know you were going out somewhere tonight place we're staying at home that without getting any calls or in the interruption might just be able to turn off the phone and turn off everything just be what are doing the other different things like an outgoing guy in a very social but at the same time I'm reserved depending how I feel with people at the cross her feel comfortable with them well I'm changing a lot of my temper and different things drinking things on changing the different things I could get more different things done there's several but mostly is when I'm coming from Mexico that they wanted the meaner you even down there I feel like silly because I went to a store I was regularly dressed and I was the time I wanted to buy something and then they said that that I wasn't belong there and I ended soon as they saw my credit card they kind of change perspective because I saw the Wells Fargo logo they know it's American but they thought it was let you know what is told me it's all ridiculous to me because you go to a place you know you have the money ask for something you can ask for something because you have it and not just the way to kill the time just because they saw a logo of a card that's how that you know it was ridiculous for me no basically to stay more focused on different things that stay in school and then I don't go to not try to control my temper and do different things cuz if I knew what I know now back then he'll be different well I did drop out but I did go back to school and I know I did get my high school and right now I'm deposit to another different thing so right now is getting my high school getting back together right now I'm working to another girl I'm trying to get me know either going back to school so the basic basically getting back to school and finishing the high school for GED awkward like I thought it would : Depression Severity=0\\n\\n    Transcript= when it's always female yes I'm okay thank you I was born in East Los Angeles yes the freedom to explore outdoors with different weather temp out with weather temperature and climate to go skiing or to the beach may be in the same day I think probably the overcrowding and the smog I'm sure you can tell them not not frequently but I have meeting other people and learning about their environment and their cultures sure I'm the last trip I've taken outside of here was too heavily and that was my second time being there and I enjoyed it more this time because I knew what I wanted to say when I came back and and I was better prepared for Italians and their culturally I felt I wasn't isn't you know I was just better prepared I thought for that trip that would be being in the countryside and seeing a very tiny house in the mist of acres and acres and Acres of grapes with just magnificent human development I actually didn't decide it first to do that I started school with the intent of being a lactation consultant and I went to a program in which you could get a degree as well as get your license to become a lactation consultant and through the process I learned that I had to do a long internship without pay and at the time and I miss I had a family so I had to make a career choice quickly and so the college offered human development major and I just went right in and used my use my units that I had already acquired towards that particular major in and I'm happy with it I'm currently no I stay at home I have a little one is not so little I'm preparing to go back to work in the meantime I design jewelry well I have three children I have almost four-year-old and then I have two older children 17 and 23 no that your children that the love from them and for them is unconditional all the stages that they go through their stages all the time for every age and everybody in my household is all different because they're different ages so I think I'm probably more in tune with those different stages that's why it makes me crazy and I think that my parents the time that my parents were parents he was just kind of like you know is she fed is she dressed as a house I mean a roof over her head and we're doing greatest parents and we love her and so it wasn't there wasn't too much I felt that that parents thought about in terms of n terms of parenting in that way and like today you know there's books for every age every year month you know and so I think it difference differs in that way tremendously fairy clothes outgoing I don't I don't feel uninhibited I feel you know confident to talk to people I probably talk more than I need to I bead I do I design jewelry that's what I do to relax I'm pretty good II well I think I trying not to not to feel or let others know what my emotions are when I'm upset which is not good because if I don't do anything with them then I know that some point it's going to come out and yeah that that's something I have to work on like exercising or something hey with my husband and it was about he asked me whether I thought about cheating ever in our marriage on him I really tired of talking about that same topic well it came it spawned from a client of my husband's who's a female and she shared with him that she'd been cheating on her husband for like a year because she resented him for many things and so he took that information and came home and decided to ask me if I ever thought about it and what made me I think about cheating and he knows that I've been resentful of him and did that make me feel like it did that make me want to cheat or did I think about cheating and I we've had this conversation a lot of times and I mean not just that but I don't know just about cheating in general and so I just said what I normally said normally is that I haven't cheated in that I did think about that when we were first together and I thought it was just a mere thought and and then his response was I know that if we cheated on each other we would never tell one another and that just came out I guess irritated me I was really bothered by that and I just started liking you know we're having this conversation yet again and why are we having this conversation are you the one that's cheating and so that's how that that went into that argument I mean he wasn't yelling at me and was part conversation and part texting not talking at all pretty much any situation that involves my children and if I've yelled because I really don't like if I came to the point where I've had more of yelled it bothers me because I was yelled at a lot and I just feel bad about that and I try really hard to not handle any kind of situation that involves my children no matter how upset I might get and results and yelling tell me about the hardest that would probably be whether to keep a pregnancy or not yeah I am I was just talking about yesterday actually and I'll always pregnant and I had wanted I wasn't married yet and I had wanted to be married and but I just didn't think that it was the right time for me and I had pretty much made up my mind that I was not going to keep that pregnancy but I made the decision by myself and when my partner found discovered that I was pregnant he said that he very much wanted to have a child and wanted to marry me and so that decision was quite hard because I felt obligated to do so and felt super guilty to not and and earpiece Erica that was probably the hardest decision actually not know I wouldn't say that's the hardest decision I've ever had to make I'm sorry the hardest decision that I had to make in my life was whether or not the hospital should I unplug the life life support machine for my father or not that was our decision because I knew that the quality of life he wanted for himself was more than that and to have been to resort to the situation that he was in not capable of doing anything at all either speaking for himself was beyond who he was and I just couldn't see him like that anymore and he would be a vegetable I was told so I agreed to Amritsar. Not hardly ever too many things running in my mind and pretty much mostly on the weekends because my older kids are out and about with their friends even though I know that they're going to I mean I'm constantly worried about how they are when they come home and so I really can't fall asleep on the weekends most time but sometimes it's just been so many days of not getting good night sleep I'm just too exhausted I pass out but it's hard very stressed my son is is has been in dealing with some legal issues and currently is incarcerated and it's been really hard yes I've been probably very short Moody irritable well I often think about a lot of things that aren't even happy my mind just goes from when point A to point B and I don't even know how I got there now it's interesting yeah yes about 3 years ago my OBG suggested I I see a psychiatrist yes well I've in the process of changing therapist so it's been about because the program that I was in Lost funding and I lost my therapist. The therapist that I was working with and so it's been about two months maybe three now and but I did notice when I was in therapy. It was just an intricate part of my my life my week to see my therapist I really helped me cope when I picked up my son from when he was released from Gel I go get her probably you know should we use the term Hustler but meaning that I'll I'm not afraid to do a lot of different kinds of jobs to do what I need to do to support my family I mean you know legally of course outgoing maybe sometimes a little too for to outgoing for her and compassionate sensitive loyal all the things that remind me of my mother well yelling the yelling part was when just the little things that used to drive me so crazy I can see myself doing them and it bothers me a lot regarding what not too much really I don't know to go to college right after high school or not right and and that I didn't really need to be in a relationship to be happy that are that you don't have to be in a relationship to be happy that you can certainly be successful and not in a relationship and still be happy and live life what did I do I visit my son yesterday and that was really good I was happy that he was safe my children and my accomplishments in school and work bye purpavis tilted back and let came off okay maybe stopping it did not get got everything you needed : Depression Severity=19\\n\\n    Transcript= okay move this I'm gonna move this behind your arm if you don't hi I'm Ali thanks for coming in today created to talk to people in the states I'm not a saint are you okay yes pretty good as far as my parents Ethiopia yes the beaches warm weather the diverse environment traffic well I'm currently in school I'm studying African studies how did you decide I've always been interested in African studies actually was wanted to help people and I figure that I can help them by trying to learn about it and going back to Africa making influence kind of in-between I have my shy moments but then when I'm around a group of people that Angela I'm pretty outgoing hey I know it's not Hawaii but it's the interacts I normally write or I go to the beach and just sit there and play My Guitar pretty good I don't really get angry or anything like that I tend to keep it in or try to release it by writing when was the I actually can't remember the last time I argue with someone okay what's something you feel guilty about all the people I've hurt in the past can you tell me about well I've like cheated on people hurt their feelings intentionally some things I should have done that I regret now well with my ex I could have ended it better so we could be on better terms now and I probably shouldn't have argue so much as try to instigate so many things I probably should have just let it go with the flow and just see how it turned out hardest decision I've ever had to make was man I really don't know actually having to see my dad go through surgery and see him suffer well he had a tumor that had to get removed so it's just hard seeing him have to be in the bed and just be in the hospital when he really don't want to be there cuz he's a really live person and he'd rather be running around and stuff like that but just saying I'm stuck in bed and was just terrible tell me about your relationship with your me and my family are very close we don't I mean they've always been there for me and I appreciate it but we've never had that closed collection connection especially since they're foreign so they don't really understand where I'm trying to come from having been grown up out in America so it's pretty different when it comes to a racial mean the cultural boundaries that we kind of Step each other each other's feet on but aside from that we have a decent relationship when we do speak to each other it does it kind of awkward but it's okay I think they are out of control I think that they're learning things that they shouldn't know at this age I think that they're doing things they shouldn't be doing and I don't feel like enough people are telling them that they shouldn't be doing it I feel like they're being applauded by the media there being applauded by celebrities that they follow and there's not enough being done about it and they're just getting lost how easy is it for you to get a good night sleep depends on the night some nights it's pretty hard some nights I fall asleep like a baby what are you like when you don't say usually creative actually when I can't sleep I'll just stay up and I'll write something or read a book and ideas will pop up stuff like that is usually a good thing when I can't sleeps nothing really bad cuz I'm having bad thoughts or anything like that I'm lately between a mix of good and bad I have my happy moments where I'm at a Giants and I'm alive and then some some days where I'm just you know just sitting there just mellow thinking not like my life self I don't know his wife's been like that weighs have those UPS in those downs but they kind of balance each other out no the last time I felt really happy was today I'm just from the moment I woke up it was a beautiful sunny day I went to see you some friends we had a good time went to school had some good grades on some papers wrote A good essay so pretty accomplished and I feel like my days just a good day my best friend would describe me as odd most people would describe me as odd I see a lot of odd things I do odd things I'm interested in things that most people aren't Just Like Old literature revolutionary stuff stuff about changing the world but through underground means no I don't I don't live a life of regret I never let fear stop you from doing anything tell me how you spend your ideal weekend I'm reading just hang out with some friends driving around finding something to do just go on an adventure things you wish you could change about your I don't wish I could change anything about myself I just wish I could build myself into the person that I'm truly supposed to be tell me about a time when someone made me feel really bad this one time me and my best friend got into an argument and she pointed out all the things I've done that I shouldn't have done all at one time how I've hurt people have hurt her the ways I've done them that were brutal and it just made me feel bad once I reflected on it all my parents can you tell me about I mean although we don't see eye-to-eye the always bring me to this realization that I need at the end of the day although I never listen to him or I don't choose to listen to him once it happens I learned from it and I'm like oh that's what my parents told me so I learned to trust them more and I learn to understand that they are wiser than me and that they do no more than me I'm not so much anymore I travel around the LA try to find you sights to see but as far as I don't travel outside I'm discovering new things discovering things you never knew were there or the Limitless possibilities I discovered I like I enjoy discovering new people new cultures new things that go against what's normal for us and for myself a few days ago I just drove out to the middle of the desert and I just sat there and I just enjoyed all that the desert has to offer and it was just enjoyable I felt free away from all this the city's needs buildings and it just felt nice to be out in the middle of nowhere at a completely random time feel good I'm most proud that I've always been different that despite how many people have told me that I'm really weird rum otter I think weird things I've always maintained my original mentality sharing your thoughts with me all right : Depression Severity=7\\n\\n    Give one score for all transcripts, only respond with the score.\\n\""
      ]
     },
     "execution_count": 15,
     "metadata": {},
     "output_type": "execute_result"
    }
   ],
   "execution_count": 15
  },
  {
   "metadata": {
    "ExecuteTime": {
     "end_time": "2024-12-12T16:51:52.381254Z",
     "start_time": "2024-12-12T16:51:52.377821Z"
    }
   },
   "cell_type": "code",
   "source": [
    "y_transcripts = transcripts_df.pop('PHQ_Score')\n",
    "y_transcripts"
   ],
   "outputs": [
    {
     "data": {
      "text/plain": [
       "0       0\n",
       "1       0\n",
       "2       1\n",
       "3       1\n",
       "4       5\n",
       "       ..\n",
       "129     9\n",
       "130    10\n",
       "131     9\n",
       "132     8\n",
       "133     0\n",
       "Name: PHQ_Score, Length: 134, dtype: int64"
      ]
     },
     "execution_count": 16,
     "metadata": {},
     "output_type": "execute_result"
    }
   ],
   "execution_count": 16
  },
  {
   "metadata": {
    "ExecuteTime": {
     "end_time": "2024-12-12T16:53:21.630844Z",
     "start_time": "2024-12-12T16:53:20.977966Z"
    }
   },
   "cell_type": "code",
   "source": [
    "import sys\n",
    "sys.path.append('/Users/calebkumar/Desktop/Desktop_Calebs_Pro/coding/ml/Mitigating-socio-demographic-bias/code/minGPT')\n",
    "from mingpt.model import GPT"
   ],
   "outputs": [],
   "execution_count": 18
  },
  {
   "metadata": {
    "ExecuteTime": {
     "end_time": "2024-12-12T16:53:22.907702Z",
     "start_time": "2024-12-12T16:53:22.903997Z"
    }
   },
   "cell_type": "code",
   "source": "x_train, x_test, y_train, y_test = train_test_split(transcripts_df, y_transcripts, test_size=0.2, random_state=76)",
   "outputs": [],
   "execution_count": 19
  },
  {
   "metadata": {
    "ExecuteTime": {
     "end_time": "2024-12-12T16:53:23.553083Z",
     "start_time": "2024-12-12T16:53:23.549547Z"
    }
   },
   "cell_type": "code",
   "source": "y_train",
   "outputs": [
    {
     "data": {
      "text/plain": [
       "29     12\n",
       "22      3\n",
       "10     19\n",
       "73     14\n",
       "133     0\n",
       "       ..\n",
       "79      4\n",
       "129     9\n",
       "42      5\n",
       "26      1\n",
       "128     0\n",
       "Name: PHQ_Score, Length: 107, dtype: int64"
      ]
     },
     "execution_count": 20,
     "metadata": {},
     "output_type": "execute_result"
    }
   ],
   "execution_count": 20
  },
  {
   "metadata": {
    "ExecuteTime": {
     "end_time": "2024-12-12T16:53:24.577104Z",
     "start_time": "2024-12-12T16:53:24.574801Z"
    }
   },
   "cell_type": "code",
   "source": [
    "x_train = x_train.reset_index(drop=True)\n",
    "y_train = y_train.reset_index(drop=True)"
   ],
   "outputs": [],
   "execution_count": 21
  },
  {
   "metadata": {
    "ExecuteTime": {
     "end_time": "2024-12-12T16:53:25.068531Z",
     "start_time": "2024-12-12T16:53:25.063154Z"
    }
   },
   "cell_type": "code",
   "source": [
    "training_dataset = pd.concat([x_train, y_train], axis=1)\n",
    "training_dataset"
   ],
   "outputs": [
    {
     "data": {
      "text/plain": [
       "    Participant_ID                                         transcript  \\\n",
       "0              677  I'm going to bring up over to Human you can't ...   \n",
       "1              430  looks like we may have okay I will step out wh...   \n",
       "2              440  when it's always female yes I'm okay thank you...   \n",
       "3              389  and please are you okay sure I'm okay small to...   \n",
       "4              657  go ahead and start a camcorder recording and t...   \n",
       "..             ...                                                ...   \n",
       "102            486  already okay great yes I'm feel great I am fro...   \n",
       "103            466  I was that man when do I talk okay okay okay y...   \n",
       "104            697  okie dokie yeah okay here we go I'm not a ther...   \n",
       "105            454  hi I'm Ali thanks for coming in today yes grea...   \n",
       "106            473  yes get New Jersey 5 years ago that wants a ye...   \n",
       "\n",
       "     PHQ_Score  \n",
       "0           12  \n",
       "1            3  \n",
       "2           19  \n",
       "3           14  \n",
       "4            0  \n",
       "..         ...  \n",
       "102          4  \n",
       "103          9  \n",
       "104          5  \n",
       "105          1  \n",
       "106          0  \n",
       "\n",
       "[107 rows x 3 columns]"
      ],
      "text/html": [
       "<div>\n",
       "<style scoped>\n",
       "    .dataframe tbody tr th:only-of-type {\n",
       "        vertical-align: middle;\n",
       "    }\n",
       "\n",
       "    .dataframe tbody tr th {\n",
       "        vertical-align: top;\n",
       "    }\n",
       "\n",
       "    .dataframe thead th {\n",
       "        text-align: right;\n",
       "    }\n",
       "</style>\n",
       "<table border=\"1\" class=\"dataframe\">\n",
       "  <thead>\n",
       "    <tr style=\"text-align: right;\">\n",
       "      <th></th>\n",
       "      <th>Participant_ID</th>\n",
       "      <th>transcript</th>\n",
       "      <th>PHQ_Score</th>\n",
       "    </tr>\n",
       "  </thead>\n",
       "  <tbody>\n",
       "    <tr>\n",
       "      <th>0</th>\n",
       "      <td>677</td>\n",
       "      <td>I'm going to bring up over to Human you can't ...</td>\n",
       "      <td>12</td>\n",
       "    </tr>\n",
       "    <tr>\n",
       "      <th>1</th>\n",
       "      <td>430</td>\n",
       "      <td>looks like we may have okay I will step out wh...</td>\n",
       "      <td>3</td>\n",
       "    </tr>\n",
       "    <tr>\n",
       "      <th>2</th>\n",
       "      <td>440</td>\n",
       "      <td>when it's always female yes I'm okay thank you...</td>\n",
       "      <td>19</td>\n",
       "    </tr>\n",
       "    <tr>\n",
       "      <th>3</th>\n",
       "      <td>389</td>\n",
       "      <td>and please are you okay sure I'm okay small to...</td>\n",
       "      <td>14</td>\n",
       "    </tr>\n",
       "    <tr>\n",
       "      <th>4</th>\n",
       "      <td>657</td>\n",
       "      <td>go ahead and start a camcorder recording and t...</td>\n",
       "      <td>0</td>\n",
       "    </tr>\n",
       "    <tr>\n",
       "      <th>...</th>\n",
       "      <td>...</td>\n",
       "      <td>...</td>\n",
       "      <td>...</td>\n",
       "    </tr>\n",
       "    <tr>\n",
       "      <th>102</th>\n",
       "      <td>486</td>\n",
       "      <td>already okay great yes I'm feel great I am fro...</td>\n",
       "      <td>4</td>\n",
       "    </tr>\n",
       "    <tr>\n",
       "      <th>103</th>\n",
       "      <td>466</td>\n",
       "      <td>I was that man when do I talk okay okay okay y...</td>\n",
       "      <td>9</td>\n",
       "    </tr>\n",
       "    <tr>\n",
       "      <th>104</th>\n",
       "      <td>697</td>\n",
       "      <td>okie dokie yeah okay here we go I'm not a ther...</td>\n",
       "      <td>5</td>\n",
       "    </tr>\n",
       "    <tr>\n",
       "      <th>105</th>\n",
       "      <td>454</td>\n",
       "      <td>hi I'm Ali thanks for coming in today yes grea...</td>\n",
       "      <td>1</td>\n",
       "    </tr>\n",
       "    <tr>\n",
       "      <th>106</th>\n",
       "      <td>473</td>\n",
       "      <td>yes get New Jersey 5 years ago that wants a ye...</td>\n",
       "      <td>0</td>\n",
       "    </tr>\n",
       "  </tbody>\n",
       "</table>\n",
       "<p>107 rows × 3 columns</p>\n",
       "</div>"
      ]
     },
     "execution_count": 22,
     "metadata": {},
     "output_type": "execute_result"
    }
   ],
   "execution_count": 22
  },
  {
   "metadata": {
    "ExecuteTime": {
     "end_time": "2024-12-12T16:54:41.653979Z",
     "start_time": "2024-12-12T16:54:41.641670Z"
    }
   },
   "cell_type": "code",
   "source": "training_dataset.to_csv(\"./training_dataset.csv\", index=False)",
   "outputs": [],
   "execution_count": 23
  },
  {
   "metadata": {
    "ExecuteTime": {
     "end_time": "2024-12-12T16:58:47.975307Z",
     "start_time": "2024-12-12T16:58:47.967447Z"
    }
   },
   "cell_type": "code",
   "source": [
    "def prepare_gpt_dataset(dataset):\n",
    "    formatted_data = []\n",
    "    for _, row in dataset.iterrows():\n",
    "        input_text = f\"Transcript: {row['transcript']} PHQ_Score:\"\n",
    "        target_text = f\" {row['PHQ_Score']}\"\n",
    "        formatted_data.append({\"input\": input_text, \"target\": target_text})\n",
    "    return formatted_data\n",
    "\n",
    "formatted_dataset = prepare_gpt_dataset(training_dataset)\n",
    "\n",
    "# Display the first few formatted examples\n",
    "formatted_dataset[:5]"
   ],
   "outputs": [
    {
     "data": {
      "text/plain": [
       "[{'input': \"Transcript: I'm going to bring up over to Human you can't hi I'm Ellie I'm not a therapist but I'm here and please yes I'm doing fine and yourself where are you from originally I was born in gone for so long I've been down to Georgia for a while but my family is all it from here so that's why I'm here the rudeness of the people I see what you mean do you travel a lot been all over the world driving a funny car down a drag strip and 200 miles an hour what you study basic automotive stuff and I worked at the drag strip already go to school so I got to know quite a few people what are you doing now right now I'm on workman's comp I work for Amvets and I got hurt at work and I'm on workman's comp right now okay what's your dream job I really don't have one at this time pretty much outgoing I'm able to talk to anybody had any time no matter what race they are just I'm one of them lucky persons that can talk to anybody I'll let them do their own thing I just lost my wife three years ago today in Georgia so that's why I came back here I had nobody else left in Georgia sometimes what I'm feeling. I turn on the fan screensaver hey I know it's not Hawaii but it's the best I've got I go fishing play cars at the little casinos around here that's what I do to relax my temper is fine I don't get mad very often when was the last time probably a bad poker hand can you tell me about that yeah and I was trying to cheat me and I caught him so that was pretty much it tell me about a situation that with my wife she died from liver shut down due to alcohol and she was 7 year breast cancer survivor but the alcohol liver killed her and I could have done that little bit differently but that's that's hindsight what's something you feel guilty about I'm just trying to get her some help but she didn't want no help so I could have got her help I would have been had it turned out she didn't want no help tell me about the hardest decisions turn off the machine she lived on machines so I had to turn them off and what's your died from you tell me about Nevada or something that you wish you could erase from your doing CPR on her in the hospital room living on machines and stuff that's not living have you ever serve yes I have have the firemen in the United States Air Force for 6 years how have you been feeling lately I last couple days been rough other than that I got a torn rotator cuff in my shoulder and trying to get that fixed and I'm working like I said I'm on workman's comp right now so I'm hopefully they get it fixed not really I don't sleep very well at all I got lots of pain in my arm just my my arm getting the right position to sleep a little bit but you move a little bit and you got a lot of pain in your arm sleeping in my sleep for 1 hour but that been in that pattern for quite some time the same way I fight my sleep well you got to get what kind of slavery in your body's resting but your your mind is thinking all the time so no maybe I should have been no a long time ago but I got over it 20 years ago I'm feeling helplessness just couldn't get out of a hole when you get into a whole has no light at the end of the tunnel and eventually comes through not really I just you dig yourself into a hole and hard hole to climb out of it and eventually it will I love my wife Diane and stuff and maybe I was feeling sorry for myself at the time but I just got the whole one had to dig myself out I knew it had to get better someday soon one day at a time she was always on my mind every single day think of what I could have done for her but there was nothing I could do for what continent is the cow just need a little bit of help to get out of the rut that I'm in and I'm getting out of it now so things are looking up on the bright side do you still got I know why did you stop they were telling me the wrong thing I didn't want to hear she's not a witch they said the grieving. Was two or three months seen on had I still think of my dad he died 10 years ago you know I said who who said that I'd be grieving very last that long and they told me to book says that and I said you take your book and shove it cuz some people some people have to grieve longer than others just the way it is do you feel therapy is useful no I don't think so I think you have to deal with your own problems if people all people have different problems in my snow just getting over it how about getting over the loss of the last 10 years my my dad my older sister and my older brother my mother and then my wife in the last 10 years it's been tough It's been real tough on me I got sick a few times end up in the hospital I don't go to therapy anymore I can kind of pretty much do it on my own okay when was the last time I feel happy all the time oh yeah I'm always been a happy happy go lucky kind of guy hanging on but talk to my friends all over the country you know and it said you sound good and that is why I'm good and just you know I got stuck in this rotten pulling myself out and it's just the way it is a positive influence has been done just do it on my own how'd your best friend I seem all time they just go along with the flow just like I go along the floor with them they might do stuff I don't appreciate but that's their own life I'm going on a fishing trip last week out notion had a pretty good time out there and then midnight go to the drag races see all my friends from all over the country some good to see them they're glad to see me so have a good time what are you most proud let's see getting away from drugs and alcohol I was pretty proud of myself I had to do what I had to do and just leave the situation and go to new situation thank you goodbye have a good day PHQ_Score:\",\n",
       "  'target': ' 12'},\n",
       " {'input': \"Transcript: looks like we may have okay I will step out when she says goodbye answer fun fun thank you I'm from Los Angeles well you can't beat the weather and I just think the familiarity of home just makes me feel comfortable here smog rudeness although it doesn't compare to New York it's people could be unbearable in their rude not as much as I'd like a lately I travel more in the past but not lately no I just think between different places and some learning new things funny things that are fascinating that piqued my interest I think spoken to your cuz I think the first time I went to New York I was quite amazed I know it says still only in America but I just think I'm being from La I didn't think anything or a city could be bigger and more how do you say ostentatious the New York but it was it was quite an experience and I didn't think any place was I I didn't I didn't think any place was dirtier than downtown LA I think times I think Times Square's got us beat too many to mention I I don't even know where to start depends on the situation I like to walk I like to I like to play with my dogs reading anything where I guess I suppose I could just sit still and let my mind go blank I know reading requires some concentration but I noticed things that I don't have to exert myself too much help him relax in the past I've had problems but I'm getting better I probably are good my roommate couple days ago but that happens we're friends loving argument if you will I'm at this roommate about six seven years ago we just kind of got moved around the same Social Circles and just got a loan it's cool I mean it's the he no like we do argue we have our differences sometimes but there's not one person I'd rather have I rather live with then then her she's she's cool how much time do we have is just too numerous to mention my I would know how to answer that I think breaking up with a girlfriend that I truly cared about but knowing going bad just wasn't going to work that was very difficult just weigh pros and cons and just thought I just wasn't going to work no matter how much love or care I brought you a relationship there was something missing and I think that's enough time she invest enough timing just knew it was over no so many I don't have too many regrets by things erased from your memory a lot too numerous to mention I don't know how to answer that the same girl that I broke up with shoes she was a girlfriend best friend of mine are they were separated for 4 several years and we always had a chemistry always a friendship and it turned into something to something which you don't turn into a relationship and it hurt him currently we do not speak I wish I might regret is I wish I I would have handled that better it's it's funny soon as I as I get older I'm not as close but I still care for him and I still love them and I think they love me I my mother and my father both alive don't interact a lot very close to my older sister my older sister she's just strong no-nonsense she's short yet a firecracker and I've always liked that about Hershey Joey's help make me feel makes me feel comfortable I'm like a another son to her in a way supposed to depends on my stress level would have a lot on my mind I have difficulty sleeping and other times it just I really need to get to sleep it just requires me listen to the radio they're watching TV reading and eventually I'll get tired fall asleep Crabby Bill's like anybody else tired listless you know all the normal things I supposed to happen when somebody doesn't sleep well I feel good no not really well no I have not yes I have I was diagnosed probably about but five years ago I think I always knew there was a problem I always knew there was some I think I always knew before I got treatment that there was some issue emotionally and other things that are very hard to explain I just was tired of feeling that way so I thought I'd help I think just the letter g no desire to do anything motivation just wasn't there any normal person buy things up so should I become socially awkward which was a little bit different for me because growing up I was quite talkative I do I'm sorry figure got you a it does I think it does well I think the number one thing on this is what I'm amazed about the temper I think I've it's allowed me to two step back from certain situations not take them so seriously and not get so tense or angry and then react they could just calm down for the most part now it's becoming it's becoming routine initially it was very difficult well 5 years old I don't know which one of your kid there is nothing really to got to be sad about your kid my best friend but you were gone I would have a dry sense of humor so you know my best friend would probably I think the the banner back and forth is you know usually an insult but you know fall in love I wish I could be taller I wish I could be more inclined to play basketball so I can become go to NBA and be a millionaire I know that's all I'm realistic but honestly I think I regret Emily asked asked this before me so many don't know where to start advice would you give yourself that's a good one wow well I don't know but yeah that's a good one I got to think about that and I wouldn't want to answer that that's a good one usually were asked what you want you know how you feel pain in 20 years from now looking back I don't know what advice I give myself something I really enjoyed I love there's several things I like to do you know I enjoy playing basketball I love I love watching I love watching all sports for that matter but brings me real Joy the past few years was become a hobby of mine is is rescuing dogs fostering dogs and funding them and homes if it's become quite a hobby of mine and sometimes I find lost dogs and I'm able to find their owner and sometimes I'm not so when I tell you what there's nothing to find the owner and I just found it on her last week for a small dog I found it it was no greater feeling cuz the man told me and told me I was up power that was daughter go was crying when she left so to be able to give her give them back that was no school I think we're somebody that didn't finish high school going on to college and graduating that's something that I take pride in though I don't show it or speak about it off yeah you look like my friend Rachel is funny vines that hair are you guys watching me over there that yes you can see in another look at that was fun. I swear that girl looks like a friend of mine it's that's weird PHQ_Score:\",\n",
       "  'target': ' 3'},\n",
       " {'input': \"Transcript: when it's always female yes I'm okay thank you I was born in East Los Angeles yes the freedom to explore outdoors with different weather temp out with weather temperature and climate to go skiing or to the beach may be in the same day I think probably the overcrowding and the smog I'm sure you can tell them not not frequently but I have meeting other people and learning about their environment and their cultures sure I'm the last trip I've taken outside of here was too heavily and that was my second time being there and I enjoyed it more this time because I knew what I wanted to say when I came back and and I was better prepared for Italians and their culturally I felt I wasn't isn't you know I was just better prepared I thought for that trip that would be being in the countryside and seeing a very tiny house in the mist of acres and acres and Acres of grapes with just magnificent human development I actually didn't decide it first to do that I started school with the intent of being a lactation consultant and I went to a program in which you could get a degree as well as get your license to become a lactation consultant and through the process I learned that I had to do a long internship without pay and at the time and I miss I had a family so I had to make a career choice quickly and so the college offered human development major and I just went right in and used my use my units that I had already acquired towards that particular major in and I'm happy with it I'm currently no I stay at home I have a little one is not so little I'm preparing to go back to work in the meantime I design jewelry well I have three children I have almost four-year-old and then I have two older children 17 and 23 no that your children that the love from them and for them is unconditional all the stages that they go through their stages all the time for every age and everybody in my household is all different because they're different ages so I think I'm probably more in tune with those different stages that's why it makes me crazy and I think that my parents the time that my parents were parents he was just kind of like you know is she fed is she dressed as a house I mean a roof over her head and we're doing greatest parents and we love her and so it wasn't there wasn't too much I felt that that parents thought about in terms of n terms of parenting in that way and like today you know there's books for every age every year month you know and so I think it difference differs in that way tremendously fairy clothes outgoing I don't I don't feel uninhibited I feel you know confident to talk to people I probably talk more than I need to I bead I do I design jewelry that's what I do to relax I'm pretty good II well I think I trying not to not to feel or let others know what my emotions are when I'm upset which is not good because if I don't do anything with them then I know that some point it's going to come out and yeah that that's something I have to work on like exercising or something hey with my husband and it was about he asked me whether I thought about cheating ever in our marriage on him I really tired of talking about that same topic well it came it spawned from a client of my husband's who's a female and she shared with him that she'd been cheating on her husband for like a year because she resented him for many things and so he took that information and came home and decided to ask me if I ever thought about it and what made me I think about cheating and he knows that I've been resentful of him and did that make me feel like it did that make me want to cheat or did I think about cheating and I we've had this conversation a lot of times and I mean not just that but I don't know just about cheating in general and so I just said what I normally said normally is that I haven't cheated in that I did think about that when we were first together and I thought it was just a mere thought and and then his response was I know that if we cheated on each other we would never tell one another and that just came out I guess irritated me I was really bothered by that and I just started liking you know we're having this conversation yet again and why are we having this conversation are you the one that's cheating and so that's how that that went into that argument I mean he wasn't yelling at me and was part conversation and part texting not talking at all pretty much any situation that involves my children and if I've yelled because I really don't like if I came to the point where I've had more of yelled it bothers me because I was yelled at a lot and I just feel bad about that and I try really hard to not handle any kind of situation that involves my children no matter how upset I might get and results and yelling tell me about the hardest that would probably be whether to keep a pregnancy or not yeah I am I was just talking about yesterday actually and I'll always pregnant and I had wanted I wasn't married yet and I had wanted to be married and but I just didn't think that it was the right time for me and I had pretty much made up my mind that I was not going to keep that pregnancy but I made the decision by myself and when my partner found discovered that I was pregnant he said that he very much wanted to have a child and wanted to marry me and so that decision was quite hard because I felt obligated to do so and felt super guilty to not and and earpiece Erica that was probably the hardest decision actually not know I wouldn't say that's the hardest decision I've ever had to make I'm sorry the hardest decision that I had to make in my life was whether or not the hospital should I unplug the life life support machine for my father or not that was our decision because I knew that the quality of life he wanted for himself was more than that and to have been to resort to the situation that he was in not capable of doing anything at all either speaking for himself was beyond who he was and I just couldn't see him like that anymore and he would be a vegetable I was told so I agreed to Amritsar. Not hardly ever too many things running in my mind and pretty much mostly on the weekends because my older kids are out and about with their friends even though I know that they're going to I mean I'm constantly worried about how they are when they come home and so I really can't fall asleep on the weekends most time but sometimes it's just been so many days of not getting good night sleep I'm just too exhausted I pass out but it's hard very stressed my son is is has been in dealing with some legal issues and currently is incarcerated and it's been really hard yes I've been probably very short Moody irritable well I often think about a lot of things that aren't even happy my mind just goes from when point A to point B and I don't even know how I got there now it's interesting yeah yes about 3 years ago my OBG suggested I I see a psychiatrist yes well I've in the process of changing therapist so it's been about because the program that I was in Lost funding and I lost my therapist. The therapist that I was working with and so it's been about two months maybe three now and but I did notice when I was in therapy. It was just an intricate part of my my life my week to see my therapist I really helped me cope when I picked up my son from when he was released from Gel I go get her probably you know should we use the term Hustler but meaning that I'll I'm not afraid to do a lot of different kinds of jobs to do what I need to do to support my family I mean you know legally of course outgoing maybe sometimes a little too for to outgoing for her and compassionate sensitive loyal all the things that remind me of my mother well yelling the yelling part was when just the little things that used to drive me so crazy I can see myself doing them and it bothers me a lot regarding what not too much really I don't know to go to college right after high school or not right and and that I didn't really need to be in a relationship to be happy that are that you don't have to be in a relationship to be happy that you can certainly be successful and not in a relationship and still be happy and live life what did I do I visit my son yesterday and that was really good I was happy that he was safe my children and my accomplishments in school and work bye purpavis tilted back and let came off okay maybe stopping it did not get got everything you needed PHQ_Score:\",\n",
       "  'target': ' 19'},\n",
       " {'input': \"Transcript: and please are you okay sure I'm okay small town outside of Cincinnati Ohio 3 years ago I want to see you compared to a small can I do for work grad school yeah trying to not easy people suck they're just different weather flashiness the how ridiculously Rich everybody is selfishness in people music how did you decide to do that I guess it's kind of like the only thing I love what's your dream job singing at the Metropolitan Opera pretty hard chai Star Wars happen not that okay what do you do when you're annoyed take a walk I'm okay 3 days ago just some dude cut me off while I was driving and I laid on my horn and he got pissed off and I got pissed off not really people don't relate to shouldn't their life they just wouldn't Pac-Man butt they don't do anything here so what's something you feel guilty about I don't know tell me about a situation that you wished you would handle different I could have done more to prepare and work a lot harder for the last set of a interviews I had in four just I don't know really really off my schedule my performing schedule in my Prep schedule just in terms of bringing like a piece of music to other people how do I get to spend like 12 hours a day working on stuff in training for the music button yeah you can always do more than that there's always something more you can do so my grass will Edition at Juilliard it was stressful just like the top 10 people of the past 50 years in your field and you're in a room for them and the weather love what you do or hate what you do pretty shity decided to not marry my fiance and pursue my career instead I don't know it's not bad fairly close I guess can't see your shoes a little bit and being in a different place went to San Diego a month-and-a-half ago still I don't know like the finishing High School glad to be leaving how easy is it for you to get a good night sleep not easy at all I can't sleep don't know everything works myself usual I just have a lot on my plate than a lot to do in order to do get where I want to be in be who I want to be so working harder clown through it I mean I never really sleep well so I don't know I don't I don't really know no enough for me yeah Isabel High School fish family made me can you tell me about that nothing to say really I don't know same should now just feeling kind of useless you still go to therapy now not for me literally has been cuz it started going to college then I have to nose really been going recently how did the feeling lately burdened tell me about the last time you felt really happy I started learning how to surf was pretty chill what made you decide to do that just like but he was doing it so if it shine ridiculous designing your address I'm being as far along as I wanted to be don't think about going to law school get a head start on studying music and things you wish you could change about your Micron a good 5 to 10 pounds of muscle I definitely want to be further along professionally and sleep more feel to turn my mind off more ideal weekend working training my dog thank you that was awkward computer PHQ_Score:\",\n",
       "  'target': ' 14'},\n",
       " {'input': \"Transcript: go ahead and start a camcorder recording and then your answer okay all right I'm not a therapist I'm pleased are you okay with this yes I am I'm fine and yourself where are you from originally I'm from Long Beach California I love the weather I love different things that La has to offer like food and different events that they always have especially during the summer months what are some things you don't really I hate the traffic you travel a lot yes I do I just love to experience new things this world has so many things to offer and I don't want to be juice in clothes in a box when there's so much out there that I can see I'd like to hear about one of your trips well one of my trips that stands out the most was when I went to his Israel that's pretty much where God was born and I got to see where the cross was where they laid his body after he was crucified so it was really am I opening experience which one of your most probably probably seeing where they sing the location where they had the cross where Jesus was crucified was was probably the most memorable experience I study criminal justice what are you doing now I do maintenance then it is located in West LA what's your dream my dream job honestly is to become a police officer you consider yourself more shy or outgoing when I was younger more shy but as I've gotten older I've grown out of that so now I consider myself more outgoing why I think that has come along with age because of with age comes more responsibility so you have to learn how to talk to people have to learn how to talk to different types of people and along with that the shyness kind of goes away by by default tell me about your relationship with your family oh man I can I honestly cannot ask for a better relationship with my family at all I have great parents I have great siblings I have four sisters everything about about them is great sometimes when I'm feeling I turn on the to relax honestly will my favorite music artist Sade so what I like to do is turn off the TV if it's hot out turn the fan on and I'll listen to some Sade how are you very well actually I don't have a temper I've never had a temper so it's I find it quite easy to control it whenever I find myself getting mad but since I don't have have a temper it's pretty easy to control it prop probably a week ago yeah I would say about a week ago and it was with one of my co-workers because they felt that I treated them differently than my other co-workers which will actually is not the case what's something you feel guilty about sometimes I feel guilty when I come into work a few minutes late but I sign in as if I sign in on time for work tell me about the hardest decision the hardest decision I've ever had to make was deciding whether or not if I wanted to join the military I change I would necessarily say I changed my mind but I was very curious about it but I wasn't sure but I made the decision to go even though it was scary but that honestly was probably my hardest decision to make tell me about an event or something that you wish you could have okay what event was when I was I was very little and the church that I was going to have the time they had they had set up this event where a bus will come and pick up all the all the kids and take him to Chuck E cheese what ended up happening was the bus never never like never showed up so we were sitting there for literally about an hour and a half closer to ours and the bus never showed up and everybody was heartbroken I know that's not really anything major but I mean I wish I could take take that away have you ever yes I have when I join the military I was 21 to be honest I wanted a change in my life I wanted something different I feel like the military would be a really great stepping stone just in life. As well as they they help me pretty much pay for school so that and plus I got I got to travel so and and you know like it's always a great opportunity to serve my country you know are you happy you did that I am very happy that I that I join the Navy yes did you ever see combat I did not see any combat honestly it was kind of a struggle it wasn't that easy at first easy well I mean it wasn't difficult but it was a struggle because it's two different Lifestyles you know the natrol the military and civilian lifestyles are two completely different lifestyle so it was a lot more freedom going back and trying to the most difficult part was trying to find a job because I had came out right when the economy crashed so that was the most difficult part of my transition to do after the military I went to school and I had a student job at the it changed me because I feel like it's giving me more driving life to go after the things that I want I feel like I'm slightly more and more discipline honestly I feel like after I join the military I speak up for myself a lot more often how have you been lately I've been feeling great I don't have any complaints I'm happy with my life so lately I've been feeling very happy and then satisfied that's good have you noticed any changes not necessarily in my thoughts but in my behavior I'm finding that I'm taking more of a initiative with work and you know I'm with my peers in my family how easy is it for you to get a good night sleep on a regular basis I find it pretty easy when I don't sleep well I'm not really different I just feel like I have a little less energy throughout the day but that's really the only difference I I'm I'm still the same person no I have not okay have you been diagnosed no I have not when was the last the last time I fell really happy was probably when I got my paycheck yesterday someone has been a positive influence in my life probably my father he's always putting me in the in in the right direction now I'm here he's always give me some great advice just about things of things in life in general you know so I can always go to him how do your best my best friend would describe me as funny outgoing nice sincere yeah something I've done recently that I've really enjoyed there is a a volleyball tournament down in Long Beach it was the the world series of beach volleyball and I enjoyed going to go into that because it was all free they gave out free food it was on TV it was on NBC I got I got to see Kerri Walsh so that made me really happy nice what are you most proud of what am I most proud of I'm most proud to say that I was in the military and I served my country thanks for sharing your thoughts thank you thank you and then you are free the other desk PHQ_Score:\",\n",
       "  'target': ' 0'}]"
      ]
     },
     "execution_count": 24,
     "metadata": {},
     "output_type": "execute_result"
    }
   ],
   "execution_count": 24
  },
  {
   "metadata": {
    "ExecuteTime": {
     "end_time": "2024-12-12T17:03:09.623548Z",
     "start_time": "2024-12-12T17:03:09.619271Z"
    }
   },
   "cell_type": "code",
   "source": [
    "formatted_training_dataset = pd.DataFrame(formatted_dataset)\n",
    "formatted_training_dataset"
   ],
   "outputs": [
    {
     "data": {
      "text/plain": [
       "                                                 input target\n",
       "0    Transcript: I'm going to bring up over to Huma...     12\n",
       "1    Transcript: looks like we may have okay I will...      3\n",
       "2    Transcript: when it's always female yes I'm ok...     19\n",
       "3    Transcript: and please are you okay sure I'm o...     14\n",
       "4    Transcript: go ahead and start a camcorder rec...      0\n",
       "..                                                 ...    ...\n",
       "102  Transcript: already okay great yes I'm feel gr...      4\n",
       "103  Transcript: I was that man when do I talk okay...      9\n",
       "104  Transcript: okie dokie yeah okay here we go I'...      5\n",
       "105  Transcript: hi I'm Ali thanks for coming in to...      1\n",
       "106  Transcript: yes get New Jersey 5 years ago tha...      0\n",
       "\n",
       "[107 rows x 2 columns]"
      ],
      "text/html": [
       "<div>\n",
       "<style scoped>\n",
       "    .dataframe tbody tr th:only-of-type {\n",
       "        vertical-align: middle;\n",
       "    }\n",
       "\n",
       "    .dataframe tbody tr th {\n",
       "        vertical-align: top;\n",
       "    }\n",
       "\n",
       "    .dataframe thead th {\n",
       "        text-align: right;\n",
       "    }\n",
       "</style>\n",
       "<table border=\"1\" class=\"dataframe\">\n",
       "  <thead>\n",
       "    <tr style=\"text-align: right;\">\n",
       "      <th></th>\n",
       "      <th>input</th>\n",
       "      <th>target</th>\n",
       "    </tr>\n",
       "  </thead>\n",
       "  <tbody>\n",
       "    <tr>\n",
       "      <th>0</th>\n",
       "      <td>Transcript: I'm going to bring up over to Huma...</td>\n",
       "      <td>12</td>\n",
       "    </tr>\n",
       "    <tr>\n",
       "      <th>1</th>\n",
       "      <td>Transcript: looks like we may have okay I will...</td>\n",
       "      <td>3</td>\n",
       "    </tr>\n",
       "    <tr>\n",
       "      <th>2</th>\n",
       "      <td>Transcript: when it's always female yes I'm ok...</td>\n",
       "      <td>19</td>\n",
       "    </tr>\n",
       "    <tr>\n",
       "      <th>3</th>\n",
       "      <td>Transcript: and please are you okay sure I'm o...</td>\n",
       "      <td>14</td>\n",
       "    </tr>\n",
       "    <tr>\n",
       "      <th>4</th>\n",
       "      <td>Transcript: go ahead and start a camcorder rec...</td>\n",
       "      <td>0</td>\n",
       "    </tr>\n",
       "    <tr>\n",
       "      <th>...</th>\n",
       "      <td>...</td>\n",
       "      <td>...</td>\n",
       "    </tr>\n",
       "    <tr>\n",
       "      <th>102</th>\n",
       "      <td>Transcript: already okay great yes I'm feel gr...</td>\n",
       "      <td>4</td>\n",
       "    </tr>\n",
       "    <tr>\n",
       "      <th>103</th>\n",
       "      <td>Transcript: I was that man when do I talk okay...</td>\n",
       "      <td>9</td>\n",
       "    </tr>\n",
       "    <tr>\n",
       "      <th>104</th>\n",
       "      <td>Transcript: okie dokie yeah okay here we go I'...</td>\n",
       "      <td>5</td>\n",
       "    </tr>\n",
       "    <tr>\n",
       "      <th>105</th>\n",
       "      <td>Transcript: hi I'm Ali thanks for coming in to...</td>\n",
       "      <td>1</td>\n",
       "    </tr>\n",
       "    <tr>\n",
       "      <th>106</th>\n",
       "      <td>Transcript: yes get New Jersey 5 years ago tha...</td>\n",
       "      <td>0</td>\n",
       "    </tr>\n",
       "  </tbody>\n",
       "</table>\n",
       "<p>107 rows × 2 columns</p>\n",
       "</div>"
      ]
     },
     "execution_count": 25,
     "metadata": {},
     "output_type": "execute_result"
    }
   ],
   "execution_count": 25
  },
  {
   "metadata": {
    "ExecuteTime": {
     "end_time": "2024-12-12T17:14:07.387536Z",
     "start_time": "2024-12-12T17:14:07.376563Z"
    }
   },
   "cell_type": "code",
   "source": [
    "import torch\n",
    "from transformers import GPT2Tokenizer, GPT2LMHeadModel\n",
    "from mingpt.model import GPT\n",
    "from mingpt.bpe import BPETokenizer\n",
    "from mingpt.utils import set_seed\n",
    "\n",
    "# Set up seed for reproducibility\n",
    "set_seed(3407)\n",
    "\n",
    "# Define whether to use minGPT or Hugging Face's transformers\n",
    "use_mingpt = True  # Toggle between minGPT and Hugging Face\n",
    "model_type = 'gpt2'  # Choose a GPT model size\n",
    "device = 'cuda' if torch.cuda.is_available() else 'cpu'\n",
    "\n",
    "print(device)\n",
    "\n",
    "# Load the model\n",
    "\n",
    "# model = GPT.from_pretrained(model_type)\n",
    "# tokenizer = BPETokenizer()  # minGPT tokenizer\n",
    "model = GPT2LMHeadModel.from_pretrained(model_type)\n",
    "tokenizer = GPT2Tokenizer.from_pretrained(model_type)\n",
    "model.config.pad_token_id = model.config.eos_token_id\n",
    "# Suppress warnings\n",
    "\n",
    "# Move model to device and set it to evaluation mode\n",
    "model.to(device)\n",
    "model.eval()\n"
   ],
   "outputs": [
    {
     "ename": "ImportError",
     "evalue": "cannot import name 'GPTConfig' from 'mingpt.model' (/Users/calebkumar/Desktop/Desktop_Calebs_Pro/coding/ml/Mitigating-socio-demographic-bias/code/minGPT/mingpt/model.py)",
     "output_type": "error",
     "traceback": [
      "\u001B[0;31m---------------------------------------------------------------------------\u001B[0m",
      "\u001B[0;31mImportError\u001B[0m                               Traceback (most recent call last)",
      "Cell \u001B[0;32mIn[51], line 5\u001B[0m\n\u001B[1;32m      3\u001B[0m \u001B[38;5;28;01mimport\u001B[39;00m \u001B[38;5;21;01mtorch\u001B[39;00m\n\u001B[1;32m      4\u001B[0m \u001B[38;5;28;01mfrom\u001B[39;00m \u001B[38;5;21;01mtransformers\u001B[39;00m \u001B[38;5;28;01mimport\u001B[39;00m AutoTokenizer\n\u001B[0;32m----> 5\u001B[0m \u001B[38;5;28;01mfrom\u001B[39;00m \u001B[38;5;21;01mmingpt\u001B[39;00m\u001B[38;5;21;01m.\u001B[39;00m\u001B[38;5;21;01mmodel\u001B[39;00m \u001B[38;5;28;01mimport\u001B[39;00m GPT, GPTConfig\n",
      "\u001B[0;31mImportError\u001B[0m: cannot import name 'GPTConfig' from 'mingpt.model' (/Users/calebkumar/Desktop/Desktop_Calebs_Pro/coding/ml/Mitigating-socio-demographic-bias/code/minGPT/mingpt/model.py)"
     ]
    }
   ],
   "execution_count": 51
  },
  {
   "metadata": {
    "ExecuteTime": {
     "end_time": "2024-12-12T17:11:19.012252Z",
     "start_time": "2024-12-12T17:11:18.535196Z"
    }
   },
   "cell_type": "code",
   "source": [
    "\n",
    "def generate(prompt='', num_samples=10, steps=20, do_sample=True):\n",
    "\n",
    "    # tokenize the input prompt into integer input sequence\n",
    "    if use_mingpt:\n",
    "        tokenizer = BPETokenizer()\n",
    "        if prompt == '':\n",
    "            # to create unconditional samples...\n",
    "            # manually create a tensor with only the special <|endoftext|> token\n",
    "            # similar to what openai's code does here https://github.com/openai/gpt-2/blob/master/src/generate_unconditional_samples.py\n",
    "            x = torch.tensor([[tokenizer.encoder.encoder['<|endoftext|>']]], dtype=torch.long)\n",
    "        else:\n",
    "            x = tokenizer(prompt).to(device)\n",
    "    else:\n",
    "        tokenizer = GPT2Tokenizer.from_pretrained(model_type)\n",
    "        if prompt == '':\n",
    "            # to create unconditional samples...\n",
    "            # huggingface/transformers tokenizer special cases these strings\n",
    "            prompt = '<|endoftext|>'\n",
    "        encoded_input = tokenizer(prompt, return_tensors='pt').to(device)\n",
    "        x = encoded_input['input_ids']\n",
    "\n",
    "    # we'll process all desired num_samples in a batch, so expand out the batch dim\n",
    "    x = x.expand(num_samples, -1)\n",
    "\n",
    "    # forward the model `steps` times to get samples, in a batch\n",
    "    y = model.generate(x, max_new_tokens=steps, do_sample=do_sample, top_k=40)\n",
    "\n",
    "    for i in range(num_samples):\n",
    "        out = tokenizer.decode(y[i].cpu().squeeze())\n",
    "        print('-'*80)\n",
    "        print(out)\n"
   ],
   "outputs": [],
   "execution_count": 48
  },
  {
   "metadata": {
    "ExecuteTime": {
     "end_time": "2024-12-12T17:18:10.172707Z",
     "start_time": "2024-12-12T17:18:10.167944Z"
    }
   },
   "cell_type": "code",
   "source": [
    "task_prompt = \"\"\"\n",
    "Below are examples of transcripts and their corresponding PHQ scores:\n",
    "\n",
    "Transcript: \"I feel hopeless and have no energy.\" PHQ Score: 15\n",
    "Transcript: \"I'm managing okay, but sometimes I feel a little anxious.\" PHQ Score: 7\n",
    "Transcript: \"I can't stop crying and don't want to get out of bed.\" PHQ Score: 18\n",
    "\n",
    "Now, classify the following transcript:\n",
    "Transcript: \"I’ve been having trouble sleeping and feeling down.\" Give me your quess PHQ Score:\n",
    "\"\"\"\n",
    "\n",
    "# Generate prediction\n",
    "predictions = generate(prompt=\"Hello\", num_samples=1, steps=50)"
   ],
   "outputs": [],
   "execution_count": 52
  },
  {
   "metadata": {},
   "cell_type": "code",
   "outputs": [],
   "execution_count": null,
   "source": ""
  }
 ],
 "metadata": {
  "kernelspec": {
   "display_name": "base",
   "language": "python",
   "name": "python3"
  },
  "language_info": {
   "codemirror_mode": {
    "name": "ipython",
    "version": 3
   },
   "file_extension": ".py",
   "mimetype": "text/x-python",
   "name": "python",
   "nbconvert_exporter": "python",
   "pygments_lexer": "ipython3",
   "version": "3.11.7"
  }
 },
 "nbformat": 4,
 "nbformat_minor": 4
}
