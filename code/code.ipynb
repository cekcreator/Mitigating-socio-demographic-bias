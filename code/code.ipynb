{
 "cells": [
  {
   "cell_type": "code",
   "execution_count": 3,
   "metadata": {},
   "outputs": [],
   "source": [
    "import warnings\n",
    "warnings.filterwarnings('ignore')\n",
    "\n",
    "import os\n",
    "import sys\n",
    "import time\n",
    "\n",
    "import pandas as pd\n",
    "import numpy as np\n",
    "import matplotlib.pyplot as plt\n",
    "\n",
    "import tensorflow as tf"
   ]
  },
  {
   "cell_type": "code",
   "execution_count": null,
   "metadata": {},
   "outputs": [
    {
     "data": {
      "text/html": [
       "<div>\n",
       "<style scoped>\n",
       "    .dataframe tbody tr th:only-of-type {\n",
       "        vertical-align: middle;\n",
       "    }\n",
       "\n",
       "    .dataframe tbody tr th {\n",
       "        vertical-align: top;\n",
       "    }\n",
       "\n",
       "    .dataframe thead th {\n",
       "        text-align: right;\n",
       "    }\n",
       "</style>\n",
       "<table border=\"1\" class=\"dataframe\">\n",
       "  <thead>\n",
       "    <tr style=\"text-align: right;\">\n",
       "      <th></th>\n",
       "      <th>Participant_ID</th>\n",
       "      <th>PHQ_Score</th>\n",
       "    </tr>\n",
       "  </thead>\n",
       "  <tbody>\n",
       "    <tr>\n",
       "      <th>0</th>\n",
       "      <td>300</td>\n",
       "      <td>2</td>\n",
       "    </tr>\n",
       "    <tr>\n",
       "      <th>1</th>\n",
       "      <td>301</td>\n",
       "      <td>3</td>\n",
       "    </tr>\n",
       "    <tr>\n",
       "      <th>2</th>\n",
       "      <td>302</td>\n",
       "      <td>4</td>\n",
       "    </tr>\n",
       "    <tr>\n",
       "      <th>3</th>\n",
       "      <td>303</td>\n",
       "      <td>0</td>\n",
       "    </tr>\n",
       "    <tr>\n",
       "      <th>4</th>\n",
       "      <td>304</td>\n",
       "      <td>6</td>\n",
       "    </tr>\n",
       "  </tbody>\n",
       "</table>\n",
       "</div>"
      ],
      "text/plain": [
       "   Participant_ID  PHQ_Score\n",
       "0             300          2\n",
       "1             301          3\n",
       "2             302          4\n",
       "3             303          0\n",
       "4             304          6"
      ]
     },
     "execution_count": 14,
     "metadata": {},
     "output_type": "execute_result"
    }
   ],
   "source": [
    "interview_data = pd.read_excel(\n",
    "    \"../data/DAIC_demographic_data.xlsx\",\n",
    "    sheet_name=\"Interview_Data\",\n",
    "    skiprows=lambda x: x == 1,\n",
    ")\n",
    "# interview_data.head()\n",
    "\n",
    "phq_score = pd.read_excel(\n",
    "    \"../data/DAIC_demographic_data.xlsx\",\n",
    "    sheet_name=\"Metadata_mapping\"\n",
    ")\n",
    "\n",
    "# phq_score.head()"
   ]
  },
  {
   "cell_type": "markdown",
   "metadata": {},
   "source": [
    "The following step was a workaround to prevent the end of file error due to unclosed inverted commas. What the code is doing - opening and reading each file, reading each line and checking for lines that start with \" but does not end with \" (i.e., checking for unclosed quotes)."
   ]
  },
  {
   "cell_type": "code",
   "execution_count": null,
   "metadata": {},
   "outputs": [],
   "source": [
    "# preprocessing the csv files to remove the unclosed inverted commas\n",
    "\n",
    "\n",
    "def clean_csv(file_path, output_path):\n",
    "    with open(file_path, \"r\") as infile, open(output_path, \"w\") as outfile:\n",
    "        for line in infile:\n",
    "            if line.startswith('\"') and not line.endswith('\"\\n'):\n",
    "                line = line[1:]\n",
    "            outfile.write(line)\n",
    "\n",
    "\n",
    "def process_directory(input_dir, output_dir):\n",
    "    if not os.path.exists(output_dir):\n",
    "        os.makedirs(output_dir)\n",
    "\n",
    "    for filename in os.listdir(input_dir):\n",
    "        if filename.endswith(\".csv\"):\n",
    "            input_path = os.path.join(input_dir, filename)\n",
    "            output_path = os.path.join(output_dir, filename)\n",
    "            clean_csv(input_path, output_path)\n",
    "\n",
    "input_dir = \"../data/E-DAIC_Transcripts\"\n",
    "output_dir = \"../data/E-DAIC_Transcripts_cleaned\"\n",
    "\n",
    "process_directory(input_dir, output_dir)"
   ]
  },
  {
   "cell_type": "code",
   "execution_count": 31,
   "metadata": {},
   "outputs": [
    {
     "data": {
      "text/html": [
       "<div>\n",
       "<style scoped>\n",
       "    .dataframe tbody tr th:only-of-type {\n",
       "        vertical-align: middle;\n",
       "    }\n",
       "\n",
       "    .dataframe tbody tr th {\n",
       "        vertical-align: top;\n",
       "    }\n",
       "\n",
       "    .dataframe thead th {\n",
       "        text-align: right;\n",
       "    }\n",
       "</style>\n",
       "<table border=\"1\" class=\"dataframe\">\n",
       "  <thead>\n",
       "    <tr style=\"text-align: right;\">\n",
       "      <th></th>\n",
       "      <th>Text</th>\n",
       "    </tr>\n",
       "  </thead>\n",
       "  <tbody>\n",
       "    <tr>\n",
       "      <th>0</th>\n",
       "      <td>might have pulled something that</td>\n",
       "    </tr>\n",
       "    <tr>\n",
       "      <th>1</th>\n",
       "      <td>I'm going to bring the great thanks so much</td>\n",
       "    </tr>\n",
       "    <tr>\n",
       "      <th>2</th>\n",
       "      <td>and please</td>\n",
       "    </tr>\n",
       "    <tr>\n",
       "      <th>3</th>\n",
       "      <td>are you okay with this yes</td>\n",
       "    </tr>\n",
       "    <tr>\n",
       "      <th>4</th>\n",
       "      <td>oh I'm fine I'm a little tired but I found ou...</td>\n",
       "    </tr>\n",
       "    <tr>\n",
       "      <th>...</th>\n",
       "      <td>...</td>\n",
       "    </tr>\n",
       "    <tr>\n",
       "      <th>76</th>\n",
       "      <td>yeah well after college people usually many p...</td>\n",
       "    </tr>\n",
       "    <tr>\n",
       "      <th>77</th>\n",
       "      <td>thank you goodbye</td>\n",
       "    </tr>\n",
       "    <tr>\n",
       "      <th>78</th>\n",
       "      <td>oh that was that was fast</td>\n",
       "    </tr>\n",
       "    <tr>\n",
       "      <th>79</th>\n",
       "      <td>but I didn't never said there wasn't any like...</td>\n",
       "    </tr>\n",
       "    <tr>\n",
       "      <th>80</th>\n",
       "      <td>never know I guess</td>\n",
       "    </tr>\n",
       "  </tbody>\n",
       "</table>\n",
       "<p>81 rows × 1 columns</p>\n",
       "</div>"
      ],
      "text/plain": [
       "                                                 Text\n",
       "0                    might have pulled something that\n",
       "1         I'm going to bring the great thanks so much\n",
       "2                                          and please\n",
       "3                          are you okay with this yes\n",
       "4    oh I'm fine I'm a little tired but I found ou...\n",
       "..                                                ...\n",
       "76   yeah well after college people usually many p...\n",
       "77                                  thank you goodbye\n",
       "78                          oh that was that was fast\n",
       "79   but I didn't never said there wasn't any like...\n",
       "80                                 never know I guess\n",
       "\n",
       "[81 rows x 1 columns]"
      ]
     },
     "execution_count": 31,
     "metadata": {},
     "output_type": "execute_result"
    }
   ],
   "source": [
    "cleaned_transcripts_path = \"../data/E-DAIC_Transcripts_cleaned\"\n",
    "\n",
    "transcripts = {}\n",
    "\n",
    "# loop through each file in the folder, load it, and store the content\n",
    "for filename in os.listdir(cleaned_transcripts_path):\n",
    "    if filename.endswith(\"_Transcript.csv\"):\n",
    "        participant_id = filename.split(\"_\")[0] # extract the participant id\n",
    "        file_path = os.path.join(cleaned_transcripts_path, filename)\n",
    "\n",
    "        df = pd.read_csv(file_path)\n",
    "        transcripts[participant_id] = df\n",
    "\n",
    "# transcripts\n",
    "transcripts[\"386\"]"
   ]
  },
  {
   "cell_type": "code",
   "execution_count": null,
   "metadata": {},
   "outputs": [
    {
     "data": {
      "text/plain": [
       "\"might have pulled something that I'm going to bring the great thanks so much and please are you okay with this yes oh I'm fine I'm a little tired but I found out my thyroid is I think acting up so where are you from originally I was born in Canada but I've lived in California most of my life so and it's gray today too so the gray weather makes you kind of see no sluggish oh my gosh years and years ago not at all I don't think I can text to her for a long time well the air fares have gone up quite a bit in the last few years gas prices have gone up so travel as much as it's a fun thing to do it's cost-prohibitive so oh that's see everything has plus and minuses cold-weather not as much sun so I think I'd prefer getting more sun and having the warm-weather so but other than that it's it's very pretty back their natural scenery in but I like it here you know the traffic is kind of heavy but that's a small thing to deal with why did I move to LA because my family came here and started to my dad got a job here and thus became our home base and that's why easy very easy sew well in high school you generally study General Ed they have designated courses and then after that went to college and I was a business major let's say I was a Veterinary major and I graduated with a degree in Liberal Arts so I don't know can't really pinpoint I was working in Social Services but I've also worked in sales and most recently I'm doing real estate I mean everything has plus and minuses it's it's okay it's not I don't really see too many negatives oh probably to work as a gossip columnist it TMZ or one of those networks but as you know everything in the entertainment business is very competitive it's who you know so but that would be my dream job or probably working with cats you know animals so I'm very outgoing in fact I think I'm so echoing I scare people sometimes there's a lot of quiet you know Reserve people out there so I'm kind of East Coast very you know I go up to people and talk to them first social sometimes when I'm feeling 10 I turn on the fish tank screensaver oh my gosh there's I could do hundreds of things I could read I could watch a show turn on the music music is great take a walk call my friends million things so I'm pretty good I'm very good I mean you know of course when you're driving in LA and somebody cuts in front of you sometimes I can be irritating but I'm I'm actually pretty I'm not the type of person that will fighter jet I don't like to have confrontations so I can't really remember so that's why I said there's not very many arguments usually I avoid arguments at any cost so do you feel guilty about I don't really feel guilty about anything right now or that I can think of I can't think of anything right now I really can't think of any decisions that were really hard I mean most of it's pretty easy for make me to make a decision so I don't have a family so if I have to you know I had to moves to San Francisco for a job once but since I'm single it's I don't really have to consider other people and children and that type of thing so kind of makes certain things easier when you don't have other family to consider yeah in advance well obviously you don't you know the passing of a family member you know you wish everybody could be around forever so I know when my father died you know I mean I wish I would have had him for a lot longer and he died at the age of 77 and you know what have been nice to have him around a little bit more but you know I can't control those things life has its own way of dealing with that yes there are Yin and Yang that's ancient philosophy and it really applies here is pluses and minuses the negatives and positives so well like I said my dad's no longer here and my mother and I you know we have our differences I think mothers and daughters always do my brother and I get along great I see him a lot my sister works a lot I see her and you know we talked and she's kind of got her own life and her children I get along great with them so we have a small family once again it's like that's a hard question to answer there's so many types of kids up there I think majority of them seem to be pretty well-behaved I mean you know there's always going to be children that are cut out of control but I don't know the ones that I've seen recently the very well behaved so can't say much else about that well I live in an apartment and I don't know if you've ever lived in apartment but there's someone that lives above me I'm on the first floor and there's somebody on the second floor and they're pretty quiet but they have a habit of I guess they have lots of energy they usually will take their showers around midnight and sometimes I'll start washing laundry at midnight and of course the pipes run through the bedroom wall so it sounds like Niagara Falls and they are and so I don't ya and I need 8 hours of sleep and I've only been getting oh I'd say like maybe 6 hours and then I usually wake up once at night take a sometimes they'll kind of around 2 or 3 in the morning go either walk around or I'll hear something so I'm not getting a straight 8 hours of sleep and it's definitely but there's not like I said there's things you can't control when you live in an apartment you know I means that the ladies look very quiet it just that she has a habit of you know taking later showers question close at night that's I can't say anything to her about that yeah but you know there's people that are in worse situations so I don't make a lot out of it you know and I just it's not like every night but it's you know at least twice a week so you know I have to consider sleeping in another room but for now you know that's I'll deal with it so tired very tired and hard to focus hard to concentrate it just takes me longer to get things done cuz I don't have my energy also I haven't been exercising I normally try to walk about half an hour a day but the weather's been kind of colder and kind of dreary or so you know I'm not as motivated when the weather is kind of blah so it's a combination of both not getting my exercise not getting 8 hours sleep how you been feeling lately as I said before tire has a combination of the weather you know I'm here in Los Angeles right now we have been having very gray days I live very close to the ocean so the sun doesn't come out that much so I'm not getting my serotonin I need that I am I getting my 8 hours of sleep because you know whatever and I think my thyroid is acting up too so that's kind of creating you know I have some vitamin deficiencies and you know once the Sun comes out I'm kind of more energetic it just gives you that more energy have you ever been diagnosed with p no no I hope I'm happy most of the time I'm a pretty happy person and I like to be around other people I mean of course I like my private time but I do like being around people quite a bit so can't think of anything right now I mean I usually enjoy everything I do there's nothing that stands out more than anything else okay is there anything you regret know I never regret anything what advice would I have given well I guess yeah I could probably change things around I think it everybody could I probably would have had a different college major in a seems like what else I probably wouldn't have dated certain waste of time with certain people I don't know those are them things that come to mind maybe started saving money earlier you know those types of things but how your best friend in Spanish outgoing lots of fun to be with just a good friend to have people like having me for a friend I'm loyal trusting and I listen I'm a good listener I'm very patient as well so what are some things you wish you could change about yourself well I never wanted me to lose weight but I think that's a worldwide problem I mean there's a lot of food around and temptations and especially here in America a lot of us are couch potatoes we sit in front of our computers we you know it's just easy to real it's so easy to relax you know it's hard to get up and move around you have to talk yourself into it so that's the way that you know house gives you more energy to if you lose weight so that's a big thing as well but that's probably the thing just the weight thing you I understand how do your best friend describe you I think you might have asked me that question before her but if you want I'll repeat it so I'm very like I said I'm very loyal when I tell people I'm going to do something I do it very reliable I am warm I'm very friendly great listener and I mean I've heard so many people tell me they just like being with me so like I said I'm very I'm pretty upbeat you know I'm don't let things get me down too much so how have in your life that's a hard question that can't think I mean I'm can't think of the answer that way so 4fun well I love movies so I could see every movie that they make I love going out with my friends shopping swap meets my gosh and traveling is great road trips that's kind of we know part of it yeah that I mentioned so traveling getting to see different places the history aspect of it the foods and joined Foods in different countries the architecture it's just kind of need to get away and see a completely different place okay well I've been to a lot of places in Europe I love Paris is such a walking City you can whoever designed that City I'll tell you I mean it's you can get from one point to another the Subways are great each area has its own distinctive kind of there's the Latin quarter where the students are there is another area where let's say the fashion designers are kind of like our Rodeo Drive here in Beverly Hills there's an area that is more African and they have swap meets in the weekends that are wonderful is for international and then like I said when she get out of Paris there's just so much history you can go see Versailles there's other palaces you can go to the south of France you know but that's probably my favorite country I've been to Italy as well so yeah well after college people usually many people that go to college or either before or after college that's a great time to go to Europe because you're young and you're not tied down you don't have a family and you kind of have a more adventuresome Spirit you got more energy so carrying you know backpack or suitcases it's not not a big deal so yeah that's thank you goodbye oh that was that was fast but I didn't never said there wasn't any like shocking question never know I guess\""
      ]
     },
     "execution_count": 34,
     "metadata": {},
     "output_type": "execute_result"
    }
   ],
   "source": [
    "# combine all the text data for each participant into a single string\n",
    "combined_transcripts = {}\n",
    "\n",
    "for participant_id, transcript in transcripts.items():\n",
    "    combined_transcripts[participant_id] = \" \".join(transcript[\"Text\"].astype(str))\n",
    "\n",
    "# removing extra spaces caused by newlines\n",
    "for participant_id, transcript in combined_transcripts.items():\n",
    "    combined_transcripts[participant_id] = \" \".join(transcript.split())\n",
    "\n",
    "# combined_transcripts[\"386\"]"
   ]
  },
  {
   "cell_type": "markdown",
   "metadata": {},
   "source": [
    "## Extracting Language Features\n",
    "### _CountVectorizer_"
   ]
  },
  {
   "cell_type": "code",
   "execution_count": 36,
   "metadata": {},
   "outputs": [
    {
     "name": "stdout",
     "output_type": "stream",
     "text": [
      "Shape of the feature: (190, 8702)\n",
      "['00' '02' '04' ... 'zuma' 'zurich' 'zz']\n"
     ]
    }
   ],
   "source": [
    "from sklearn.feature_extraction.text import CountVectorizer\n",
    "\n",
    "count_vectorizer = CountVectorizer()\n",
    "count_features = count_vectorizer.fit_transform(combined_transcripts.values())\n",
    "\n",
    "print(f\"Shape of the feature: {count_features.shape}\")\n",
    "\n",
    "count_feature_names = count_vectorizer.get_feature_names_out()\n",
    "print(count_feature_names)"
   ]
  },
  {
   "cell_type": "markdown",
   "metadata": {},
   "source": [
    "The row in the `shape` attribute represents the number of documents - in our case, we have $190$ transcripts, which matches with the output. The column value is the number of unique words in the vocabulary. In our case, we have $8702$ unique words, which is shown by the array printed at the end."
   ]
  },
  {
   "cell_type": "code",
   "execution_count": 41,
   "metadata": {},
   "outputs": [
    {
     "name": "stdout",
     "output_type": "stream",
     "text": [
      "Word frequency:\n",
      "and             8170\n",
      "to              7149\n",
      "the             6051\n",
      "that            5181\n",
      "it              4646\n",
      "                ... \n",
      "incorporate        1\n",
      "inconsistent       1\n",
      "included           1\n",
      "incidents          1\n",
      "zz                 1\n",
      "Length: 8702, dtype: int64\n"
     ]
    }
   ],
   "source": [
    "# checking the frequency of the words\n",
    "\n",
    "# converting the token count matrix to a dataframe for easy manipulation\n",
    "count_df = pd.DataFrame(count_features.toarray(), columns=count_feature_names)\n",
    "\n",
    "word_counts = count_df.sum(axis=0)\n",
    "\n",
    "word_counts = word_counts.sort_values(ascending=False)\n",
    "print(f\"Word frequency:\\n{word_counts}\")"
   ]
  },
  {
   "cell_type": "markdown",
   "metadata": {},
   "source": [
    "### _TF-IDF Vectorizer_"
   ]
  },
  {
   "cell_type": "code",
   "execution_count": null,
   "metadata": {},
   "outputs": [],
   "source": []
  }
 ],
 "metadata": {
  "kernelspec": {
   "display_name": "jupyter_notebook",
   "language": "python",
   "name": "python3"
  },
  "language_info": {
   "codemirror_mode": {
    "name": "ipython",
    "version": 3
   },
   "file_extension": ".py",
   "mimetype": "text/x-python",
   "name": "python",
   "nbconvert_exporter": "python",
   "pygments_lexer": "ipython3",
   "version": "3.12.6"
  }
 },
 "nbformat": 4,
 "nbformat_minor": 2
}
